{
 "cells": [
  {
   "cell_type": "markdown",
   "metadata": {},
   "source": [
    "# A statistical freshener of Titanic data"
   ]
  },
  {
   "cell_type": "code",
   "execution_count": 1,
   "metadata": {},
   "outputs": [],
   "source": [
    "#Import libraries\n",
    "import math\n",
    "import string\n",
    "import random\n",
    "import decimal\n",
    "import statistics\n",
    "import numpy as np\n",
    "import pandas as pd\n",
    "import matplotlib.pyplot as plt\n",
    "import seaborn as sns; sns.set()\n",
    "from sklearn.preprocessing import Imputer"
   ]
  },
  {
   "cell_type": "code",
   "execution_count": 2,
   "metadata": {},
   "outputs": [],
   "source": [
    "GS = pd.read_csv('gender_submission.csv')\n",
    "TRAIN = pd.read_csv('train.csv')\n",
    "TEST = pd.read_csv('test.csv')"
   ]
  },
  {
   "cell_type": "code",
   "execution_count": 3,
   "metadata": {},
   "outputs": [
    {
     "data": {
      "text/html": [
       "<div>\n",
       "<style scoped>\n",
       "    .dataframe tbody tr th:only-of-type {\n",
       "        vertical-align: middle;\n",
       "    }\n",
       "\n",
       "    .dataframe tbody tr th {\n",
       "        vertical-align: top;\n",
       "    }\n",
       "\n",
       "    .dataframe thead th {\n",
       "        text-align: right;\n",
       "    }\n",
       "</style>\n",
       "<table border=\"1\" class=\"dataframe\">\n",
       "  <thead>\n",
       "    <tr style=\"text-align: right;\">\n",
       "      <th></th>\n",
       "      <th>PassengerId</th>\n",
       "      <th>Survived</th>\n",
       "    </tr>\n",
       "  </thead>\n",
       "  <tbody>\n",
       "    <tr>\n",
       "      <th>0</th>\n",
       "      <td>892</td>\n",
       "      <td>0</td>\n",
       "    </tr>\n",
       "    <tr>\n",
       "      <th>1</th>\n",
       "      <td>893</td>\n",
       "      <td>1</td>\n",
       "    </tr>\n",
       "    <tr>\n",
       "      <th>2</th>\n",
       "      <td>894</td>\n",
       "      <td>0</td>\n",
       "    </tr>\n",
       "    <tr>\n",
       "      <th>3</th>\n",
       "      <td>895</td>\n",
       "      <td>0</td>\n",
       "    </tr>\n",
       "    <tr>\n",
       "      <th>4</th>\n",
       "      <td>896</td>\n",
       "      <td>1</td>\n",
       "    </tr>\n",
       "  </tbody>\n",
       "</table>\n",
       "</div>"
      ],
      "text/plain": [
       "   PassengerId  Survived\n",
       "0          892         0\n",
       "1          893         1\n",
       "2          894         0\n",
       "3          895         0\n",
       "4          896         1"
      ]
     },
     "execution_count": 3,
     "metadata": {},
     "output_type": "execute_result"
    }
   ],
   "source": [
    "GS.head()"
   ]
  },
  {
   "cell_type": "code",
   "execution_count": 4,
   "metadata": {},
   "outputs": [
    {
     "data": {
      "text/html": [
       "<div>\n",
       "<style scoped>\n",
       "    .dataframe tbody tr th:only-of-type {\n",
       "        vertical-align: middle;\n",
       "    }\n",
       "\n",
       "    .dataframe tbody tr th {\n",
       "        vertical-align: top;\n",
       "    }\n",
       "\n",
       "    .dataframe thead th {\n",
       "        text-align: right;\n",
       "    }\n",
       "</style>\n",
       "<table border=\"1\" class=\"dataframe\">\n",
       "  <thead>\n",
       "    <tr style=\"text-align: right;\">\n",
       "      <th></th>\n",
       "      <th>PassengerId</th>\n",
       "      <th>Survived</th>\n",
       "      <th>Pclass</th>\n",
       "      <th>Name</th>\n",
       "      <th>Sex</th>\n",
       "      <th>Age</th>\n",
       "      <th>SibSp</th>\n",
       "      <th>Parch</th>\n",
       "      <th>Ticket</th>\n",
       "      <th>Fare</th>\n",
       "      <th>Cabin</th>\n",
       "      <th>Embarked</th>\n",
       "    </tr>\n",
       "  </thead>\n",
       "  <tbody>\n",
       "    <tr>\n",
       "      <th>0</th>\n",
       "      <td>1</td>\n",
       "      <td>0</td>\n",
       "      <td>3</td>\n",
       "      <td>Braund, Mr. Owen Harris</td>\n",
       "      <td>male</td>\n",
       "      <td>22.0</td>\n",
       "      <td>1</td>\n",
       "      <td>0</td>\n",
       "      <td>A/5 21171</td>\n",
       "      <td>7.2500</td>\n",
       "      <td>NaN</td>\n",
       "      <td>S</td>\n",
       "    </tr>\n",
       "    <tr>\n",
       "      <th>1</th>\n",
       "      <td>2</td>\n",
       "      <td>1</td>\n",
       "      <td>1</td>\n",
       "      <td>Cumings, Mrs. John Bradley (Florence Briggs Th...</td>\n",
       "      <td>female</td>\n",
       "      <td>38.0</td>\n",
       "      <td>1</td>\n",
       "      <td>0</td>\n",
       "      <td>PC 17599</td>\n",
       "      <td>71.2833</td>\n",
       "      <td>C85</td>\n",
       "      <td>C</td>\n",
       "    </tr>\n",
       "    <tr>\n",
       "      <th>2</th>\n",
       "      <td>3</td>\n",
       "      <td>1</td>\n",
       "      <td>3</td>\n",
       "      <td>Heikkinen, Miss. Laina</td>\n",
       "      <td>female</td>\n",
       "      <td>26.0</td>\n",
       "      <td>0</td>\n",
       "      <td>0</td>\n",
       "      <td>STON/O2. 3101282</td>\n",
       "      <td>7.9250</td>\n",
       "      <td>NaN</td>\n",
       "      <td>S</td>\n",
       "    </tr>\n",
       "    <tr>\n",
       "      <th>3</th>\n",
       "      <td>4</td>\n",
       "      <td>1</td>\n",
       "      <td>1</td>\n",
       "      <td>Futrelle, Mrs. Jacques Heath (Lily May Peel)</td>\n",
       "      <td>female</td>\n",
       "      <td>35.0</td>\n",
       "      <td>1</td>\n",
       "      <td>0</td>\n",
       "      <td>113803</td>\n",
       "      <td>53.1000</td>\n",
       "      <td>C123</td>\n",
       "      <td>S</td>\n",
       "    </tr>\n",
       "    <tr>\n",
       "      <th>4</th>\n",
       "      <td>5</td>\n",
       "      <td>0</td>\n",
       "      <td>3</td>\n",
       "      <td>Allen, Mr. William Henry</td>\n",
       "      <td>male</td>\n",
       "      <td>35.0</td>\n",
       "      <td>0</td>\n",
       "      <td>0</td>\n",
       "      <td>373450</td>\n",
       "      <td>8.0500</td>\n",
       "      <td>NaN</td>\n",
       "      <td>S</td>\n",
       "    </tr>\n",
       "  </tbody>\n",
       "</table>\n",
       "</div>"
      ],
      "text/plain": [
       "   PassengerId  Survived  Pclass  \\\n",
       "0            1         0       3   \n",
       "1            2         1       1   \n",
       "2            3         1       3   \n",
       "3            4         1       1   \n",
       "4            5         0       3   \n",
       "\n",
       "                                                Name     Sex   Age  SibSp  \\\n",
       "0                            Braund, Mr. Owen Harris    male  22.0      1   \n",
       "1  Cumings, Mrs. John Bradley (Florence Briggs Th...  female  38.0      1   \n",
       "2                             Heikkinen, Miss. Laina  female  26.0      0   \n",
       "3       Futrelle, Mrs. Jacques Heath (Lily May Peel)  female  35.0      1   \n",
       "4                           Allen, Mr. William Henry    male  35.0      0   \n",
       "\n",
       "   Parch            Ticket     Fare Cabin Embarked  \n",
       "0      0         A/5 21171   7.2500   NaN        S  \n",
       "1      0          PC 17599  71.2833   C85        C  \n",
       "2      0  STON/O2. 3101282   7.9250   NaN        S  \n",
       "3      0            113803  53.1000  C123        S  \n",
       "4      0            373450   8.0500   NaN        S  "
      ]
     },
     "execution_count": 4,
     "metadata": {},
     "output_type": "execute_result"
    }
   ],
   "source": [
    "TRAIN.head()"
   ]
  },
  {
   "cell_type": "code",
   "execution_count": 5,
   "metadata": {},
   "outputs": [
    {
     "data": {
      "text/html": [
       "<div>\n",
       "<style scoped>\n",
       "    .dataframe tbody tr th:only-of-type {\n",
       "        vertical-align: middle;\n",
       "    }\n",
       "\n",
       "    .dataframe tbody tr th {\n",
       "        vertical-align: top;\n",
       "    }\n",
       "\n",
       "    .dataframe thead th {\n",
       "        text-align: right;\n",
       "    }\n",
       "</style>\n",
       "<table border=\"1\" class=\"dataframe\">\n",
       "  <thead>\n",
       "    <tr style=\"text-align: right;\">\n",
       "      <th></th>\n",
       "      <th>PassengerId</th>\n",
       "      <th>Pclass</th>\n",
       "      <th>Name</th>\n",
       "      <th>Sex</th>\n",
       "      <th>Age</th>\n",
       "      <th>SibSp</th>\n",
       "      <th>Parch</th>\n",
       "      <th>Ticket</th>\n",
       "      <th>Fare</th>\n",
       "      <th>Cabin</th>\n",
       "      <th>Embarked</th>\n",
       "    </tr>\n",
       "  </thead>\n",
       "  <tbody>\n",
       "    <tr>\n",
       "      <th>0</th>\n",
       "      <td>892</td>\n",
       "      <td>3</td>\n",
       "      <td>Kelly, Mr. James</td>\n",
       "      <td>male</td>\n",
       "      <td>34.5</td>\n",
       "      <td>0</td>\n",
       "      <td>0</td>\n",
       "      <td>330911</td>\n",
       "      <td>7.8292</td>\n",
       "      <td>NaN</td>\n",
       "      <td>Q</td>\n",
       "    </tr>\n",
       "    <tr>\n",
       "      <th>1</th>\n",
       "      <td>893</td>\n",
       "      <td>3</td>\n",
       "      <td>Wilkes, Mrs. James (Ellen Needs)</td>\n",
       "      <td>female</td>\n",
       "      <td>47.0</td>\n",
       "      <td>1</td>\n",
       "      <td>0</td>\n",
       "      <td>363272</td>\n",
       "      <td>7.0000</td>\n",
       "      <td>NaN</td>\n",
       "      <td>S</td>\n",
       "    </tr>\n",
       "    <tr>\n",
       "      <th>2</th>\n",
       "      <td>894</td>\n",
       "      <td>2</td>\n",
       "      <td>Myles, Mr. Thomas Francis</td>\n",
       "      <td>male</td>\n",
       "      <td>62.0</td>\n",
       "      <td>0</td>\n",
       "      <td>0</td>\n",
       "      <td>240276</td>\n",
       "      <td>9.6875</td>\n",
       "      <td>NaN</td>\n",
       "      <td>Q</td>\n",
       "    </tr>\n",
       "    <tr>\n",
       "      <th>3</th>\n",
       "      <td>895</td>\n",
       "      <td>3</td>\n",
       "      <td>Wirz, Mr. Albert</td>\n",
       "      <td>male</td>\n",
       "      <td>27.0</td>\n",
       "      <td>0</td>\n",
       "      <td>0</td>\n",
       "      <td>315154</td>\n",
       "      <td>8.6625</td>\n",
       "      <td>NaN</td>\n",
       "      <td>S</td>\n",
       "    </tr>\n",
       "    <tr>\n",
       "      <th>4</th>\n",
       "      <td>896</td>\n",
       "      <td>3</td>\n",
       "      <td>Hirvonen, Mrs. Alexander (Helga E Lindqvist)</td>\n",
       "      <td>female</td>\n",
       "      <td>22.0</td>\n",
       "      <td>1</td>\n",
       "      <td>1</td>\n",
       "      <td>3101298</td>\n",
       "      <td>12.2875</td>\n",
       "      <td>NaN</td>\n",
       "      <td>S</td>\n",
       "    </tr>\n",
       "  </tbody>\n",
       "</table>\n",
       "</div>"
      ],
      "text/plain": [
       "   PassengerId  Pclass                                          Name     Sex  \\\n",
       "0          892       3                              Kelly, Mr. James    male   \n",
       "1          893       3              Wilkes, Mrs. James (Ellen Needs)  female   \n",
       "2          894       2                     Myles, Mr. Thomas Francis    male   \n",
       "3          895       3                              Wirz, Mr. Albert    male   \n",
       "4          896       3  Hirvonen, Mrs. Alexander (Helga E Lindqvist)  female   \n",
       "\n",
       "    Age  SibSp  Parch   Ticket     Fare Cabin Embarked  \n",
       "0  34.5      0      0   330911   7.8292   NaN        Q  \n",
       "1  47.0      1      0   363272   7.0000   NaN        S  \n",
       "2  62.0      0      0   240276   9.6875   NaN        Q  \n",
       "3  27.0      0      0   315154   8.6625   NaN        S  \n",
       "4  22.0      1      1  3101298  12.2875   NaN        S  "
      ]
     },
     "execution_count": 5,
     "metadata": {},
     "output_type": "execute_result"
    }
   ],
   "source": [
    "TEST.head()"
   ]
  },
  {
   "cell_type": "markdown",
   "metadata": {},
   "source": [
    "# We'll continue with our TRAIN set. "
   ]
  },
  {
   "cell_type": "markdown",
   "metadata": {},
   "source": [
    "Our trainset consist of rows of PassengerID's with like Embarkation, PassengerClass, Name, Sex, Age, and number of children to describe each person associated with his or her passenger id. If you are new to statistics you might wonder how to describe and visualise data so that it represents your analysis correctly. Sometimes coding comes down to puzzling out the subject matter based on well-defined assumptions. Let's analyse our data such that it relates to death toll.\n",
    "\n",
    "Let's clean up the data and explore the ranges and variances of means and standard deviations of the variables we are interested in. After that we can visualise our variables and infer information to further define & statistically associate variables, which we will then visualise. Are you still with me? Let's goo!\n",
    "\n",
    "\n",
    "# Let's start by exploring"
   ]
  },
  {
   "cell_type": "markdown",
   "metadata": {},
   "source": [
    "Let's check if we have any Nan values in our dataset that can skew our distribution. Knowing this saves time in creating a visualisation.   "
   ]
  },
  {
   "cell_type": "code",
   "execution_count": 6,
   "metadata": {},
   "outputs": [
    {
     "data": {
      "text/plain": [
       "PassengerId      0\n",
       "Survived         0\n",
       "Pclass           0\n",
       "Name             0\n",
       "Sex              0\n",
       "Age            177\n",
       "SibSp            0\n",
       "Parch            0\n",
       "Ticket           0\n",
       "Fare             0\n",
       "Cabin          687\n",
       "Embarked         2\n",
       "dtype: int64"
      ]
     },
     "execution_count": 6,
     "metadata": {},
     "output_type": "execute_result"
    }
   ],
   "source": [
    "TRAIN.isnull().sum()"
   ]
  },
  {
   "cell_type": "code",
   "execution_count": 7,
   "metadata": {},
   "outputs": [
    {
     "data": {
      "text/plain": [
       "891"
      ]
     },
     "execution_count": 7,
     "metadata": {},
     "output_type": "execute_result"
    }
   ],
   "source": [
    "TRAIN['PassengerId'].count()"
   ]
  },
  {
   "cell_type": "markdown",
   "metadata": {},
   "source": [
    "\n",
    "# Age\n",
    "In our dataset the variables Age misses 177 entries, Cabin 687 entries and Embarked 2 entries. \n",
    "\n",
    "Thanks to mathematics we can handle missing data by imputing algorithmically. We can take the mean and fill all empty entries with the mean. What we also can do is take the median value. That allows robustness against outliers. What that means is that values that lie statistically far away from the other observed values account for skewness in the distribution of all observed values. To visualise this I create a distribution of our age entries with missing entries and then fill the missing points in our data set. "
   ]
  },
  {
   "cell_type": "code",
   "execution_count": 8,
   "metadata": {},
   "outputs": [
    {
     "data": {
      "image/png": "[encoded data removed]",
      "text/plain": [
       "<Figure size 432x288 with 1 Axes>"
      ]
     },
     "metadata": {},
     "output_type": "display_data"
    },
    {
     "name": "stdout",
     "output_type": "stream",
     "text": [
      "Stacked counts of ages\n"
     ]
    }
   ],
   "source": [
    "# Barchart Class occurences \n",
    "fig, ax = plt.subplots()\n",
    "ax = TRAIN[\"Age\"].hist(bins=60, density=False, stacked=True, color='forestgreen', alpha=0.8)\n",
    "TRAIN[\"Age\"].plot(kind='density', color='teal')\n",
    "ax.set(xlabel='Age')\n",
    "plt.xlim(-10,85)\n",
    "plt.show()\n",
    "\n",
    "print ('Stacked counts of ages')"
   ]
  },
  {
   "cell_type": "markdown",
   "metadata": {},
   "source": [
    "Let's add a line that tips all highest values of an occurence for an age item. Simply add 'density=True' to your ax variable."
   ]
  },
  {
   "cell_type": "code",
   "execution_count": 9,
   "metadata": {},
   "outputs": [
    {
     "data": {
      "image/png": "[encoded data removed]",
      "text/plain": [
       "<Figure size 432x288 with 1 Axes>"
      ]
     },
     "metadata": {},
     "output_type": "display_data"
    },
    {
     "name": "stdout",
     "output_type": "stream",
     "text": [
      "Stacked counts of ages with density plot line\n"
     ]
    }
   ],
   "source": [
    "# Barchart Class occurences \n",
    "fig, ax = plt.subplots()\n",
    "ax = TRAIN[\"Age\"].hist(bins=60, density=True,\n",
    "                       stacked=True,\n",
    "                       color='forestgreen', \n",
    "                       alpha=0.8)\n",
    "TRAIN[\"Age\"].plot(kind='density', \n",
    "                  color='teal')\n",
    "ax.set(xlabel='Age')\n",
    "plt.xlim(-10,85)\n",
    "plt.show()\n",
    "\n",
    "print ('Stacked counts of ages with density plot line')"
   ]
  },
  {
   "cell_type": "code",
   "execution_count": 10,
   "metadata": {},
   "outputs": [
    {
     "data": {
      "image/png": "[encoded data removed]",
      "text/plain": [
       "<Figure size 432x288 with 1 Axes>"
      ]
     },
     "metadata": {},
     "output_type": "display_data"
    }
   ],
   "source": [
    "#Create a boxenplot with jitter values\n",
    "ax = sns.boxenplot(x=\"Survived\", y=\"Age\", data=TRAIN)\n",
    "ax = sns.stripplot(x=\"Survived\", y=\"Age\", data=TRAIN,\n",
    "                    size=4, jitter=True, color=\"gray\")"
   ]
  },
  {
   "cell_type": "code",
   "execution_count": 11,
   "metadata": {},
   "outputs": [
    {
     "data": {
      "image/png": "[encoded data removed]",
      "text/plain": [
       "<Figure size 650.525x288 with 3 Axes>"
      ]
     },
     "metadata": {},
     "output_type": "display_data"
    }
   ],
   "source": [
    "#Another boxenplot\n",
    "e = sns.catplot(x=\"Survived\", y=\"Age\",\n",
    "                hue='Pclass', col= 'Embarked',\n",
    "                data=TRAIN,\n",
    "                 kind=\"boxen\",\n",
    "                height=4, aspect=.7);"
   ]
  },
  {
   "cell_type": "markdown",
   "metadata": {},
   "source": [
    "Because our data is distributed we can not simply impute a variable, because our ground truth, the distribution, is skewed. For example, if we would impute 1500 averages it would make much difference to our groundtruth where our observations of 10000 passengers are based on, the ratio is 20%. In our above example we see a binomial distribution. Let's split our data into groups so that we can account for variances. The kink of the line on face value falls between 0 and 18. Let's create a new list from our age category with C,'children', for persons =< 18, A, 'adults, for persons above 18."
   ]
  },
  {
   "cell_type": "code",
   "execution_count": 12,
   "metadata": {},
   "outputs": [],
   "source": [
    "AgeFilter = []\n",
    "for i in TRAIN['Age']:\n",
    "    if i <= 18:\n",
    "        AgeFilter.append('C')\n",
    "    else:\n",
    "        AgeFilter.append('A')\n",
    "        \n",
    "indexx = 0\n",
    "TRAIN.insert(loc=indexx, column='AgeFilter', value=AgeFilter)"
   ]
  },
  {
   "cell_type": "code",
   "execution_count": 13,
   "metadata": {},
   "outputs": [
    {
     "data": {
      "text/html": [
       "<div>\n",
       "<style scoped>\n",
       "    .dataframe tbody tr th:only-of-type {\n",
       "        vertical-align: middle;\n",
       "    }\n",
       "\n",
       "    .dataframe tbody tr th {\n",
       "        vertical-align: top;\n",
       "    }\n",
       "\n",
       "    .dataframe thead th {\n",
       "        text-align: right;\n",
       "    }\n",
       "</style>\n",
       "<table border=\"1\" class=\"dataframe\">\n",
       "  <thead>\n",
       "    <tr style=\"text-align: right;\">\n",
       "      <th></th>\n",
       "      <th>AgeFilter</th>\n",
       "      <th>PassengerId</th>\n",
       "      <th>Survived</th>\n",
       "      <th>Pclass</th>\n",
       "      <th>Name</th>\n",
       "      <th>Sex</th>\n",
       "      <th>Age</th>\n",
       "      <th>SibSp</th>\n",
       "      <th>Parch</th>\n",
       "      <th>Ticket</th>\n",
       "      <th>Fare</th>\n",
       "      <th>Cabin</th>\n",
       "      <th>Embarked</th>\n",
       "    </tr>\n",
       "  </thead>\n",
       "  <tbody>\n",
       "    <tr>\n",
       "      <th>0</th>\n",
       "      <td>A</td>\n",
       "      <td>1</td>\n",
       "      <td>0</td>\n",
       "      <td>3</td>\n",
       "      <td>Braund, Mr. Owen Harris</td>\n",
       "      <td>male</td>\n",
       "      <td>22.0</td>\n",
       "      <td>1</td>\n",
       "      <td>0</td>\n",
       "      <td>A/5 21171</td>\n",
       "      <td>7.2500</td>\n",
       "      <td>NaN</td>\n",
       "      <td>S</td>\n",
       "    </tr>\n",
       "    <tr>\n",
       "      <th>1</th>\n",
       "      <td>A</td>\n",
       "      <td>2</td>\n",
       "      <td>1</td>\n",
       "      <td>1</td>\n",
       "      <td>Cumings, Mrs. John Bradley (Florence Briggs Th...</td>\n",
       "      <td>female</td>\n",
       "      <td>38.0</td>\n",
       "      <td>1</td>\n",
       "      <td>0</td>\n",
       "      <td>PC 17599</td>\n",
       "      <td>71.2833</td>\n",
       "      <td>C85</td>\n",
       "      <td>C</td>\n",
       "    </tr>\n",
       "    <tr>\n",
       "      <th>2</th>\n",
       "      <td>A</td>\n",
       "      <td>3</td>\n",
       "      <td>1</td>\n",
       "      <td>3</td>\n",
       "      <td>Heikkinen, Miss. Laina</td>\n",
       "      <td>female</td>\n",
       "      <td>26.0</td>\n",
       "      <td>0</td>\n",
       "      <td>0</td>\n",
       "      <td>STON/O2. 3101282</td>\n",
       "      <td>7.9250</td>\n",
       "      <td>NaN</td>\n",
       "      <td>S</td>\n",
       "    </tr>\n",
       "    <tr>\n",
       "      <th>3</th>\n",
       "      <td>A</td>\n",
       "      <td>4</td>\n",
       "      <td>1</td>\n",
       "      <td>1</td>\n",
       "      <td>Futrelle, Mrs. Jacques Heath (Lily May Peel)</td>\n",
       "      <td>female</td>\n",
       "      <td>35.0</td>\n",
       "      <td>1</td>\n",
       "      <td>0</td>\n",
       "      <td>113803</td>\n",
       "      <td>53.1000</td>\n",
       "      <td>C123</td>\n",
       "      <td>S</td>\n",
       "    </tr>\n",
       "    <tr>\n",
       "      <th>4</th>\n",
       "      <td>A</td>\n",
       "      <td>5</td>\n",
       "      <td>0</td>\n",
       "      <td>3</td>\n",
       "      <td>Allen, Mr. William Henry</td>\n",
       "      <td>male</td>\n",
       "      <td>35.0</td>\n",
       "      <td>0</td>\n",
       "      <td>0</td>\n",
       "      <td>373450</td>\n",
       "      <td>8.0500</td>\n",
       "      <td>NaN</td>\n",
       "      <td>S</td>\n",
       "    </tr>\n",
       "  </tbody>\n",
       "</table>\n",
       "</div>"
      ],
      "text/plain": [
       "  AgeFilter  PassengerId  Survived  Pclass  \\\n",
       "0         A            1         0       3   \n",
       "1         A            2         1       1   \n",
       "2         A            3         1       3   \n",
       "3         A            4         1       1   \n",
       "4         A            5         0       3   \n",
       "\n",
       "                                                Name     Sex   Age  SibSp  \\\n",
       "0                            Braund, Mr. Owen Harris    male  22.0      1   \n",
       "1  Cumings, Mrs. John Bradley (Florence Briggs Th...  female  38.0      1   \n",
       "2                             Heikkinen, Miss. Laina  female  26.0      0   \n",
       "3       Futrelle, Mrs. Jacques Heath (Lily May Peel)  female  35.0      1   \n",
       "4                           Allen, Mr. William Henry    male  35.0      0   \n",
       "\n",
       "   Parch            Ticket     Fare Cabin Embarked  \n",
       "0      0         A/5 21171   7.2500   NaN        S  \n",
       "1      0          PC 17599  71.2833   C85        C  \n",
       "2      0  STON/O2. 3101282   7.9250   NaN        S  \n",
       "3      0            113803  53.1000  C123        S  \n",
       "4      0            373450   8.0500   NaN        S  "
      ]
     },
     "execution_count": 13,
     "metadata": {},
     "output_type": "execute_result"
    }
   ],
   "source": [
    "TRAIN.head()\n"
   ]
  },
  {
   "cell_type": "markdown",
   "metadata": {},
   "source": [
    "We'll use this categorical value to account for differences between survivors and non survivors."
   ]
  },
  {
   "cell_type": "code",
   "execution_count": 14,
   "metadata": {},
   "outputs": [
    {
     "data": {
      "text/plain": [
       "<matplotlib.axes._subplots.AxesSubplot at 0x1a19597048>"
      ]
     },
     "execution_count": 14,
     "metadata": {},
     "output_type": "execute_result"
    },
    {
     "data": {
      "image/png": "[encoded data removed]",
      "text/plain": [
       "<Figure size 432x288 with 1 Axes>"
      ]
     },
     "metadata": {},
     "output_type": "display_data"
    }
   ],
   "source": [
    "sns.countplot(TRAIN['AgeFilter'])\n"
   ]
  },
  {
   "cell_type": "markdown",
   "metadata": {},
   "source": [
    "We can see that 1/5th of our examples are labeled C. We can impute that same ratio to our samples to account for missing data. The exact ratio is 19.7% based on 177 missing entries and 891 observations. This means we have to impute  a value below 18 for 19.7% of our 177 of missing entries, and for the other 80,3% a value > 18. Which values to take?\n",
    "\n",
    "Let's calculate group means for the groups below and above the age of 18. "
   ]
  },
  {
   "cell_type": "code",
   "execution_count": 15,
   "metadata": {},
   "outputs": [
    {
     "name": "stdout",
     "output_type": "stream",
     "text": [
      "The average of age of A, Adults, =  33.58319467554077\n",
      "The average of age of C, Children, =  9.041327433628318\n",
      "The sum of all nan-values is :  177\n",
      "The type of the nan-values are:  <class 'float'>\n",
      "The first 5 elements of the nan-values list:  [nan, nan, nan, nan, nan]\n"
     ]
    }
   ],
   "source": [
    "a_list= []\n",
    "c_list=[]\n",
    "nan_list = []\n",
    "for i in TRAIN['Age']:\n",
    "    if i >= 18.0:\n",
    "        a_list.append(i) \n",
    "    elif 0.1 < i < 18.0:\n",
    "        c_list.append(i)\n",
    "    else:\n",
    "        nan_list.append(i)\n",
    "\n",
    "avg_a = sum(a_list)/len(a_list)\n",
    "avg_c = sum(c_list)/len(c_list)\n",
    "\n",
    "#Print averages of C and A class\n",
    "print ('The average of age of A, Adults, = ',avg_a)\n",
    "print ('The average of age of C, Children, = ',avg_c)\n",
    "\n",
    "#Print sum of nan_list\n",
    "print ('The sum of all nan-values is : ', sum(math.isnan(x) for x in nan_list))\n",
    "\n",
    "#Print type and first 5 elements of nan_list\n",
    "print ('The type of the nan-values are: ', type(nan_list[0]))\n",
    "print ('The first 5 elements of the nan-values list: ', nan_list[:5])"
   ]
  },
  {
   "cell_type": "markdown",
   "metadata": {},
   "source": [
    "Now that we have our means for our different age groups we can impute our data based on the same ratio. Of our nan-values we will impute 35 (19,8% rounded) nan-values with the avg_c = 9.04 , for persons < 18 and for all other nan-values we'll impute avg_a = 33.58. This way we are sure that our imputed values follow the same expected distribution of our binomial age distribution. \n",
    "\n",
    "To do this we have to append the all float values to a new list as strings. We will iterate over the items in the list that contain a string returned by the isnull parameter, and set a count to 0. Doing this makes sure we only grab the nan-values in our next line. If the count is lower than 35 and if that item returns True we will impute the average of\n",
    "children, and for the other nan-values we will impute the average of adults.\n",
    "\n",
    "To confuse it all a bit more we randomly iterate over our nan-values to impute our averages for children and adults. This way our bias reduces more. It reduces, because if we impute our values in order, we basically add another factor that tweaks the data. It might not be significant in this case, but it adds unnecessary bias to our interpretation. If we instead randomly iterate over all the nan-values that have adjecent columns of information and assign an age value to that row of data, we reduce chances of not following the normal distribution underlying the age values in relation to all person specific related columns of information.\n",
    "\n",
    "In case of prediction imputing can heavily influence minimising your residual errors. But that's for a later stage. Let's first see if we can replace 20% of our nan-values with the averages of children and 80% with the avgs of adults.\n"
   ]
  },
  {
   "cell_type": "code",
   "execution_count": 16,
   "metadata": {},
   "outputs": [
    {
     "name": "stdout",
     "output_type": "stream",
     "text": [
      "['22.0', '38.0', '26.0', '35.0', '35.0', 'nan', '54.0', '2.0', '27.0', '14.0']\n"
     ]
    }
   ],
   "source": [
    "##Change every nan-value first to 0\n",
    "#Create two lists to convert all floats to str\n",
    "agelist = list(TRAIN['Age'])\n",
    "jsl = []\n",
    "\n",
    "#Iterate over list\n",
    "for i in agelist:\n",
    "    #Change i to string\n",
    "    i = str(i)\n",
    "    #Append i to list\n",
    "    jsl.append(i)\n",
    "#Change agelist to list of strings\n",
    "agelist = jsl\n",
    "\n",
    "print (agelist[:10])\n",
    "\n",
    " \n",
    "    "
   ]
  },
  {
   "cell_type": "code",
   "execution_count": 17,
   "metadata": {},
   "outputs": [
    {
     "name": "stdout",
     "output_type": "stream",
     "text": [
      "<class 'str'>\n",
      "<class 'str'>\n",
      "<class 'str'>\n",
      "<class 'str'>\n",
      "<class 'str'>\n",
      "<class 'str'>\n",
      "<class 'str'>\n",
      "<class 'str'>\n",
      "<class 'str'>\n",
      "<class 'str'>\n"
     ]
    }
   ],
   "source": [
    "#Print first 10 values\n",
    "for i in (agelist[:10]):\n",
    "    print (type(i))\n",
    "    "
   ]
  },
  {
   "cell_type": "markdown",
   "metadata": {},
   "source": [
    "Let's shuffle the elements in our agelist, but keep a print of the order of the unique shuffle. We can than call the original value associated with the same order position as the converted integer, float or string. (Got this one from Stackoverflow comment: https://stackoverflow.com/questions/26577517/inverse-of-random-shuffle/42302431)"
   ]
  },
  {
   "cell_type": "code",
   "execution_count": 18,
   "metadata": {},
   "outputs": [],
   "source": [
    "#Randomly shuffle input\n",
    "def shuffle_forward(l):\n",
    "    #Take all elements from 0 to length(list) and shuffle them by that order\n",
    "    order = list(range(len(l))); random.shuffle(order)\n",
    "    #Return a list of the array of the randomly shuffled elements \n",
    "    #The order on the array is random, but observed as the above function executes, \n",
    "    #and thus creates an unique pattern that can be listed in order\n",
    "    return list(np.array(l)[order]), order\n",
    "\n",
    "#Take the elements and the order range set of the elements\n",
    "def shuffle_backward(l, order):\n",
    "    #Define a var that creates a new np array of width 0 and length len(l)\n",
    "    l_out = [0] * len(l)\n",
    "    \n",
    "    #Index the order of the input of the randomly assigned values to the np array as i, j\n",
    "    for i, j in enumerate(order):\n",
    "        #For every element j in the var l_out == [0],\n",
    "        #the element is placed back on the order of the original list when shuffled in the shuffle_forward function \n",
    "        l_out[j] = l[i]\n",
    "        \n",
    "    #Return list of the inverse shuffled original list   \n",
    "    return l_out\n"
   ]
  },
  {
   "cell_type": "markdown",
   "metadata": {},
   "source": [
    "Let's test our functions. "
   ]
  },
  {
   "cell_type": "code",
   "execution_count": 19,
   "metadata": {},
   "outputs": [
    {
     "name": "stdout",
     "output_type": "stream",
     "text": [
      "This is the testlist:  [1, 10, 100, 1000, 434, 4456, 673, 3434, 8298, 2893793]\n",
      "This is the new shuffled list  [3434, 100, 434, 673, 1, 2893793, 10, 8298, 1000, 4456]\n",
      "This is the order in which the items were shuffled  [7, 2, 4, 6, 0, 9, 1, 8, 3, 5]\n"
     ]
    }
   ],
   "source": [
    "## First our shuffle_forward function\n",
    "#Create testlist\n",
    "testlist = [1, 10, 100, 1000,434,4456,673,3434,8298,2893793]\n",
    "\n",
    "#Forward shuffle our testlist\n",
    "testlistshuffle, testlist_order = shuffle_forward(testlist)\n",
    "#Run function on testlist and define order from shuffle_forward function\n",
    "print ('This is the testlist: ', testlist)\n",
    "print ('This is the new shuffled list ', testlistshuffle) \n",
    "print ('This is the order in which the items were shuffled ', testlist_order)\n",
    "\n"
   ]
  },
  {
   "cell_type": "code",
   "execution_count": 20,
   "metadata": {},
   "outputs": [
    {
     "name": "stdout",
     "output_type": "stream",
     "text": [
      "This is the testlist:  [1, 10, 100, 1000, 434, 4456, 673, 3434, 8298, 2893793]\n",
      "This is the new shuffled list  [3434, 100, 434, 673, 1, 2893793, 10, 8298, 1000, 4456]\n",
      "This is the order in which the items were shuffled  [7, 2, 4, 6, 0, 9, 1, 8, 3, 5]\n",
      "This is the backwards shuffle or the new shuffled list into the testlist:  [1, 10, 100, 1000, 434, 4456, 673, 3434, 8298, 2893793]\n"
     ]
    }
   ],
   "source": [
    "##Next our shuffle_backward function\n",
    "print ('This is the testlist: ', testlist)\n",
    "print ('This is the new shuffled list ', testlistshuffle) \n",
    "print ('This is the order in which the items were shuffled ', testlist_order)\n",
    "\n",
    "#Shuffle back with order of testlist\n",
    "testlistbackshuffle = shuffle_backward(testlistshuffle,testlist_order)\n",
    "\n",
    "print ('This is the backwards shuffle or the new shuffled list into the testlist: ', testlistbackshuffle)\n"
   ]
  },
  {
   "cell_type": "markdown",
   "metadata": {},
   "source": [
    "# It works! \n",
    "Let's implement it on our age list to shuffle our strings, impute the nan-values with the right averages and shuffle the list backwards by order.\n",
    "\n",
    "Let's create a function that we can call when the deck is shuffled and assigns the right averages to the nan-values before shuffling back the same index by enumerating the order. Because we use our averages, we have to ready and clean them up to replace the string nan-values. This means converting rounding them up to 2 decimal points, as in the original TRAIN['Age'] column and convert the float to a string."
   ]
  },
  {
   "cell_type": "code",
   "execution_count": 21,
   "metadata": {},
   "outputs": [],
   "source": [
    "#Convert averages to decimals, round them to two integers behind decimal and convert average item to string\n",
    "avg_a =  decimal.Decimal(avg_a)\n",
    "avg_a = round(avg_a,2)\n",
    "avg_a = str(avg_a)\n",
    "\n",
    "avg_c =  decimal.Decimal(avg_c)\n",
    "avg_c = round(avg_c,2)\n",
    "avg_c = str(avg_c)"
   ]
  },
  {
   "cell_type": "code",
   "execution_count": 22,
   "metadata": {},
   "outputs": [
    {
     "name": "stdout",
     "output_type": "stream",
     "text": [
      "33.58\n",
      "9.04\n"
     ]
    }
   ],
   "source": [
    "print (avg_a)\n",
    "print (avg_c)"
   ]
  },
  {
   "cell_type": "code",
   "execution_count": 23,
   "metadata": {},
   "outputs": [],
   "source": [
    "#Impute function to rectify age values according to the binomial distribution\n",
    "def age_rect(klist):\n",
    "    #Create empty list and set count to 0\n",
    "    dlist = []\n",
    "    count = 0\n",
    "    #Iterate over the agelist\n",
    "    for i in klist:\n",
    "        #Filter i on 'nan', count < 35\n",
    "        if i == 'nan' and count <35: \n",
    "            #Append average of C category children\n",
    "            dlist.append(avg_c)\n",
    "            #Increment count \n",
    "            count += 1\n",
    "        #Filter if count >= 35\n",
    "        elif i == 'nan' and count >= 35:\n",
    "                dlist.append(avg_a)\n",
    "                count += 1\n",
    "        else:\n",
    "            #Append i if i is an age value\n",
    "            dlist.append(i)\n",
    "            \n",
    "        \n",
    "    #Returns list of values\n",
    "    print (dlist[:6])\n",
    "    print (type(dlist[6]))\n",
    "    \n",
    "    return dlist"
   ]
  },
  {
   "cell_type": "markdown",
   "metadata": {},
   "source": [
    "So, again. \n",
    "\n",
    "1. Let's first shuffle our order of indexes with age items. \n",
    "\n",
    "2. We iterate over the first 19.8% (approx. first 35) of random integers of 177 string nan entries between 0 and 177 of nan observations.Then change our 20% of our nan-values with the average of the C category children,  and 80% with the average of the A category adults. \n",
    "\n",
    "3. Then we can assign the shuffled index with the same order back, because we reserved the order of randomizing the index of the age items.\n",
    "\n",
    "We do this to reduce bias. "
   ]
  },
  {
   "cell_type": "code",
   "execution_count": 24,
   "metadata": {},
   "outputs": [
    {
     "name": "stdout",
     "output_type": "stream",
     "text": [
      "['nan', '27.0', '19.0', '34.0', '34.0', '30.0', '36.0', '30.0', 'nan', 'nan', '20.0', '28.0', '41.0', '29.0', '34.0', '30.0', '16.0', '51.0', '32.0', '54.0']\n",
      "[375, 724, 143, 416, 800, 213, 265, 606, 19, 26, 404, 392, 337, 53, 722, 365, 853, 222, 665, 774, 654, 246, 172, 127, 153, 600, 771, 178, 550, 383, 653, 262, 437, 651, 405, 395, 255, 572, 174, 664, 765, 670, 567, 571, 311, 55, 290, 494, 593, 497, 116, 69, 132, 790, 542, 520, 772, 843, 777, 229, 496, 717, 370, 649, 432, 187, 70, 158, 251, 492, 686, 817, 644, 82, 453, 6, 514, 146, 612, 698, 39, 498, 630, 557, 778, 381, 149, 623, 426, 195, 656, 760, 584, 2, 110, 648, 36, 308, 100, 880, 507, 637, 804, 80, 872, 738, 563, 752, 92, 304, 835, 301, 577, 870, 154, 256, 781, 276, 480, 695, 780, 159, 475, 48, 32, 142, 529, 144, 136, 419, 76, 341, 829, 714, 49, 745, 767, 581, 342, 260, 709, 227, 10, 716, 798, 460, 288, 300, 522, 217, 673, 281, 769, 570, 464, 428, 784, 613, 873, 44, 424, 836, 114, 590, 373, 236, 14, 230, 31, 96, 708, 151, 440, 490, 481, 466, 734, 587, 692, 371, 396, 471, 307, 541, 422, 363, 865, 539, 360, 775, 284, 322, 209, 495, 696, 858, 845, 204, 832, 839, 45, 245, 545, 751, 755, 506, 306, 742, 34, 597, 849, 733, 681, 819, 325, 611, 442, 857, 79, 818, 95, 50, 234, 390, 88, 488, 148, 57, 740, 397, 86, 203, 387, 882, 83, 700, 881, 267, 238, 712, 448, 551, 400, 816, 561, 731, 889, 16, 726, 684, 368, 163, 285, 679, 856, 176, 362, 320, 446, 450, 851, 74, 208, 131, 84, 438, 343, 831, 165, 191, 812, 181, 592, 479, 330, 518, 614, 667, 338, 885, 591, 254, 705, 455, 221, 615, 639, 410, 46, 129, 456, 211, 218, 725, 348, 759, 564, 29, 192, 536, 336, 118, 713, 786, 201, 186, 272, 8, 720, 198, 534, 394, 538, 461, 676, 537, 318, 631, 526, 200, 868, 40, 253, 134, 247, 286, 137, 350, 194, 658, 704, 232, 25, 484, 657, 263, 454, 140, 235, 420, 729, 47, 169, 828, 216, 431, 859, 226, 764, 811, 372, 624, 326, 866, 316, 117, 220, 747, 61, 847, 746, 388, 617, 33, 294, 99, 249, 871, 878, 112, 688, 141, 470, 540, 876, 436, 250, 503, 257, 212, 655, 266, 214, 206, 177, 770, 672, 75, 691, 124, 877, 596, 156, 535, 861, 444, 583, 799, 188, 629, 632, 243, 329, 457, 476, 77, 874, 385, 489, 589, 789, 710, 478, 669, 152, 697, 358, 661, 121, 430, 864, 398, 162, 205, 207, 511, 701, 682, 279, 150, 512, 38, 555, 863, 435, 324, 787, 109, 298, 660, 782, 662, 239, 312, 758, 663, 319, 820, 71, 641, 377, 35, 749, 848, 483, 635, 554, 699, 659, 469, 602, 43, 12, 9, 423, 15, 406, 439, 297, 167, 28, 813, 773, 678, 642, 296, 842, 706, 739, 807, 339, 190, 199, 427, 202, 215, 815, 763, 130, 568, 605, 608, 619, 113, 791, 408, 81, 345, 802, 445, 768, 67, 27, 510, 384, 680, 505, 875, 292, 888, 225, 270, 601, 268, 352, 890, 331, 516, 65, 626, 548, 493, 72, 135, 754, 750, 808, 844, 421, 585, 521, 451, 735, 825, 737, 107, 690, 501, 273, 108, 412, 532, 588, 302, 122, 196, 344, 806, 610, 727, 210, 620, 852, 794, 128, 197, 886, 401, 559, 702, 357, 403, 580, 171, 434, 334, 359, 346, 274, 411, 788, 776, 182, 757, 407, 573, 119, 741, 528, 147, 603, 792, 634, 616, 293, 78, 485, 184, 361, 474, 513, 91, 433, 467, 185, 500, 744, 809, 846, 862, 504, 59, 321, 295, 821, 766, 139, 366, 515, 622, 879, 11, 115, 314, 762, 833, 224, 743, 413, 94, 854, 418, 687, 447, 219, 884, 231, 24, 241, 694, 728, 575, 677, 277, 138, 242, 244, 761, 354, 282, 441, 783, 472, 465, 552, 579, 643, 547, 618, 303, 429, 248, 556, 87, 145, 553, 477, 502, 814, 525, 609, 414, 291, 37, 104, 565, 160, 97, 582, 123, 482, 382, 449, 125, 645, 364, 7, 533, 549, 349, 327, 748, 753, 126, 64, 415, 586, 54, 417, 120, 756, 650, 627, 823, 838, 797, 640, 106, 305, 30, 4, 646, 834, 233, 598, 785, 0, 604, 531, 850, 223, 459, 389, 499, 826, 402, 801, 73, 486, 796, 824, 170, 23, 237, 462, 5, 666, 463, 93, 283, 391, 102, 269, 841, 317, 252, 21, 718, 822, 161, 105, 264, 827, 351, 524, 347, 425, 693, 42, 468, 671, 275, 310, 258, 111, 685, 189, 517, 3, 546, 157, 628, 380, 840, 280, 378, 574, 328, 289, 523, 180, 867, 85, 779, 13, 730, 458, 793, 473, 62, 63, 89, 183, 133, 810, 452, 22, 711, 17, 374, 544, 369, 543, 795, 168, 576, 58, 599, 20, 625, 103, 509, 313, 98, 335, 52, 652, 530, 68, 491, 558, 18, 721, 887, 723, 855, 60, 367, 173, 315, 736, 376, 278, 1, 90, 860, 309, 175, 179, 228, 399, 719, 595, 101, 287, 193, 707, 51, 869, 837, 299, 689, 261, 386, 830, 636, 803, 668, 353, 732, 675, 633, 166, 594, 41, 621, 487, 560, 569, 508, 271, 340, 562, 323, 66, 56, 715, 393, 409, 259, 566, 379, 883, 155, 355, 647, 519, 638, 578, 164, 607, 333, 703, 805, 527, 443, 683, 356, 240, 332, 674]\n"
     ]
    }
   ],
   "source": [
    "#Shuffle age list and assign order \n",
    "shuffled_agelist, order_agelist = shuffle_forward(agelist)\n",
    "\n",
    "#Print shuffled age list and order\n",
    "print (shuffled_agelist[:20])\n",
    "print (order_agelist)"
   ]
  },
  {
   "cell_type": "markdown",
   "metadata": {},
   "source": [
    "# That is one big key!\n",
    "\n",
    "Well, actually it is. Pretty cool! Let's use this order-key to re-assign our index with the right age items. But, as you can see, we still have nan-values. Let's change those and than shuffle the list backwards. "
   ]
  },
  {
   "cell_type": "code",
   "execution_count": 25,
   "metadata": {},
   "outputs": [
    {
     "name": "stdout",
     "output_type": "stream",
     "text": [
      "['9.04', '27.0', '19.0', '34.0', '34.0', '30.0']\n",
      "<class 'numpy.str_'>\n",
      "First 10 elements of our shuffled rectified age list : ['9.04', '27.0', '19.0', '34.0', '34.0', '30.0', '36.0', '30.0', '9.04', '9.04']\n"
     ]
    }
   ],
   "source": [
    "rect_shuff_agelist = age_rect(shuffled_agelist)\n",
    "print ('First 10 elements of our shuffled rectified age list :', (rect_shuff_agelist[:10]))"
   ]
  },
  {
   "cell_type": "raw",
   "metadata": {},
   "source": [
    "Now let's backward shuffle our shuffled rectified age list!"
   ]
  },
  {
   "cell_type": "code",
   "execution_count": 26,
   "metadata": {},
   "outputs": [
    {
     "name": "stdout",
     "output_type": "stream",
     "text": [
      "The first 6 elements of our age list:          ['22.0', '38.0', '26.0', '35.0', '35.0', 'nan']\n",
      "The first 6 elements of our imputed age list:  ['22.0', '38.0', '26.0', '35.0', '35.0', '33.58']\n"
     ]
    }
   ],
   "source": [
    "new_age_list = shuffle_backward(rect_shuff_agelist, order_agelist)\n",
    "\n",
    "print ('The first 6 elements of our age list:         ', (agelist[:6]))\n",
    "print ('The first 6 elements of our imputed age list: ', new_age_list[:6])\n"
   ]
  },
  {
   "cell_type": "markdown",
   "metadata": {},
   "source": [
    "Now, the last part is converting every item in our new_age_list to a float, and pass it into our dataframe to visualise the distribution of our age category.\n"
   ]
  },
  {
   "cell_type": "code",
   "execution_count": 27,
   "metadata": {},
   "outputs": [
    {
     "name": "stdout",
     "output_type": "stream",
     "text": [
      "These are the first 6 elements of our float new_age_list:  [22.0, 38.0, 26.0, 35.0, 35.0, 33.58]\n",
      "These are the first 6 elements class descriptions of our float new_age_list :  <class 'float'> <class 'float'> <class 'float'>\n"
     ]
    }
   ],
   "source": [
    "age_list_to_float = [float(i) for i in new_age_list]\n",
    "\n",
    "print ('These are the first 6 elements of our float new_age_list: ', age_list_to_float[:6])\n",
    "print ('These are the first 6 elements class descriptions of our float new_age_list : ', type(age_list_to_float[1]),\n",
    "                                                                                             type(age_list_to_float[2]),\n",
    "                                                                                                 type(age_list_to_float[3]))\n"
   ]
  },
  {
   "cell_type": "markdown",
   "metadata": {},
   "source": [
    "# Back to our dataframe\n",
    "Let's insert our new age list into our dataframe!"
   ]
  },
  {
   "cell_type": "code",
   "execution_count": 28,
   "metadata": {},
   "outputs": [
    {
     "data": {
      "text/html": [
       "<div>\n",
       "<style scoped>\n",
       "    .dataframe tbody tr th:only-of-type {\n",
       "        vertical-align: middle;\n",
       "    }\n",
       "\n",
       "    .dataframe tbody tr th {\n",
       "        vertical-align: top;\n",
       "    }\n",
       "\n",
       "    .dataframe thead th {\n",
       "        text-align: right;\n",
       "    }\n",
       "</style>\n",
       "<table border=\"1\" class=\"dataframe\">\n",
       "  <thead>\n",
       "    <tr style=\"text-align: right;\">\n",
       "      <th></th>\n",
       "      <th>AgeFilter</th>\n",
       "      <th>PassengerId</th>\n",
       "      <th>Survived</th>\n",
       "      <th>Pclass</th>\n",
       "      <th>Name</th>\n",
       "      <th>Sex</th>\n",
       "      <th>Age</th>\n",
       "      <th>SibSp</th>\n",
       "      <th>Parch</th>\n",
       "      <th>Ticket</th>\n",
       "      <th>Fare</th>\n",
       "      <th>Cabin</th>\n",
       "      <th>Embarked</th>\n",
       "    </tr>\n",
       "  </thead>\n",
       "  <tbody>\n",
       "    <tr>\n",
       "      <th>0</th>\n",
       "      <td>A</td>\n",
       "      <td>1</td>\n",
       "      <td>0</td>\n",
       "      <td>3</td>\n",
       "      <td>Braund, Mr. Owen Harris</td>\n",
       "      <td>male</td>\n",
       "      <td>22.00</td>\n",
       "      <td>1</td>\n",
       "      <td>0</td>\n",
       "      <td>A/5 21171</td>\n",
       "      <td>7.2500</td>\n",
       "      <td>NaN</td>\n",
       "      <td>S</td>\n",
       "    </tr>\n",
       "    <tr>\n",
       "      <th>1</th>\n",
       "      <td>A</td>\n",
       "      <td>2</td>\n",
       "      <td>1</td>\n",
       "      <td>1</td>\n",
       "      <td>Cumings, Mrs. John Bradley (Florence Briggs Th...</td>\n",
       "      <td>female</td>\n",
       "      <td>38.00</td>\n",
       "      <td>1</td>\n",
       "      <td>0</td>\n",
       "      <td>PC 17599</td>\n",
       "      <td>71.2833</td>\n",
       "      <td>C85</td>\n",
       "      <td>C</td>\n",
       "    </tr>\n",
       "    <tr>\n",
       "      <th>2</th>\n",
       "      <td>A</td>\n",
       "      <td>3</td>\n",
       "      <td>1</td>\n",
       "      <td>3</td>\n",
       "      <td>Heikkinen, Miss. Laina</td>\n",
       "      <td>female</td>\n",
       "      <td>26.00</td>\n",
       "      <td>0</td>\n",
       "      <td>0</td>\n",
       "      <td>STON/O2. 3101282</td>\n",
       "      <td>7.9250</td>\n",
       "      <td>NaN</td>\n",
       "      <td>S</td>\n",
       "    </tr>\n",
       "    <tr>\n",
       "      <th>3</th>\n",
       "      <td>A</td>\n",
       "      <td>4</td>\n",
       "      <td>1</td>\n",
       "      <td>1</td>\n",
       "      <td>Futrelle, Mrs. Jacques Heath (Lily May Peel)</td>\n",
       "      <td>female</td>\n",
       "      <td>35.00</td>\n",
       "      <td>1</td>\n",
       "      <td>0</td>\n",
       "      <td>113803</td>\n",
       "      <td>53.1000</td>\n",
       "      <td>C123</td>\n",
       "      <td>S</td>\n",
       "    </tr>\n",
       "    <tr>\n",
       "      <th>4</th>\n",
       "      <td>A</td>\n",
       "      <td>5</td>\n",
       "      <td>0</td>\n",
       "      <td>3</td>\n",
       "      <td>Allen, Mr. William Henry</td>\n",
       "      <td>male</td>\n",
       "      <td>35.00</td>\n",
       "      <td>0</td>\n",
       "      <td>0</td>\n",
       "      <td>373450</td>\n",
       "      <td>8.0500</td>\n",
       "      <td>NaN</td>\n",
       "      <td>S</td>\n",
       "    </tr>\n",
       "    <tr>\n",
       "      <th>5</th>\n",
       "      <td>A</td>\n",
       "      <td>6</td>\n",
       "      <td>0</td>\n",
       "      <td>3</td>\n",
       "      <td>Moran, Mr. James</td>\n",
       "      <td>male</td>\n",
       "      <td>33.58</td>\n",
       "      <td>0</td>\n",
       "      <td>0</td>\n",
       "      <td>330877</td>\n",
       "      <td>8.4583</td>\n",
       "      <td>NaN</td>\n",
       "      <td>Q</td>\n",
       "    </tr>\n",
       "    <tr>\n",
       "      <th>6</th>\n",
       "      <td>A</td>\n",
       "      <td>7</td>\n",
       "      <td>0</td>\n",
       "      <td>1</td>\n",
       "      <td>McCarthy, Mr. Timothy J</td>\n",
       "      <td>male</td>\n",
       "      <td>54.00</td>\n",
       "      <td>0</td>\n",
       "      <td>0</td>\n",
       "      <td>17463</td>\n",
       "      <td>51.8625</td>\n",
       "      <td>E46</td>\n",
       "      <td>S</td>\n",
       "    </tr>\n",
       "    <tr>\n",
       "      <th>7</th>\n",
       "      <td>C</td>\n",
       "      <td>8</td>\n",
       "      <td>0</td>\n",
       "      <td>3</td>\n",
       "      <td>Palsson, Master. Gosta Leonard</td>\n",
       "      <td>male</td>\n",
       "      <td>2.00</td>\n",
       "      <td>3</td>\n",
       "      <td>1</td>\n",
       "      <td>349909</td>\n",
       "      <td>21.0750</td>\n",
       "      <td>NaN</td>\n",
       "      <td>S</td>\n",
       "    </tr>\n",
       "    <tr>\n",
       "      <th>8</th>\n",
       "      <td>A</td>\n",
       "      <td>9</td>\n",
       "      <td>1</td>\n",
       "      <td>3</td>\n",
       "      <td>Johnson, Mrs. Oscar W (Elisabeth Vilhelmina Berg)</td>\n",
       "      <td>female</td>\n",
       "      <td>27.00</td>\n",
       "      <td>0</td>\n",
       "      <td>2</td>\n",
       "      <td>347742</td>\n",
       "      <td>11.1333</td>\n",
       "      <td>NaN</td>\n",
       "      <td>S</td>\n",
       "    </tr>\n",
       "    <tr>\n",
       "      <th>9</th>\n",
       "      <td>C</td>\n",
       "      <td>10</td>\n",
       "      <td>1</td>\n",
       "      <td>2</td>\n",
       "      <td>Nasser, Mrs. Nicholas (Adele Achem)</td>\n",
       "      <td>female</td>\n",
       "      <td>14.00</td>\n",
       "      <td>1</td>\n",
       "      <td>0</td>\n",
       "      <td>237736</td>\n",
       "      <td>30.0708</td>\n",
       "      <td>NaN</td>\n",
       "      <td>C</td>\n",
       "    </tr>\n",
       "  </tbody>\n",
       "</table>\n",
       "</div>"
      ],
      "text/plain": [
       "  AgeFilter  PassengerId  Survived  Pclass  \\\n",
       "0         A            1         0       3   \n",
       "1         A            2         1       1   \n",
       "2         A            3         1       3   \n",
       "3         A            4         1       1   \n",
       "4         A            5         0       3   \n",
       "5         A            6         0       3   \n",
       "6         A            7         0       1   \n",
       "7         C            8         0       3   \n",
       "8         A            9         1       3   \n",
       "9         C           10         1       2   \n",
       "\n",
       "                                                Name     Sex    Age  SibSp  \\\n",
       "0                            Braund, Mr. Owen Harris    male  22.00      1   \n",
       "1  Cumings, Mrs. John Bradley (Florence Briggs Th...  female  38.00      1   \n",
       "2                             Heikkinen, Miss. Laina  female  26.00      0   \n",
       "3       Futrelle, Mrs. Jacques Heath (Lily May Peel)  female  35.00      1   \n",
       "4                           Allen, Mr. William Henry    male  35.00      0   \n",
       "5                                   Moran, Mr. James    male  33.58      0   \n",
       "6                            McCarthy, Mr. Timothy J    male  54.00      0   \n",
       "7                     Palsson, Master. Gosta Leonard    male   2.00      3   \n",
       "8  Johnson, Mrs. Oscar W (Elisabeth Vilhelmina Berg)  female  27.00      0   \n",
       "9                Nasser, Mrs. Nicholas (Adele Achem)  female  14.00      1   \n",
       "\n",
       "   Parch            Ticket     Fare Cabin Embarked  \n",
       "0      0         A/5 21171   7.2500   NaN        S  \n",
       "1      0          PC 17599  71.2833   C85        C  \n",
       "2      0  STON/O2. 3101282   7.9250   NaN        S  \n",
       "3      0            113803  53.1000  C123        S  \n",
       "4      0            373450   8.0500   NaN        S  \n",
       "5      0            330877   8.4583   NaN        Q  \n",
       "6      0             17463  51.8625   E46        S  \n",
       "7      1            349909  21.0750   NaN        S  \n",
       "8      2            347742  11.1333   NaN        S  \n",
       "9      0            237736  30.0708   NaN        C  "
      ]
     },
     "execution_count": 28,
     "metadata": {},
     "output_type": "execute_result"
    }
   ],
   "source": [
    "#Assign column to new list\n",
    "TRAIN['Age'] = age_list_to_float\n",
    "\n",
    "#Show new dataframe\n",
    "TRAIN[:10]"
   ]
  },
  {
   "cell_type": "code",
   "execution_count": 29,
   "metadata": {},
   "outputs": [
    {
     "data": {
      "image/png": "[encoded data removed]",
      "text/plain": [
       "<Figure size 432x288 with 1 Axes>"
      ]
     },
     "metadata": {},
     "output_type": "display_data"
    },
    {
     "name": "stdout",
     "output_type": "stream",
     "text": [
      "Stacked counts of rectified ages with density plot line\n"
     ]
    }
   ],
   "source": [
    "# Barchart Class occurences \n",
    "fig, ax = plt.subplots()\n",
    "ax = TRAIN[\"Age\"].hist(bins=60, density=True,\n",
    "                       stacked=True,\n",
    "                       color='forestgreen', \n",
    "                       alpha=0.8)\n",
    "TRAIN[\"Age\"].plot(kind='density', \n",
    "                  color='teal')\n",
    "ax.set(xlabel='Age')\n",
    "plt.xlim(-10,85)\n",
    "plt.show()\n",
    "\n",
    "print ('Stacked counts of rectified ages with density plot line')"
   ]
  },
  {
   "cell_type": "markdown",
   "metadata": {},
   "source": [
    "As you can see our distribution becomes less binomial. It widens the tails of our distribution a bit. If we would repeat the forwards and backwards shuffling, sum all the distributions up and divide by n distributions we get a standard bell curve. In the middle we can see a long stack of ages. This does not look good, and we will investigate it with a boxplot."
   ]
  },
  {
   "cell_type": "code",
   "execution_count": 30,
   "metadata": {},
   "outputs": [
    {
     "data": {
      "text/plain": [
       "<matplotlib.axes._subplots.AxesSubplot at 0x1a1981c198>"
      ]
     },
     "execution_count": 30,
     "metadata": {},
     "output_type": "execute_result"
    },
    {
     "data": {
      "image/png": "[encoded data removed]",
      "text/plain": [
       "<Figure size 432x288 with 1 Axes>"
      ]
     },
     "metadata": {},
     "output_type": "display_data"
    }
   ],
   "source": [
    "sns.boxplot(x=\"Pclass\", y=\"Age\",\n",
    "                hue=\"Survived\",\n",
    "                data=TRAIN)\n"
   ]
  },
  {
   "cell_type": "code",
   "execution_count": 31,
   "metadata": {},
   "outputs": [
    {
     "name": "stderr",
     "output_type": "stream",
     "text": [
      "/anaconda3/envs/CodexA/lib/python3.6/site-packages/scipy/stats/stats.py:1713: FutureWarning: Using a non-tuple sequence for multidimensional indexing is deprecated; use `arr[tuple(seq)]` instead of `arr[seq]`. In the future this will be interpreted as an array index, `arr[np.array(seq)]`, which will result either in an error or a different result.\n",
      "  return np.add.reduce(sorted[indexer] * weights, axis=axis) / sumval\n"
     ]
    },
    {
     "data": {
      "image/png": "[encoded data removed]",
      "text/plain": [
       "<Figure size 768.425x360 with 2 Axes>"
      ]
     },
     "metadata": {},
     "output_type": "display_data"
    }
   ],
   "source": [
    "g = sns.catplot(x=\"Pclass\", y=\"Age\",\n",
    "                hue=\"Survived\",\n",
    "                col=\"Sex\",\n",
    "                data=TRAIN,\n",
    "                kind=\"violin\",\n",
    "                split=True);\n",
    "\n"
   ]
  },
  {
   "cell_type": "markdown",
   "metadata": {},
   "source": [
    "Our data is of course heavily skewed. Maybe we should impute the median instead of the mean in our dataframe. "
   ]
  },
  {
   "cell_type": "markdown",
   "metadata": {},
   "source": [
    "# Impute median to our age_list\n",
    "We have to adjust our function age_rect to impute the median of our values. Let's first calculate the median for both groups and then adjust our age_rect to impute the median value and return a new list. Remember, because we will shuffle our age list again, we will have another random shuffle with a unique order that we can use to shuffle our sequence of age items back to the original sequence. "
   ]
  },
  {
   "cell_type": "markdown",
   "metadata": {},
   "source": [
    "Let's copy paste and run some of the code I've wrote above. \n"
   ]
  },
  {
   "cell_type": "code",
   "execution_count": 32,
   "metadata": {},
   "outputs": [
    {
     "data": {
      "text/html": [
       "<div>\n",
       "<style scoped>\n",
       "    .dataframe tbody tr th:only-of-type {\n",
       "        vertical-align: middle;\n",
       "    }\n",
       "\n",
       "    .dataframe tbody tr th {\n",
       "        vertical-align: top;\n",
       "    }\n",
       "\n",
       "    .dataframe thead th {\n",
       "        text-align: right;\n",
       "    }\n",
       "</style>\n",
       "<table border=\"1\" class=\"dataframe\">\n",
       "  <thead>\n",
       "    <tr style=\"text-align: right;\">\n",
       "      <th></th>\n",
       "      <th>AgeFilter</th>\n",
       "      <th>PassengerId</th>\n",
       "      <th>Survived</th>\n",
       "      <th>Pclass</th>\n",
       "      <th>Name</th>\n",
       "      <th>Sex</th>\n",
       "      <th>Age</th>\n",
       "      <th>SibSp</th>\n",
       "      <th>Parch</th>\n",
       "      <th>Ticket</th>\n",
       "      <th>Fare</th>\n",
       "      <th>Cabin</th>\n",
       "      <th>Embarked</th>\n",
       "    </tr>\n",
       "  </thead>\n",
       "  <tbody>\n",
       "    <tr>\n",
       "      <th>0</th>\n",
       "      <td>A</td>\n",
       "      <td>1</td>\n",
       "      <td>0</td>\n",
       "      <td>3</td>\n",
       "      <td>Braund, Mr. Owen Harris</td>\n",
       "      <td>male</td>\n",
       "      <td>22.0</td>\n",
       "      <td>1</td>\n",
       "      <td>0</td>\n",
       "      <td>A/5 21171</td>\n",
       "      <td>7.2500</td>\n",
       "      <td>NaN</td>\n",
       "      <td>S</td>\n",
       "    </tr>\n",
       "    <tr>\n",
       "      <th>1</th>\n",
       "      <td>A</td>\n",
       "      <td>2</td>\n",
       "      <td>1</td>\n",
       "      <td>1</td>\n",
       "      <td>Cumings, Mrs. John Bradley (Florence Briggs Th...</td>\n",
       "      <td>female</td>\n",
       "      <td>38.0</td>\n",
       "      <td>1</td>\n",
       "      <td>0</td>\n",
       "      <td>PC 17599</td>\n",
       "      <td>71.2833</td>\n",
       "      <td>C85</td>\n",
       "      <td>C</td>\n",
       "    </tr>\n",
       "    <tr>\n",
       "      <th>2</th>\n",
       "      <td>A</td>\n",
       "      <td>3</td>\n",
       "      <td>1</td>\n",
       "      <td>3</td>\n",
       "      <td>Heikkinen, Miss. Laina</td>\n",
       "      <td>female</td>\n",
       "      <td>26.0</td>\n",
       "      <td>0</td>\n",
       "      <td>0</td>\n",
       "      <td>STON/O2. 3101282</td>\n",
       "      <td>7.9250</td>\n",
       "      <td>NaN</td>\n",
       "      <td>S</td>\n",
       "    </tr>\n",
       "    <tr>\n",
       "      <th>3</th>\n",
       "      <td>A</td>\n",
       "      <td>4</td>\n",
       "      <td>1</td>\n",
       "      <td>1</td>\n",
       "      <td>Futrelle, Mrs. Jacques Heath (Lily May Peel)</td>\n",
       "      <td>female</td>\n",
       "      <td>35.0</td>\n",
       "      <td>1</td>\n",
       "      <td>0</td>\n",
       "      <td>113803</td>\n",
       "      <td>53.1000</td>\n",
       "      <td>C123</td>\n",
       "      <td>S</td>\n",
       "    </tr>\n",
       "    <tr>\n",
       "      <th>4</th>\n",
       "      <td>A</td>\n",
       "      <td>5</td>\n",
       "      <td>0</td>\n",
       "      <td>3</td>\n",
       "      <td>Allen, Mr. William Henry</td>\n",
       "      <td>male</td>\n",
       "      <td>35.0</td>\n",
       "      <td>0</td>\n",
       "      <td>0</td>\n",
       "      <td>373450</td>\n",
       "      <td>8.0500</td>\n",
       "      <td>NaN</td>\n",
       "      <td>S</td>\n",
       "    </tr>\n",
       "  </tbody>\n",
       "</table>\n",
       "</div>"
      ],
      "text/plain": [
       "  AgeFilter  PassengerId  Survived  Pclass  \\\n",
       "0         A            1         0       3   \n",
       "1         A            2         1       1   \n",
       "2         A            3         1       3   \n",
       "3         A            4         1       1   \n",
       "4         A            5         0       3   \n",
       "\n",
       "                                                Name     Sex   Age  SibSp  \\\n",
       "0                            Braund, Mr. Owen Harris    male  22.0      1   \n",
       "1  Cumings, Mrs. John Bradley (Florence Briggs Th...  female  38.0      1   \n",
       "2                             Heikkinen, Miss. Laina  female  26.0      0   \n",
       "3       Futrelle, Mrs. Jacques Heath (Lily May Peel)  female  35.0      1   \n",
       "4                           Allen, Mr. William Henry    male  35.0      0   \n",
       "\n",
       "   Parch            Ticket     Fare Cabin Embarked  \n",
       "0      0         A/5 21171   7.2500   NaN        S  \n",
       "1      0          PC 17599  71.2833   C85        C  \n",
       "2      0  STON/O2. 3101282   7.9250   NaN        S  \n",
       "3      0            113803  53.1000  C123        S  \n",
       "4      0            373450   8.0500   NaN        S  "
      ]
     },
     "execution_count": 32,
     "metadata": {},
     "output_type": "execute_result"
    }
   ],
   "source": [
    "TRAIN = pd.read_csv('train.csv')\n",
    "AgeFilter = []\n",
    "for i in TRAIN['Age']:\n",
    "    if i <= 18:\n",
    "        AgeFilter.append('C')\n",
    "    else:\n",
    "        AgeFilter.append('A')\n",
    "        \n",
    "indexx = 0\n",
    "TRAIN.insert(loc=indexx, column='AgeFilter', value=AgeFilter)\n",
    "TRAIN.head()"
   ]
  },
  {
   "cell_type": "code",
   "execution_count": 33,
   "metadata": {},
   "outputs": [
    {
     "name": "stdout",
     "output_type": "stream",
     "text": [
      "The median of age of A, Adults, =  33.58\n",
      "The median of age of C, Children, =  9.04\n"
     ]
    }
   ],
   "source": [
    "#Append all age values according to category to lists\n",
    "a_m_list= []\n",
    "c_m_list=[]\n",
    "nan_1_list = []\n",
    "for i in TRAIN['Age']:\n",
    "    if i >= 18.0:\n",
    "        a_m_list.append(i) \n",
    "    elif 0.1 < i < 18.0:\n",
    "        c_m_list.append(i)\n",
    "    else:\n",
    "        nan_1_list.append(i)\n",
    "\n",
    "#Use statistics module to calculate the median \n",
    "med_a = statistics.median(a_m_list)\n",
    "med_c = statistics.median(c_m_list)\n",
    "\n",
    "#Print averages of C and A class\n",
    "print ('The median of age of A, Adults, = ',avg_a)\n",
    "print ('The median of age of C, Children, = ',avg_c)\n"
   ]
  },
  {
   "cell_type": "code",
   "execution_count": 34,
   "metadata": {},
   "outputs": [
    {
     "name": "stdout",
     "output_type": "stream",
     "text": [
      "['22.0', '38.0', '26.0', '35.0', '35.0', 'nan', '54.0', '2.0', '27.0', '14.0']\n"
     ]
    }
   ],
   "source": [
    "##Change every nan-value first to string\n",
    "#Create two lists to convert all floats to str\n",
    "m_agelist = list(TRAIN['Age'])\n",
    "jsl = []\n",
    "\n",
    "#Iterate over list\n",
    "for i in m_agelist:\n",
    "    #Change i to string\n",
    "    i = str(i)\n",
    "    #Append i to list\n",
    "    jsl.append(i)\n",
    "#Change agelist to list of strings\n",
    "agelist = jsl\n",
    "\n",
    "print (agelist[:10])\n",
    "\n"
   ]
  },
  {
   "cell_type": "code",
   "execution_count": 35,
   "metadata": {},
   "outputs": [],
   "source": [
    "#Convert median to decimals, round them to two integers behind decimal and convert average item to string\n",
    "med_a =  decimal.Decimal(med_a)\n",
    "med_a = round(med_a,2)\n",
    "med_a = str(med_a)\n",
    "\n",
    "med_c =  decimal.Decimal(med_c)\n",
    "med_c = round(med_c,2)\n",
    "med_c = str(med_c)"
   ]
  },
  {
   "cell_type": "code",
   "execution_count": 36,
   "metadata": {},
   "outputs": [
    {
     "name": "stdout",
     "output_type": "stream",
     "text": [
      "['22.0', 'nan', '44.0', '29.0', '28.0', '47.0', '21.0', '36.0', '26.0', '31.0', '23.5', '2.0', '51.0', '38.0', '24.0', '24.0', '25.0', '16.0', '32.0', '2.0']\n",
      "[0, 359, 245, 81, 399, 586, 56, 540, 93, 396, 296, 530, 406, 332, 341, 499, 729, 282, 890, 297, 366, 378, 490, 154, 219, 645, 268, 477, 664, 202, 566, 412, 223, 149, 602, 858, 844, 184, 828, 9, 863, 529, 558, 669, 326, 500, 29, 140, 160, 694, 730, 845, 617, 494, 770, 552, 436, 776, 854, 684, 267, 235, 362, 672, 422, 99, 880, 819, 720, 652, 766, 556, 715, 382, 92, 601, 725, 15, 428, 380, 169, 686, 564, 53, 151, 553, 139, 594, 521, 590, 222, 3, 649, 793, 440, 113, 201, 883, 432, 306, 606, 837, 588, 354, 290, 595, 371, 364, 192, 273, 787, 823, 791, 507, 852, 435, 307, 445, 36, 277, 506, 441, 199, 172, 418, 217, 353, 698, 1, 451, 213, 234, 126, 516, 797, 781, 469, 384, 247, 814, 41, 826, 777, 850, 414, 80, 480, 229, 315, 287, 133, 541, 454, 703, 324, 688, 60, 85, 613, 457, 73, 210, 888, 468, 96, 289, 171, 591, 571, 678, 265, 747, 27, 462, 187, 467, 732, 721, 226, 610, 446, 739, 76, 231, 719, 692, 795, 230, 196, 799, 194, 281, 136, 423, 443, 79, 203, 455, 67, 403, 55, 410, 24, 741, 627, 714, 459, 119, 28, 174, 674, 176, 255, 612, 631, 13, 54, 796, 685, 242, 658, 103, 654, 34, 301, 811, 818, 559, 155, 666, 622, 535, 152, 487, 339, 280, 104, 146, 851, 522, 605, 240, 820, 129, 642, 387, 513, 64, 214, 476, 465, 517, 180, 641, 68, 665, 807, 619, 584, 198, 12, 75, 6, 746, 82, 492, 425, 143, 309, 836, 111, 127, 91, 505, 209, 483, 482, 431, 340, 569, 40, 124, 745, 755, 244, 11, 444, 589, 751, 14, 596, 365, 63, 656, 716, 691, 327, 89, 676, 400, 107, 294, 740, 243, 626, 288, 236, 50, 668, 790, 550, 98, 401, 705, 737, 397, 373, 695, 650, 585, 731, 792, 100, 186, 813, 788, 167, 639, 232, 120, 600, 183, 533, 356, 523, 439, 10, 748, 148, 191, 51, 648, 388, 65, 783, 876, 520, 385, 241, 458, 733, 875, 109, 461, 323, 754, 343, 157, 37, 302, 138, 778, 161, 325, 772, 563, 256, 86, 860, 208, 398, 319, 272, 767, 389, 763, 779, 2, 838, 369, 581, 502, 835, 130, 764, 615, 607, 831, 205, 808, 527, 158, 405, 885, 534, 8, 233, 144, 316, 57, 866, 352, 711, 348, 413, 44, 542, 314, 284, 846, 598, 840, 311, 470, 547, 578, 687, 879, 816, 367, 345, 495, 660, 78, 62, 328, 195, 630, 657, 427, 614, 218, 137, 722, 518, 292, 355, 391, 821, 58, 424, 448, 859, 484, 632, 704, 430, 749, 539, 393, 849, 472, 510, 743, 416, 882, 347, 592, 22, 829, 636, 163, 331, 254, 608, 108, 238, 66, 178, 667, 509, 774, 320, 833, 752, 543, 531, 390, 699, 419, 633, 407, 164, 224, 166, 175, 310, 515, 877, 177, 683, 841, 274, 742, 342, 26, 372, 871, 794, 759, 101, 197, 718, 761, 587, 386, 421, 257, 635, 278, 738, 258, 491, 726, 349, 616, 874, 31, 329, 361, 466, 39, 383, 260, 370, 453, 237, 77, 225, 717, 246, 478, 677, 670, 72, 646, 623, 392, 501, 305, 181, 583, 815, 775, 211, 450, 87, 286, 573, 395, 330, 493, 304, 298, 350, 4, 870, 32, 7, 283, 817, 769, 839, 675, 800, 337, 471, 20, 773, 867, 532, 16, 251, 35, 266, 206, 679, 887, 74, 701, 474, 295, 253, 873, 221, 379, 872, 848, 572, 599, 806, 449, 881, 582, 734, 59, 758, 511, 71, 822, 536, 463, 597, 782, 805, 220, 193, 561, 313, 744, 5, 508, 545, 33, 524, 132, 394, 834, 512, 271, 162, 659, 118, 293, 655, 141, 662, 105, 557, 346, 702, 239, 173, 128, 156, 442, 122, 798, 165, 804, 878, 544, 344, 554, 404, 706, 786, 368, 856, 693, 116, 429, 486, 653, 125, 551, 713, 112, 485, 23, 498, 189, 275, 179, 102, 546, 537, 25, 46, 279, 335, 765, 697, 857, 690, 640, 381, 780, 611, 603, 52, 579, 634, 762, 336, 433, 460, 270, 227, 357, 269, 562, 842, 576, 150, 489, 121, 528, 114, 803, 789, 696, 538, 415, 147, 264, 312, 145, 861, 188, 285, 299, 358, 712, 727, 549, 629, 855, 259, 38, 409, 824, 452, 70, 97, 785, 661, 620, 360, 375, 864, 215, 17, 568, 168, 643, 580, 69, 889, 276, 628, 411, 185, 680, 710, 402, 142, 45, 728, 134, 170, 417, 574, 351, 802, 408, 868, 262, 812, 689, 593, 707, 708, 555, 216, 644, 204, 263, 88, 464, 456, 300, 376, 363, 212, 760, 865, 736, 481, 338, 723, 830, 700, 567, 488, 318, 94, 673, 84, 30, 825, 438, 334, 853, 43, 437, 123, 801, 47, 525, 847, 621, 827, 618, 322, 757, 131, 548, 182, 248, 473, 308, 117, 519, 18, 750, 110, 609, 317, 575, 249, 434, 303, 843, 48, 724, 479, 709, 526, 810, 651, 19, 21, 503, 886, 671, 115, 426, 884, 625, 862, 832, 735, 49, 496, 90, 624, 190, 374, 565, 207, 291, 681, 153, 784, 768, 261, 475, 61, 497, 200, 228, 638, 321, 42, 771, 560, 83, 869, 377, 106, 95, 447, 135, 252, 159, 753, 647, 756, 250, 333, 504, 420, 682, 809, 637, 604, 663, 514, 570, 577]\n"
     ]
    }
   ],
   "source": [
    "#Shuffle age list and assign order \n",
    "shuffled_agelist, order_agelist = shuffle_forward(agelist)\n",
    "\n",
    "#Print shuffled age list and order\n",
    "print (shuffled_agelist[:20])\n",
    "print (order_agelist)"
   ]
  },
  {
   "cell_type": "code",
   "execution_count": 37,
   "metadata": {},
   "outputs": [
    {
     "name": "stdout",
     "output_type": "stream",
     "text": [
      "['22.0', '9.04', '44.0', '29.0', '28.0', '47.0']\n",
      "<class 'numpy.str_'>\n",
      "First 10 elements of our shuffled rectified age list : ['22.0', '9.04', '44.0', '29.0', '28.0', '47.0', '21.0', '36.0', '26.0', '31.0']\n"
     ]
    }
   ],
   "source": [
    "rect_shuff_agelist = age_rect(shuffled_agelist)\n",
    "print ('First 10 elements of our shuffled rectified age list :', (rect_shuff_agelist[:10]))"
   ]
  },
  {
   "cell_type": "code",
   "execution_count": 38,
   "metadata": {},
   "outputs": [
    {
     "name": "stdout",
     "output_type": "stream",
     "text": [
      "The first 6 elements of our age list:          ['22.0', '38.0', '26.0', '35.0', '35.0', 'nan']\n",
      "The first 6 elements of our imputed age list:  ['22.0', '38.0', '26.0', '35.0', '35.0', '33.58']\n"
     ]
    }
   ],
   "source": [
    "new_age_list = shuffle_backward(rect_shuff_agelist, order_agelist)\n",
    "\n",
    "print ('The first 6 elements of our age list:         ', (agelist[:6]))\n",
    "print ('The first 6 elements of our imputed age list: ', new_age_list[:6])\n"
   ]
  },
  {
   "cell_type": "code",
   "execution_count": 39,
   "metadata": {},
   "outputs": [
    {
     "name": "stdout",
     "output_type": "stream",
     "text": [
      "These are the first 6 elements of our float new_age_list:  [22.0, 38.0, 26.0, 35.0, 35.0, 33.58]\n",
      "These are the first 6 elements class descriptions of our float new_age_list :  <class 'float'> <class 'float'> <class 'float'>\n"
     ]
    }
   ],
   "source": [
    "age_list_to_float = [float(i) for i in new_age_list]\n",
    "\n",
    "print ('These are the first 6 elements of our float new_age_list: ', age_list_to_float[:6])\n",
    "print ('These are the first 6 elements class descriptions of our float new_age_list : ', type(age_list_to_float[1]),\n",
    "                                                                                             type(age_list_to_float[2]),\n",
    "                                                                                                 type(age_list_to_float[3]))\n"
   ]
  },
  {
   "cell_type": "markdown",
   "metadata": {},
   "source": [
    "# Median updated in our dataframe\n",
    "Let's insert our new median imputed age list into our dataframe!"
   ]
  },
  {
   "cell_type": "code",
   "execution_count": 40,
   "metadata": {},
   "outputs": [
    {
     "data": {
      "image/png": "[encoded data removed]",
      "text/plain": [
       "<Figure size 432x288 with 1 Axes>"
      ]
     },
     "metadata": {},
     "output_type": "display_data"
    },
    {
     "name": "stdout",
     "output_type": "stream",
     "text": [
      "Stacked counts of rectified ages with density plot line\n"
     ]
    }
   ],
   "source": [
    "# Barchart Class occurences \n",
    "fig, ax = plt.subplots()\n",
    "ax = TRAIN[\"Age\"].hist(bins=60, density=True,\n",
    "                       stacked=True,\n",
    "                       color='forestgreen', \n",
    "                       alpha=0.8)\n",
    "TRAIN[\"Age\"].plot(kind='density', \n",
    "                  color='teal')\n",
    "ax.set(xlabel='Age')\n",
    "plt.xlim(-10,85)\n",
    "plt.show()\n",
    "\n",
    "print ('Stacked counts of rectified ages with density plot line')"
   ]
  },
  {
   "cell_type": "markdown",
   "metadata": {},
   "source": [
    "Our distribution is still skewed to the right (higher occurence of survival for 20-30 age range). Let's see if class has any influence on this distribution. Let's create a boxplot for every class and see if for every type of class the variances of occurences of survival on age. We also still see a distribution below ages < 18. Let's see if we can use our variable AgeFilter that we created and appended to our Dataframe, to how that affects survival rates."
   ]
  },
  {
   "cell_type": "code",
   "execution_count": 41,
   "metadata": {},
   "outputs": [
    {
     "data": {
      "text/plain": [
       "<matplotlib.axes._subplots.AxesSubplot at 0x1a19197f28>"
      ]
     },
     "execution_count": 41,
     "metadata": {},
     "output_type": "execute_result"
    },
    {
     "data": {
      "image/png": "[encoded data removed]",
      "text/plain": [
       "<Figure size 432x288 with 1 Axes>"
      ]
     },
     "metadata": {},
     "output_type": "display_data"
    }
   ],
   "source": [
    "sns.boxplot(x=\"AgeFilter\", y=\"Age\",\n",
    "                hue=\"Survived\",\n",
    "                data=TRAIN)\n"
   ]
  },
  {
   "cell_type": "markdown",
   "metadata": {},
   "source": [
    "On face value being a child does significantly reduces nor increases your survival rate, compared to being an adult. We can infer that just like we did before, from the whiskers. Let's see how class sets differences in survival rate for all ages, and than see how all these variables relate to each other."
   ]
  },
  {
   "cell_type": "code",
   "execution_count": 42,
   "metadata": {},
   "outputs": [
    {
     "data": {
      "text/plain": [
       "<matplotlib.axes._subplots.AxesSubplot at 0x1a19108908>"
      ]
     },
     "execution_count": 42,
     "metadata": {},
     "output_type": "execute_result"
    },
    {
     "data": {
      "image/png": "[encoded data removed]",
      "text/plain": [
       "<Figure size 432x288 with 1 Axes>"
      ]
     },
     "metadata": {},
     "output_type": "display_data"
    }
   ],
   "source": [
    "sns.boxplot(x=\"Pclass\", y=\"Age\",\n",
    "                hue=\"Survived\",\n",
    "                data=TRAIN)\n"
   ]
  },
  {
   "cell_type": "markdown",
   "metadata": {},
   "source": [
    "Occurences of survivors for class one on face value are evenly distributed, just as all the other classes. We can judge that by comparing survival occurences within each class. We can see that the whiskers are within each ranges. So, not deterministic difference However, interestingly we see many outliers in our imputed dataset for class 2 and 3. \n",
    "\n",
    "In class 3 a higher occurence of non-surival for ages > 55 seems to occur more often than in class 2 and 1. Let's see how survival rates are for males and females for different classes."
   ]
  },
  {
   "cell_type": "code",
   "execution_count": 43,
   "metadata": {},
   "outputs": [
    {
     "data": {
      "image/png": "[encoded data removed]",
      "text/plain": [
       "<Figure size 768.425x360 with 2 Axes>"
      ]
     },
     "metadata": {},
     "output_type": "display_data"
    }
   ],
   "source": [
    "f = sns.catplot(x=\"Pclass\", y=\"Age\",\n",
    "                hue=\"Survived\",\n",
    "                col=\"Sex\",\n",
    "                data=TRAIN,\n",
    "                kind=\"boxen\");\n"
   ]
  },
  {
   "cell_type": "markdown",
   "metadata": {},
   "source": [
    "This effect seems to be mediated by being a male or female. Over all the age averages of males dying is greater in 1st class and 2nd class, indicating older males died more than younger females in the of the same class. Furthermore, being female in the 3rd class lowers the average chance of surviving than being a male in the 3rd class. You can see that more males with age > 50 died in the 3rd class than females in the same class.\n",
    "\n"
   ]
  },
  {
   "cell_type": "code",
   "execution_count": 44,
   "metadata": {},
   "outputs": [
    {
     "data": {
      "image/png": "[encoded data removed]",
      "text/plain": [
       "<Figure size 768.425x360 with 2 Axes>"
      ]
     },
     "metadata": {},
     "output_type": "display_data"
    }
   ],
   "source": [
    "f = sns.catplot(x=\"AgeFilter\", y=\"Age\",\n",
    "                hue=\"Survived\",\n",
    "                col=\"Sex\",\n",
    "                data=TRAIN,\n",
    "                kind=\"boxen\");"
   ]
  },
  {
   "cell_type": "markdown",
   "metadata": {},
   "source": [
    "As we might expect, the whiskers of our boxplots do no lie in each others range, except in the same category. Indicating different age groups, but no big differences between males and females on surviving when controlling for the AgeFilter. "
   ]
  },
  {
   "cell_type": "markdown",
   "metadata": {},
   "source": [
    "Let's check our survival rates for varying ages of survivors and non-survivors at different embarkations for males, and females."
   ]
  },
  {
   "cell_type": "code",
   "execution_count": 45,
   "metadata": {},
   "outputs": [
    {
     "data": {
      "image/png": "[encoded data removed]",
      "text/plain": [
       "<Figure size 768.425x360 with 2 Axes>"
      ]
     },
     "metadata": {},
     "output_type": "display_data"
    }
   ],
   "source": [
    "z = sns.catplot(x=\"Embarked\", y=\"Age\",\n",
    "                hue=\"Survived\",\n",
    "                col=\"Sex\",\n",
    "                data=TRAIN,\n",
    "                kind=\"boxen\");\n",
    "\n",
    "#ax = sns.stripplot(x=\"Embarked\", y=\"Age\", hue='Survived', data=TRAIN,\n",
    "##                    size=2, jitter=True, dodge=True, color=\"grey\")\n"
   ]
  },
  {
   "cell_type": "markdown",
   "metadata": {},
   "source": [
    "We can clearly see a difference between the survival rate of males and females embarking the Titanic ship from Queenstown and those embarking from Southend and C. It looks like more men died that embarked the ship from Queenstown. Let's find our hidden variable! First, let's look at the distribution of survival rates between males and females."
   ]
  },
  {
   "cell_type": "code",
   "execution_count": 46,
   "metadata": {},
   "outputs": [
    {
     "data": {
      "image/png": "[encoded data removed]",
      "text/plain": [
       "<Figure size 432x288 with 1 Axes>"
      ]
     },
     "metadata": {},
     "output_type": "display_data"
    }
   ],
   "source": [
    "ax = sns.boxenplot(x=\"Survived\", y=\"Age\", hue='Sex', data=TRAIN)\n",
    "ax = sns.stripplot(x=\"Survived\", y=\"Age\", hue='Sex', data=TRAIN,\n",
    "                    size=3, jitter=True, dodge=True, color=\"grey\")"
   ]
  },
  {
   "cell_type": "markdown",
   "metadata": {},
   "source": [
    "The above figure represents the offset of males versus females on survival rates. We don't see big differences, but we know almost no females died embarking in Queenstown as compared to males embarking in the same town. Let's create a catplot of 3 box plots determining the survival rate of person's within classes departing from 3 embarkations. "
   ]
  },
  {
   "cell_type": "code",
   "execution_count": 47,
   "metadata": {},
   "outputs": [
    {
     "data": {
      "image/png": "[encoded data removed]",
      "text/plain": [
       "<Figure size 650.525x288 with 3 Axes>"
      ]
     },
     "metadata": {},
     "output_type": "display_data"
    }
   ],
   "source": [
    "o = sns.catplot(x=\"Survived\", y=\"Age\",\n",
    "                hue='Pclass', col= 'Embarked',\n",
    "                data=TRAIN,\n",
    "                 kind=\"boxen\",\n",
    "                height=4, aspect=.7);\n",
    "\n"
   ]
  },
  {
   "cell_type": "markdown",
   "metadata": {},
   "source": [
    "We can see that the greatest age variance in the survival rate of classes embarking from different towns is highest in embarkation from Southend. This means that class S probably isn't significantly explaining variance in survival rates between classes. This can be explained by that all ages for persons in S are not different on class for survival rate. \n",
    "\n",
    "Survival rates for persons departing from C seem substantially different between classes. For instance, no persons embarking at C with age > 30 in class 2 and class 3 survived. However, maybe this effect is also mediated through our age filter. Let's add a grid with plots with rows sex, and columns embarkation. For every row,index plot boxplots for age variances on survival rates of males and females embarking from S,C or Q are shown, and index the boxplots on class. "
   ]
  },
  {
   "cell_type": "code",
   "execution_count": 48,
   "metadata": {},
   "outputs": [
    {
     "data": {
      "image/png": "[encoded data removed]",
      "text/plain": [
       "<Figure size 650.525x576 with 6 Axes>"
      ]
     },
     "metadata": {},
     "output_type": "display_data"
    }
   ],
   "source": [
    "w = sns.catplot(x=\"Survived\", y=\"Age\",\n",
    "                hue='Pclass', col= 'Embarked',\n",
    "                row='Sex',\n",
    "                data=TRAIN,\n",
    "                 kind=\"boxen\", \n",
    "                height=4, aspect=.7);"
   ]
  },
  {
   "cell_type": "markdown",
   "metadata": {},
   "source": [
    "In summation:\n",
    "\n",
    "First of all, I haven't listed everything. We can however sum our observations up and then, try to predict with our TEST data if a person with set weights would survive.\n",
    "\n",
    "General:\n",
    "1. Persons age variances on survival departing from S where highest.\n",
    "\n",
    "Class:\n",
    "1. No males age > 3 from class 2 survived embarking from C.\n",
    "2. No males died in class 1 embarking from C age < 20. \n",
    "3. Survival occurences for class 1 females age < 20 were lower than for males age < 20 embarking from S. (No heroes in class 1)\n",
    "\n",
    "Sex:\n",
    "\n",
    "1. Males have lower occurences of surviving than females when embarking from C and S.\n",
    "2. Males have highest occurences of surviving when embarking from Q.\n",
    "3. No 1st and 2nd class females died embarking from Q.\n",
    "4. All 1st and 2nd class males died embarking from Q. (Is this where our heroes are?) \n",
    "5. But only a handfull of class 1 and class 2 females embarking from Q survived. \n",
    "\n",
    "There are numerous ways of interpreting the data, more than I was willing to write here without diverting too much. But, what if we want to predict survival rate by those same factors? To do that we have to create a simple neural net that learns from our dataset to predict survival rate. Let's also apply an association rule to predict, and compare the neural net with our association rule algorithm.\n"
   ]
  },
  {
   "cell_type": "code",
   "execution_count": 49,
   "metadata": {},
   "outputs": [
    {
     "data": {
      "text/html": [
       "<div>\n",
       "<style scoped>\n",
       "    .dataframe tbody tr th:only-of-type {\n",
       "        vertical-align: middle;\n",
       "    }\n",
       "\n",
       "    .dataframe tbody tr th {\n",
       "        vertical-align: top;\n",
       "    }\n",
       "\n",
       "    .dataframe thead th {\n",
       "        text-align: right;\n",
       "    }\n",
       "</style>\n",
       "<table border=\"1\" class=\"dataframe\">\n",
       "  <thead>\n",
       "    <tr style=\"text-align: right;\">\n",
       "      <th></th>\n",
       "      <th>AgeFilter</th>\n",
       "      <th>PassengerId</th>\n",
       "      <th>Survived</th>\n",
       "      <th>Pclass</th>\n",
       "      <th>Name</th>\n",
       "      <th>Sex</th>\n",
       "      <th>Age</th>\n",
       "      <th>SibSp</th>\n",
       "      <th>Parch</th>\n",
       "      <th>Ticket</th>\n",
       "      <th>Fare</th>\n",
       "      <th>Cabin</th>\n",
       "      <th>Embarked</th>\n",
       "    </tr>\n",
       "  </thead>\n",
       "  <tbody>\n",
       "    <tr>\n",
       "      <th>0</th>\n",
       "      <td>A</td>\n",
       "      <td>1</td>\n",
       "      <td>0</td>\n",
       "      <td>3</td>\n",
       "      <td>Braund, Mr. Owen Harris</td>\n",
       "      <td>male</td>\n",
       "      <td>22.0</td>\n",
       "      <td>1</td>\n",
       "      <td>0</td>\n",
       "      <td>A/5 21171</td>\n",
       "      <td>7.2500</td>\n",
       "      <td>NaN</td>\n",
       "      <td>S</td>\n",
       "    </tr>\n",
       "    <tr>\n",
       "      <th>1</th>\n",
       "      <td>A</td>\n",
       "      <td>2</td>\n",
       "      <td>1</td>\n",
       "      <td>1</td>\n",
       "      <td>Cumings, Mrs. John Bradley (Florence Briggs Th...</td>\n",
       "      <td>female</td>\n",
       "      <td>38.0</td>\n",
       "      <td>1</td>\n",
       "      <td>0</td>\n",
       "      <td>PC 17599</td>\n",
       "      <td>71.2833</td>\n",
       "      <td>C85</td>\n",
       "      <td>C</td>\n",
       "    </tr>\n",
       "    <tr>\n",
       "      <th>2</th>\n",
       "      <td>A</td>\n",
       "      <td>3</td>\n",
       "      <td>1</td>\n",
       "      <td>3</td>\n",
       "      <td>Heikkinen, Miss. Laina</td>\n",
       "      <td>female</td>\n",
       "      <td>26.0</td>\n",
       "      <td>0</td>\n",
       "      <td>0</td>\n",
       "      <td>STON/O2. 3101282</td>\n",
       "      <td>7.9250</td>\n",
       "      <td>NaN</td>\n",
       "      <td>S</td>\n",
       "    </tr>\n",
       "    <tr>\n",
       "      <th>3</th>\n",
       "      <td>A</td>\n",
       "      <td>4</td>\n",
       "      <td>1</td>\n",
       "      <td>1</td>\n",
       "      <td>Futrelle, Mrs. Jacques Heath (Lily May Peel)</td>\n",
       "      <td>female</td>\n",
       "      <td>35.0</td>\n",
       "      <td>1</td>\n",
       "      <td>0</td>\n",
       "      <td>113803</td>\n",
       "      <td>53.1000</td>\n",
       "      <td>C123</td>\n",
       "      <td>S</td>\n",
       "    </tr>\n",
       "    <tr>\n",
       "      <th>4</th>\n",
       "      <td>A</td>\n",
       "      <td>5</td>\n",
       "      <td>0</td>\n",
       "      <td>3</td>\n",
       "      <td>Allen, Mr. William Henry</td>\n",
       "      <td>male</td>\n",
       "      <td>35.0</td>\n",
       "      <td>0</td>\n",
       "      <td>0</td>\n",
       "      <td>373450</td>\n",
       "      <td>8.0500</td>\n",
       "      <td>NaN</td>\n",
       "      <td>S</td>\n",
       "    </tr>\n",
       "  </tbody>\n",
       "</table>\n",
       "</div>"
      ],
      "text/plain": [
       "  AgeFilter  PassengerId  Survived  Pclass  \\\n",
       "0         A            1         0       3   \n",
       "1         A            2         1       1   \n",
       "2         A            3         1       3   \n",
       "3         A            4         1       1   \n",
       "4         A            5         0       3   \n",
       "\n",
       "                                                Name     Sex   Age  SibSp  \\\n",
       "0                            Braund, Mr. Owen Harris    male  22.0      1   \n",
       "1  Cumings, Mrs. John Bradley (Florence Briggs Th...  female  38.0      1   \n",
       "2                             Heikkinen, Miss. Laina  female  26.0      0   \n",
       "3       Futrelle, Mrs. Jacques Heath (Lily May Peel)  female  35.0      1   \n",
       "4                           Allen, Mr. William Henry    male  35.0      0   \n",
       "\n",
       "   Parch            Ticket     Fare Cabin Embarked  \n",
       "0      0         A/5 21171   7.2500   NaN        S  \n",
       "1      0          PC 17599  71.2833   C85        C  \n",
       "2      0  STON/O2. 3101282   7.9250   NaN        S  \n",
       "3      0            113803  53.1000  C123        S  \n",
       "4      0            373450   8.0500   NaN        S  "
      ]
     },
     "execution_count": 49,
     "metadata": {},
     "output_type": "execute_result"
    }
   ],
   "source": [
    "TRAIN.head()"
   ]
  },
  {
   "cell_type": "code",
   "execution_count": 50,
   "metadata": {},
   "outputs": [
    {
     "data": {
      "text/plain": [
       "AgeFilter        0\n",
       "PassengerId      0\n",
       "Survived         0\n",
       "Pclass           0\n",
       "Name             0\n",
       "Sex              0\n",
       "Age            177\n",
       "SibSp            0\n",
       "Parch            0\n",
       "Ticket           0\n",
       "Fare             0\n",
       "Cabin          687\n",
       "Embarked         2\n",
       "dtype: int64"
      ]
     },
     "execution_count": 50,
     "metadata": {},
     "output_type": "execute_result"
    }
   ],
   "source": [
    "TRAIN.isnull().sum()"
   ]
  },
  {
   "cell_type": "markdown",
   "metadata": {},
   "source": [
    "As you can see Age has no missing values. Embarked has two, and thus must we replace it by any embarkation number.\n",
    "Let's quickly check our distribution. We will impute the two embarkations with highest occurences of persons. "
   ]
  },
  {
   "cell_type": "code",
   "execution_count": 51,
   "metadata": {},
   "outputs": [
    {
     "data": {
      "text/plain": [
       "<matplotlib.axes._subplots.AxesSubplot at 0x1a1ad124a8>"
      ]
     },
     "execution_count": 51,
     "metadata": {},
     "output_type": "execute_result"
    },
    {
     "data": {
      "image/png": "[encoded data removed]",
      "text/plain": [
       "<Figure size 432x288 with 1 Axes>"
      ]
     },
     "metadata": {},
     "output_type": "display_data"
    }
   ],
   "source": [
    "sns.countplot(TRAIN['Embarked'])"
   ]
  },
  {
   "cell_type": "markdown",
   "metadata": {},
   "source": [
    "Let's put an S and C in the two missing values. "
   ]
  },
  {
   "cell_type": "code",
   "execution_count": 52,
   "metadata": {},
   "outputs": [
    {
     "name": "stdout",
     "output_type": "stream",
     "text": [
      "['S', 'C', 'S', 'S', 'S', 'Q']\n",
      "<class 'str'>\n"
     ]
    },
    {
     "data": {
      "text/plain": [
       "['S', 'C', 'S', 'S', 'S', 'Q', 'S', 'S', 'S', 'C']"
      ]
     },
     "execution_count": 52,
     "metadata": {},
     "output_type": "execute_result"
    }
   ],
   "source": [
    "#Create list of Embarkation values\n",
    "embark_ = list(TRAIN['Embarked'])\n",
    "\n",
    "#Impute function to rectify embarkation values according to the countplot\n",
    "def embark_rect(klist):\n",
    "    #Create empty list and set count to 0\n",
    "    dlist = []\n",
    "    count = 0\n",
    "    #Iterate over the list\n",
    "    for i in klist:\n",
    "        #Filter i on 'nan', count < 1\n",
    "        if i == 'nan' and count <1: \n",
    "            #Append embarkation of C category children\n",
    "            dlist.append('C')\n",
    "            #Increment count \n",
    "            count += 1\n",
    "        #Filter if count => 1\n",
    "        elif i == 'nan' and count >= 1:\n",
    "                dlist.append('S')\n",
    "                count += 1\n",
    "        else:\n",
    "            #Append i if i is an age value\n",
    "            dlist.append(str(i))\n",
    "            \n",
    "        \n",
    "    #Returns list of values\n",
    "    print (dlist[:6])\n",
    "    print (type(dlist[6]))\n",
    "    \n",
    "    return dlist\n",
    "\n",
    "#Change nan-values to S and N and set as new list\n",
    "new_embark_list = embark_rect(embark_)\n",
    "new_embark_list[:10]"
   ]
  },
  {
   "cell_type": "code",
   "execution_count": 53,
   "metadata": {},
   "outputs": [],
   "source": [
    "#Impute our new_age_list variable from imputation on a re-shuffled index for bias reduction as a age column\n",
    "TRAIN['Age'] = new_age_list #Median Imputed\n",
    "TRAIN['Embarked'] = new_embark_list #S and C imputed\n"
   ]
  },
  {
   "cell_type": "code",
   "execution_count": 54,
   "metadata": {},
   "outputs": [],
   "source": [
    "#Independent Variables\n",
    "c_class_ = TRAIN.iloc[:,3:4].values #Class\n",
    "c_class_ = [float(i) for i in c_class_]            \n",
    "c_age_ = TRAIN.iloc[:, 6:7].values #Sex\n",
    "c_age_ = [float(i) for i in c_age_]\n",
    "c_sex_ = TRAIN.iloc[:,5:6]\n",
    "c_embarkation = TRAIN.iloc[:,12:13] #Embarkation\n",
    "c_agefilter = TRAIN.iloc[:,0:1].values #Age filter: c or a"
   ]
  },
  {
   "cell_type": "code",
   "execution_count": 55,
   "metadata": {},
   "outputs": [],
   "source": [
    "#Encoding the categorical variables\n",
    "from sklearn.preprocessing import LabelEncoder\n",
    "#Initialise encoders\n",
    "ohe_sex = LabelEncoder()\n",
    "ohe_af = LabelEncoder()\n",
    "ohe_em = LabelEncoder()"
   ]
  },
  {
   "cell_type": "code",
   "execution_count": 56,
   "metadata": {},
   "outputs": [
    {
     "name": "stderr",
     "output_type": "stream",
     "text": [
      "/anaconda3/envs/CodexA/lib/python3.6/site-packages/sklearn/preprocessing/label.py:235: DataConversionWarning: A column-vector y was passed when a 1d array was expected. Please change the shape of y to (n_samples, ), for example using ravel().\n",
      "  y = column_or_1d(y, warn=True)\n",
      "/anaconda3/envs/CodexA/lib/python3.6/site-packages/sklearn/preprocessing/label.py:235: DataConversionWarning: A column-vector y was passed when a 1d array was expected. Please change the shape of y to (n_samples, ), for example using ravel().\n",
      "  y = column_or_1d(y, warn=True)\n",
      "/anaconda3/envs/CodexA/lib/python3.6/site-packages/sklearn/preprocessing/label.py:235: DataConversionWarning: A column-vector y was passed when a 1d array was expected. Please change the shape of y to (n_samples, ), for example using ravel().\n",
      "  y = column_or_1d(y, warn=True)\n"
     ]
    }
   ],
   "source": [
    "#Fit and transform the categorical values with the OneHotEncoder\n",
    "c_sex_ = ohe_sex.fit_transform(c_sex_)\n",
    "c_agefilter = ohe_af.fit_transform(c_agefilter)\n",
    "c_embarkation = ohe_em.fit_transform(c_embarkation)\n"
   ]
  },
  {
   "cell_type": "code",
   "execution_count": 57,
   "metadata": {},
   "outputs": [],
   "source": [
    "#Reshape data for readability by the forward Neural Net\n",
    "c_agefilter = np.reshape(c_agefilter, (-1,1))\n",
    "c_embarkation = np.reshape(c_embarkation, (-1,1))\n",
    "#c_sex_ = np.reshape(c_sex_, (-1,1))\n",
    "#c_class_ = np.reshape(c_sex_, (-1,1))\n",
    "c_sex = np.reshape(c_sex_, (-1,1))\n",
    "#c_age_ = np.reshape(c_age_,(-1,1))"
   ]
  },
  {
   "cell_type": "code",
   "execution_count": 58,
   "metadata": {},
   "outputs": [
    {
     "name": "stdout",
     "output_type": "stream",
     "text": [
      "[3.0, 1.0, 3.0, 1.0, 3.0, 3.0, 1.0, 3.0, 3.0, 2.0]\n",
      "[22.0, 38.0, 26.0, 35.0, 35.0, 33.58, 54.0, 2.0, 27.0, 14.0]\n",
      "[1 0 0 0 1 1 1 1 0 0]\n",
      "[[2]\n",
      " [0]\n",
      " [2]\n",
      " [2]\n",
      " [2]]\n",
      "[[0]\n",
      " [0]\n",
      " [0]\n",
      " [0]\n",
      " [0]\n",
      " [0]\n",
      " [0]\n",
      " [1]\n",
      " [0]\n",
      " [1]]\n"
     ]
    }
   ],
   "source": [
    "print (c_class_[:10])\n",
    "print (c_age_[:10])\n",
    "print (c_sex_[:10])\n",
    "print (c_embarkation[:5])\n",
    "print (c_agefilter[:10])\n"
   ]
  },
  {
   "cell_type": "code",
   "execution_count": 59,
   "metadata": {},
   "outputs": [],
   "source": [
    "#New dataframe with variables for the neural net\n",
    "nn_df = pd.DataFrame()\n",
    "nn_df['Class'] = c_class_\n",
    "nn_df['Age'] = c_age_\n",
    "nn_df['Sex'] = c_sex_\n",
    "nn_df['Embarkation'] = c_embarkation\n",
    "nn_df['Agefilter'] = c_agefilter\n",
    "#nn_df['Survived'] = TRAIN['Survived']\n",
    "\n",
    "nn_df.head()\n",
    "#X = np.concatenate((c_class_, c_age_,  c_sex_, c_embarkation, c_agefilter))\n",
    "y = TRAIN.iloc[:,2:3].values #Survival yes/no\n",
    "#print (X[:10])\n",
    "#print (y[:10])\n",
    "\n"
   ]
  },
  {
   "cell_type": "code",
   "execution_count": 60,
   "metadata": {},
   "outputs": [
    {
     "data": {
      "text/html": [
       "<div>\n",
       "<style scoped>\n",
       "    .dataframe tbody tr th:only-of-type {\n",
       "        vertical-align: middle;\n",
       "    }\n",
       "\n",
       "    .dataframe tbody tr th {\n",
       "        vertical-align: top;\n",
       "    }\n",
       "\n",
       "    .dataframe thead th {\n",
       "        text-align: right;\n",
       "    }\n",
       "</style>\n",
       "<table border=\"1\" class=\"dataframe\">\n",
       "  <thead>\n",
       "    <tr style=\"text-align: right;\">\n",
       "      <th></th>\n",
       "      <th>Class</th>\n",
       "      <th>Age</th>\n",
       "      <th>Sex</th>\n",
       "      <th>Embarkation</th>\n",
       "      <th>Agefilter</th>\n",
       "    </tr>\n",
       "  </thead>\n",
       "  <tbody>\n",
       "    <tr>\n",
       "      <th>0</th>\n",
       "      <td>3.0</td>\n",
       "      <td>22.0</td>\n",
       "      <td>1</td>\n",
       "      <td>2</td>\n",
       "      <td>0</td>\n",
       "    </tr>\n",
       "    <tr>\n",
       "      <th>1</th>\n",
       "      <td>1.0</td>\n",
       "      <td>38.0</td>\n",
       "      <td>0</td>\n",
       "      <td>0</td>\n",
       "      <td>0</td>\n",
       "    </tr>\n",
       "    <tr>\n",
       "      <th>2</th>\n",
       "      <td>3.0</td>\n",
       "      <td>26.0</td>\n",
       "      <td>0</td>\n",
       "      <td>2</td>\n",
       "      <td>0</td>\n",
       "    </tr>\n",
       "    <tr>\n",
       "      <th>3</th>\n",
       "      <td>1.0</td>\n",
       "      <td>35.0</td>\n",
       "      <td>0</td>\n",
       "      <td>2</td>\n",
       "      <td>0</td>\n",
       "    </tr>\n",
       "    <tr>\n",
       "      <th>4</th>\n",
       "      <td>3.0</td>\n",
       "      <td>35.0</td>\n",
       "      <td>1</td>\n",
       "      <td>2</td>\n",
       "      <td>0</td>\n",
       "    </tr>\n",
       "  </tbody>\n",
       "</table>\n",
       "</div>"
      ],
      "text/plain": [
       "   Class   Age  Sex  Embarkation  Agefilter\n",
       "0    3.0  22.0    1            2          0\n",
       "1    1.0  38.0    0            0          0\n",
       "2    3.0  26.0    0            2          0\n",
       "3    1.0  35.0    0            2          0\n",
       "4    3.0  35.0    1            2          0"
      ]
     },
     "execution_count": 60,
     "metadata": {},
     "output_type": "execute_result"
    }
   ],
   "source": [
    "#Create numpy array for to set as X feature for prediction\n",
    "X = nn_df.iloc[:,:]\n",
    "X.head()"
   ]
  },
  {
   "cell_type": "code",
   "execution_count": 61,
   "metadata": {},
   "outputs": [
    {
     "data": {
      "text/plain": [
       "<matplotlib.axes._subplots.AxesSubplot at 0x1a1b02df98>"
      ]
     },
     "execution_count": 61,
     "metadata": {},
     "output_type": "execute_result"
    },
    {
     "data": {
      "image/png": "[encoded data removed]",
      "text/plain": [
       "<Figure size 432x288 with 1 Axes>"
      ]
     },
     "metadata": {},
     "output_type": "display_data"
    }
   ],
   "source": [
    "sns.countplot(X['Embarkation'])"
   ]
  },
  {
   "cell_type": "code",
   "execution_count": 62,
   "metadata": {},
   "outputs": [
    {
     "name": "stderr",
     "output_type": "stream",
     "text": [
      "/anaconda3/envs/CodexA/lib/python3.6/site-packages/sklearn/preprocessing/data.py:617: DataConversionWarning: Data with input dtype int64, float64 were all converted to float64 by StandardScaler.\n",
      "  return self.partial_fit(X, y)\n",
      "/anaconda3/envs/CodexA/lib/python3.6/site-packages/sklearn/base.py:462: DataConversionWarning: Data with input dtype int64, float64 were all converted to float64 by StandardScaler.\n",
      "  return self.fit(X, **fit_params).transform(X)\n"
     ]
    },
    {
     "data": {
      "text/plain": [
       "array([[ 0.82737724, -0.54745109,  0.73769513,  0.58111394, -0.42993072],\n",
       "       [-1.56610693,  0.61949634, -1.35557354, -1.93846038, -0.42993072],\n",
       "       [ 0.82737724, -0.25571423, -1.35557354,  0.58111394, -0.42993072],\n",
       "       ...,\n",
       "       [ 0.82737724,  0.29712711, -1.35557354,  0.58111394, -0.42993072],\n",
       "       [-1.56610693, -0.25571423,  0.73769513, -1.93846038, -0.42993072],\n",
       "       [ 0.82737724,  0.18189105,  0.73769513, -0.67867322, -0.42993072]])"
      ]
     },
     "execution_count": 62,
     "metadata": {},
     "output_type": "execute_result"
    }
   ],
   "source": [
    "#Standardise all values\n",
    "from sklearn.preprocessing import StandardScaler\n",
    "sc = StandardScaler()\n",
    "X = sc.fit_transform(X)\n",
    "X"
   ]
  },
  {
   "cell_type": "code",
   "execution_count": 63,
   "metadata": {},
   "outputs": [],
   "source": [
    "#Create test/train set from data\n",
    "from sklearn.model_selection import train_test_split\n",
    "X_train, X_test, y_train, y_test = train_test_split(X,y, test_size = 0.25, random_state= 0)\n",
    "\n",
    "#Feature Scaling x_train and x_test (Z-scores) \n",
    "from sklearn.preprocessing import StandardScaler\n",
    "sc = StandardScaler()\n",
    "X_train = sc.fit_transform(X_train)\n",
    "X_test = sc.transform(X_test)\n"
   ]
  },
  {
   "cell_type": "code",
   "execution_count": 64,
   "metadata": {},
   "outputs": [
    {
     "data": {
      "text/plain": [
       "array([[ 0.83012938, -0.11696522,  0.72705166,  0.56095047, -0.42696708],\n",
       "       [ 0.83012938, -0.91905983, -1.37541808,  0.56095047,  2.34210096],\n",
       "       [ 0.83012938,  0.02887017,  0.72705166,  0.56095047, -0.42696708],\n",
       "       ...,\n",
       "       [ 0.83012938,  0.2899155 ,  0.72705166, -0.73116992, -0.42696708],\n",
       "       [ 0.83012938,  0.46637632, -1.37541808,  0.56095047, -0.42696708],\n",
       "       [-0.36497068,  2.21640093,  0.72705166,  0.56095047, -0.42696708]])"
      ]
     },
     "execution_count": 64,
     "metadata": {},
     "output_type": "execute_result"
    }
   ],
   "source": [
    "X_train"
   ]
  },
  {
   "cell_type": "code",
   "execution_count": 65,
   "metadata": {},
   "outputs": [
    {
     "data": {
      "text/plain": [
       "{'whiskers': [<matplotlib.lines.Line2D at 0x1a1b2e4e48>,\n",
       "  <matplotlib.lines.Line2D at 0x1a1b2e8320>,\n",
       "  <matplotlib.lines.Line2D at 0x1a1b2f0da0>,\n",
       "  <matplotlib.lines.Line2D at 0x1a1b2f8240>,\n",
       "  <matplotlib.lines.Line2D at 0x1a1b301cc0>,\n",
       "  <matplotlib.lines.Line2D at 0x1a1b309160>,\n",
       "  <matplotlib.lines.Line2D at 0x1a1b311be0>,\n",
       "  <matplotlib.lines.Line2D at 0x1a1b31a080>,\n",
       "  <matplotlib.lines.Line2D at 0x1a1b321b00>,\n",
       "  <matplotlib.lines.Line2D at 0x1a1b321f60>],\n",
       " 'caps': [<matplotlib.lines.Line2D at 0x1a1b2e8780>,\n",
       "  <matplotlib.lines.Line2D at 0x1a1b2e8be0>,\n",
       "  <matplotlib.lines.Line2D at 0x1a1b2f86a0>,\n",
       "  <matplotlib.lines.Line2D at 0x1a1b2f8b00>,\n",
       "  <matplotlib.lines.Line2D at 0x1a1b3095c0>,\n",
       "  <matplotlib.lines.Line2D at 0x1a1b309a20>,\n",
       "  <matplotlib.lines.Line2D at 0x1a1b31a4e0>,\n",
       "  <matplotlib.lines.Line2D at 0x1a1b31a940>,\n",
       "  <matplotlib.lines.Line2D at 0x1a1b328400>,\n",
       "  <matplotlib.lines.Line2D at 0x1a1b328860>],\n",
       " 'boxes': [<matplotlib.lines.Line2D at 0x1a1b2e4cc0>,\n",
       "  <matplotlib.lines.Line2D at 0x1a1b2f0908>,\n",
       "  <matplotlib.lines.Line2D at 0x1a1b301828>,\n",
       "  <matplotlib.lines.Line2D at 0x1a1b311748>,\n",
       "  <matplotlib.lines.Line2D at 0x1a1b321668>],\n",
       " 'medians': [<matplotlib.lines.Line2D at 0x1a1b2f0080>,\n",
       "  <matplotlib.lines.Line2D at 0x1a1b2f8f60>,\n",
       "  <matplotlib.lines.Line2D at 0x1a1b309e80>,\n",
       "  <matplotlib.lines.Line2D at 0x1a1b31ada0>,\n",
       "  <matplotlib.lines.Line2D at 0x1a1b328cc0>],\n",
       " 'fliers': [<matplotlib.lines.Line2D at 0x1a1b2f04e0>,\n",
       "  <matplotlib.lines.Line2D at 0x1a1b301400>,\n",
       "  <matplotlib.lines.Line2D at 0x1a1b311320>,\n",
       "  <matplotlib.lines.Line2D at 0x1a1b321240>,\n",
       "  <matplotlib.lines.Line2D at 0x1a1b334160>],\n",
       " 'means': []}"
      ]
     },
     "execution_count": 65,
     "metadata": {},
     "output_type": "execute_result"
    },
    {
     "data": {
      "image/png": "[encoded data removed]",
      "text/plain": [
       "<Figure size 432x288 with 1 Axes>"
      ]
     },
     "metadata": {},
     "output_type": "display_data"
    }
   ],
   "source": [
    "plt.boxplot(X_train)"
   ]
  },
  {
   "cell_type": "markdown",
   "metadata": {},
   "source": []
  },
  {
   "cell_type": "code",
   "execution_count": 66,
   "metadata": {},
   "outputs": [
    {
     "data": {
      "text/plain": [
       "array([[ 0.83012938,  0.2899155 ,  0.72705166, -2.02329031, -0.42696708],\n",
       "       [ 0.83012938,  0.2899155 ,  0.72705166,  0.56095047, -0.42696708],\n",
       "       [ 0.83012938, -1.64823675,  0.72705166, -0.73116992,  2.34210096],\n",
       "       ...,\n",
       "       [ 0.83012938, -0.77322445,  0.72705166,  0.56095047, -0.42696708],\n",
       "       [-1.56007074, -0.62738906, -1.37541808, -2.02329031, -0.42696708],\n",
       "       [ 0.83012938, -1.86698983, -1.37541808,  0.56095047,  2.34210096]])"
      ]
     },
     "execution_count": 66,
     "metadata": {},
     "output_type": "execute_result"
    }
   ],
   "source": [
    "X_test"
   ]
  },
  {
   "cell_type": "code",
   "execution_count": 67,
   "metadata": {},
   "outputs": [
    {
     "name": "stderr",
     "output_type": "stream",
     "text": [
      "/anaconda3/envs/CodexA/lib/python3.6/site-packages/sklearn/linear_model/logistic.py:432: FutureWarning: Default solver will be changed to 'lbfgs' in 0.22. Specify a solver to silence this warning.\n",
      "  FutureWarning)\n",
      "/anaconda3/envs/CodexA/lib/python3.6/site-packages/sklearn/utils/validation.py:752: DataConversionWarning: A column-vector y was passed when a 1d array was expected. Please change the shape of y to (n_samples, ), for example using ravel().\n",
      "  y = column_or_1d(y, warn=True)\n"
     ]
    },
    {
     "data": {
      "text/plain": [
       "LogisticRegression(C=1.0, class_weight=None, dual=False, fit_intercept=True,\n",
       "          intercept_scaling=1, max_iter=100, multi_class='warn',\n",
       "          n_jobs=None, penalty='l2', random_state=0, solver='warn',\n",
       "          tol=0.0001, verbose=0, warm_start=False)"
      ]
     },
     "execution_count": 67,
     "metadata": {},
     "output_type": "execute_result"
    }
   ],
   "source": [
    "#Create the classifier\n",
    "from sklearn.linear_model import LogisticRegression\n",
    "classifier = LogisticRegression(random_state=0)\n",
    "classifier.fit(X_train,y_train) "
   ]
  },
  {
   "cell_type": "code",
   "execution_count": 68,
   "metadata": {},
   "outputs": [
    {
     "data": {
      "text/plain": [
       "array([0, 0, 0, 1, 1, 0, 1, 1, 1, 1, 0, 1, 0, 1, 1, 1, 0, 0, 0, 0, 0, 1,\n",
       "       0, 0, 1, 1, 0, 1, 1, 1, 0, 1, 0, 0, 0, 1, 0, 0, 0, 0, 0, 0, 0, 0,\n",
       "       1, 0, 0, 1, 0, 0, 0, 1, 1, 0, 1, 0, 0, 1, 0, 0, 0, 1, 1, 1, 1, 0,\n",
       "       1, 0, 1, 1, 1, 0, 1, 0, 0, 1, 0, 0, 0, 0, 0, 0, 1, 0, 0, 1, 1, 0,\n",
       "       1, 1, 0, 0, 0, 1, 1, 0, 1, 0, 0, 1, 0, 0, 0, 0, 1, 1, 1, 0, 0, 1,\n",
       "       0, 1, 0, 1, 0, 1, 1, 1, 0, 1, 0, 0, 0, 0, 0, 0, 0, 0, 0, 0, 1, 0,\n",
       "       0, 1, 0, 0, 0, 0, 0, 0, 0, 1, 0, 1, 1, 1, 0, 1, 1, 0, 0, 1, 1, 0,\n",
       "       1, 0, 1, 0, 1, 1, 0, 0, 1, 1, 0, 0, 0, 0, 0, 0, 0, 1, 0, 0, 1, 0,\n",
       "       1, 0, 0, 1, 0, 0, 0, 0, 0, 0, 1, 0, 0, 1, 1, 0, 1, 1, 0, 0, 0, 1,\n",
       "       0, 0, 0, 1, 0, 1, 0, 0, 1, 0, 1, 0, 0, 0, 0, 1, 0, 0, 0, 0, 0, 1,\n",
       "       0, 1, 1])"
      ]
     },
     "execution_count": 68,
     "metadata": {},
     "output_type": "execute_result"
    }
   ],
   "source": [
    "#Predict y based on x_test\n",
    "y_pred = classifier.predict(X_test)\n",
    "y_pred"
   ]
  },
  {
   "cell_type": "code",
   "execution_count": 69,
   "metadata": {},
   "outputs": [],
   "source": [
    "y_pred = np.reshape(y_pred,(-1, 1))"
   ]
  },
  {
   "cell_type": "code",
   "execution_count": 70,
   "metadata": {},
   "outputs": [
    {
     "data": {
      "text/plain": [
       "array([[0],\n",
       "       [0],\n",
       "       [0],\n",
       "       [1],\n",
       "       [1]])"
      ]
     },
     "execution_count": 70,
     "metadata": {},
     "output_type": "execute_result"
    }
   ],
   "source": [
    "y_pred[:5]"
   ]
  },
  {
   "cell_type": "code",
   "execution_count": 71,
   "metadata": {},
   "outputs": [
    {
     "name": "stdout",
     "output_type": "stream",
     "text": [
      "[[115  24]\n",
      " [ 21  63]]\n",
      "114+64/114+25+20+64 = 85% Sensitivity/Accuracy\n",
      "114/114+20 = 85% Positive Predictive Value\n",
      "64/64+25 = 72% Specificity\n"
     ]
    }
   ],
   "source": [
    "#Making the Confusion Matrix to evaluate the model\n",
    "from sklearn.metrics import confusion_matrix\n",
    "cm = confusion_matrix(y_test, y_pred)\n",
    "\n",
    "print (cm)\n",
    "print ('114+64/114+25+20+64 = 85% Sensitivity/Accuracy')\n",
    "print ('114/114+20 = 85% Positive Predictive Value') #The bigger the N the bigger the prevalence, the higher the chance to find data against the H0\n",
    "print ('64/64+25 = 72% Specificity') "
   ]
  },
  {
   "cell_type": "code",
   "execution_count": 72,
   "metadata": {},
   "outputs": [
    {
     "name": "stdout",
     "output_type": "stream",
     "text": [
      "              precision    recall  f1-score   support\n",
      "\n",
      "           0       0.85      0.83      0.84       139\n",
      "           1       0.72      0.75      0.74        84\n",
      "\n",
      "   micro avg       0.80      0.80      0.80       223\n",
      "   macro avg       0.78      0.79      0.79       223\n",
      "weighted avg       0.80      0.80      0.80       223\n",
      "\n",
      "The accuracy we calculated is the same.\n"
     ]
    }
   ],
   "source": [
    "#Let's print the classification report anyway\n",
    "from sklearn.metrics import classification_report\n",
    "print(classification_report(y_test, y_pred))\n",
    "\n",
    "print ('The accuracy we calculated is the same.')"
   ]
  },
  {
   "cell_type": "markdown",
   "metadata": {},
   "source": [
    "Lastly, let's plot a Receiver Operating Characteristic that displays the false positive rate against the true positive rate. A false positive observation means that the number of times the neural net classifies something as 'true', but falsely does so a number of times, is compared to the number of times it classifies something true which is true. On the X-axis the FP or False Positives, and on the y-axis the TP or True positives. You want the curve to bulge out to the left top corner so that, the area under the curve becomes larger, which translates to a better test accuracy. If you take the slope of tangent line at a given cutpoint on the line, you get the likelihood ratio(LR) for that value. Multiplying all those values gives you a tiny value, for which you can use the log-function in base 10. With the log-likelihood are able to built classification models (AIC) with n parameters in which you maximise regression power and minimise n. "
   ]
  },
  {
   "cell_type": "code",
   "execution_count": 73,
   "metadata": {},
   "outputs": [
    {
     "data": {
      "image/png": "[encoded data removed]",
      "text/plain": [
       "<Figure size 432x288 with 1 Axes>"
      ]
     },
     "metadata": {},
     "output_type": "display_data"
    }
   ],
   "source": [
    "#Create ROC Curve\n",
    "#Import libraries\n",
    "from sklearn.metrics import roc_auc_score\n",
    "from sklearn.metrics import roc_curve\n",
    "\n",
    "#Plot X_test vs y_test\n",
    "logistic_roc_auc = roc_auc_score(y_test, classifier.predict(X_test))\n",
    "#Get false positive rate, true positive rate and tresholds\n",
    "fpr, tpr, thresholds = roc_curve(y_test, classifier.predict_proba(X_test)[:,1])\n",
    "#Plot the figure\n",
    "plt.figure()\n",
    "#Plot the curve\n",
    "plt.plot(fpr, tpr, label='Logistic Regression (area = %0.2f)' % logistic_roc_auc)\n",
    "\n",
    "#Set axis\n",
    "#Plot line\n",
    "plt.plot([0, 1], [0, 1],'r--')\n",
    "#Set axis limits\n",
    "plt.xlim([0.0, 1.0])\n",
    "plt.ylim([0.0, 1.05])\n",
    "#Set x,y labels, title and legend\n",
    "plt.xlabel('False Positive Rate')\n",
    "plt.ylabel('True Positive Rate')\n",
    "plt.title('Receiver operating characteristic')\n",
    "plt.legend(loc=\"lower right\")\n",
    "plt.show()"
   ]
  },
  {
   "cell_type": "markdown",
   "metadata": {},
   "source": [
    "This notebook was intended to operate on different skillset in handling data. We showed that children were saved, men and women died coming from lower classes and embarking from Queenstown. To do this we had to create some functions to re-shuffle our indexed data and impute it with variables following a biniomial distribution. Then we created a neural net to train our classifier on. Logistic regression was used to predict chances of survival given class, age, an agefilter, sex and embarkation. Our instrument was 85% accurate on the training data. Let's predict on the TEST data  and call it a day."
   ]
  },
  {
   "cell_type": "code",
   "execution_count": 74,
   "metadata": {},
   "outputs": [
    {
     "data": {
      "text/html": [
       "<div>\n",
       "<style scoped>\n",
       "    .dataframe tbody tr th:only-of-type {\n",
       "        vertical-align: middle;\n",
       "    }\n",
       "\n",
       "    .dataframe tbody tr th {\n",
       "        vertical-align: top;\n",
       "    }\n",
       "\n",
       "    .dataframe thead th {\n",
       "        text-align: right;\n",
       "    }\n",
       "</style>\n",
       "<table border=\"1\" class=\"dataframe\">\n",
       "  <thead>\n",
       "    <tr style=\"text-align: right;\">\n",
       "      <th></th>\n",
       "      <th>PassengerId</th>\n",
       "      <th>Pclass</th>\n",
       "      <th>Name</th>\n",
       "      <th>Sex</th>\n",
       "      <th>Age</th>\n",
       "      <th>SibSp</th>\n",
       "      <th>Parch</th>\n",
       "      <th>Ticket</th>\n",
       "      <th>Fare</th>\n",
       "      <th>Cabin</th>\n",
       "      <th>Embarked</th>\n",
       "    </tr>\n",
       "  </thead>\n",
       "  <tbody>\n",
       "    <tr>\n",
       "      <th>0</th>\n",
       "      <td>892</td>\n",
       "      <td>3</td>\n",
       "      <td>Kelly, Mr. James</td>\n",
       "      <td>male</td>\n",
       "      <td>34.5</td>\n",
       "      <td>0</td>\n",
       "      <td>0</td>\n",
       "      <td>330911</td>\n",
       "      <td>7.8292</td>\n",
       "      <td>NaN</td>\n",
       "      <td>Q</td>\n",
       "    </tr>\n",
       "    <tr>\n",
       "      <th>1</th>\n",
       "      <td>893</td>\n",
       "      <td>3</td>\n",
       "      <td>Wilkes, Mrs. James (Ellen Needs)</td>\n",
       "      <td>female</td>\n",
       "      <td>47.0</td>\n",
       "      <td>1</td>\n",
       "      <td>0</td>\n",
       "      <td>363272</td>\n",
       "      <td>7.0000</td>\n",
       "      <td>NaN</td>\n",
       "      <td>S</td>\n",
       "    </tr>\n",
       "    <tr>\n",
       "      <th>2</th>\n",
       "      <td>894</td>\n",
       "      <td>2</td>\n",
       "      <td>Myles, Mr. Thomas Francis</td>\n",
       "      <td>male</td>\n",
       "      <td>62.0</td>\n",
       "      <td>0</td>\n",
       "      <td>0</td>\n",
       "      <td>240276</td>\n",
       "      <td>9.6875</td>\n",
       "      <td>NaN</td>\n",
       "      <td>Q</td>\n",
       "    </tr>\n",
       "    <tr>\n",
       "      <th>3</th>\n",
       "      <td>895</td>\n",
       "      <td>3</td>\n",
       "      <td>Wirz, Mr. Albert</td>\n",
       "      <td>male</td>\n",
       "      <td>27.0</td>\n",
       "      <td>0</td>\n",
       "      <td>0</td>\n",
       "      <td>315154</td>\n",
       "      <td>8.6625</td>\n",
       "      <td>NaN</td>\n",
       "      <td>S</td>\n",
       "    </tr>\n",
       "    <tr>\n",
       "      <th>4</th>\n",
       "      <td>896</td>\n",
       "      <td>3</td>\n",
       "      <td>Hirvonen, Mrs. Alexander (Helga E Lindqvist)</td>\n",
       "      <td>female</td>\n",
       "      <td>22.0</td>\n",
       "      <td>1</td>\n",
       "      <td>1</td>\n",
       "      <td>3101298</td>\n",
       "      <td>12.2875</td>\n",
       "      <td>NaN</td>\n",
       "      <td>S</td>\n",
       "    </tr>\n",
       "  </tbody>\n",
       "</table>\n",
       "</div>"
      ],
      "text/plain": [
       "   PassengerId  Pclass                                          Name     Sex  \\\n",
       "0          892       3                              Kelly, Mr. James    male   \n",
       "1          893       3              Wilkes, Mrs. James (Ellen Needs)  female   \n",
       "2          894       2                     Myles, Mr. Thomas Francis    male   \n",
       "3          895       3                              Wirz, Mr. Albert    male   \n",
       "4          896       3  Hirvonen, Mrs. Alexander (Helga E Lindqvist)  female   \n",
       "\n",
       "    Age  SibSp  Parch   Ticket     Fare Cabin Embarked  \n",
       "0  34.5      0      0   330911   7.8292   NaN        Q  \n",
       "1  47.0      1      0   363272   7.0000   NaN        S  \n",
       "2  62.0      0      0   240276   9.6875   NaN        Q  \n",
       "3  27.0      0      0   315154   8.6625   NaN        S  \n",
       "4  22.0      1      1  3101298  12.2875   NaN        S  "
      ]
     },
     "execution_count": 74,
     "metadata": {},
     "output_type": "execute_result"
    }
   ],
   "source": [
    "TEST = pd.read_csv('test.csv')\n",
    "TEST.head()"
   ]
  },
  {
   "cell_type": "code",
   "execution_count": 75,
   "metadata": {},
   "outputs": [
    {
     "data": {
      "text/html": [
       "<div>\n",
       "<style scoped>\n",
       "    .dataframe tbody tr th:only-of-type {\n",
       "        vertical-align: middle;\n",
       "    }\n",
       "\n",
       "    .dataframe tbody tr th {\n",
       "        vertical-align: top;\n",
       "    }\n",
       "\n",
       "    .dataframe thead th {\n",
       "        text-align: right;\n",
       "    }\n",
       "</style>\n",
       "<table border=\"1\" class=\"dataframe\">\n",
       "  <thead>\n",
       "    <tr style=\"text-align: right;\">\n",
       "      <th></th>\n",
       "      <th>Pclass</th>\n",
       "      <th>Sex</th>\n",
       "      <th>Age</th>\n",
       "      <th>Embarked</th>\n",
       "    </tr>\n",
       "  </thead>\n",
       "  <tbody>\n",
       "    <tr>\n",
       "      <th>0</th>\n",
       "      <td>3</td>\n",
       "      <td>male</td>\n",
       "      <td>34.5</td>\n",
       "      <td>Q</td>\n",
       "    </tr>\n",
       "    <tr>\n",
       "      <th>1</th>\n",
       "      <td>3</td>\n",
       "      <td>female</td>\n",
       "      <td>47.0</td>\n",
       "      <td>S</td>\n",
       "    </tr>\n",
       "    <tr>\n",
       "      <th>2</th>\n",
       "      <td>2</td>\n",
       "      <td>male</td>\n",
       "      <td>62.0</td>\n",
       "      <td>Q</td>\n",
       "    </tr>\n",
       "    <tr>\n",
       "      <th>3</th>\n",
       "      <td>3</td>\n",
       "      <td>male</td>\n",
       "      <td>27.0</td>\n",
       "      <td>S</td>\n",
       "    </tr>\n",
       "    <tr>\n",
       "      <th>4</th>\n",
       "      <td>3</td>\n",
       "      <td>female</td>\n",
       "      <td>22.0</td>\n",
       "      <td>S</td>\n",
       "    </tr>\n",
       "  </tbody>\n",
       "</table>\n",
       "</div>"
      ],
      "text/plain": [
       "   Pclass     Sex   Age Embarked\n",
       "0       3    male  34.5        Q\n",
       "1       3  female  47.0        S\n",
       "2       2    male  62.0        Q\n",
       "3       3    male  27.0        S\n",
       "4       3  female  22.0        S"
      ]
     },
     "execution_count": 75,
     "metadata": {},
     "output_type": "execute_result"
    }
   ],
   "source": [
    "dfTEST = TEST.drop(TEST.columns[[0,2,5,6,7,8,9]], axis=1)\n",
    "dfTEST.head()"
   ]
  },
  {
   "cell_type": "code",
   "execution_count": 76,
   "metadata": {},
   "outputs": [
    {
     "data": {
      "text/plain": [
       "<matplotlib.axes._subplots.AxesSubplot at 0x1a1bb18be0>"
      ]
     },
     "execution_count": 76,
     "metadata": {},
     "output_type": "execute_result"
    },
    {
     "data": {
      "image/png": "[encoded data removed]",
      "text/plain": [
       "<Figure size 432x288 with 1 Axes>"
      ]
     },
     "metadata": {},
     "output_type": "display_data"
    }
   ],
   "source": [
    "sns.countplot(dfTEST['Embarked'])"
   ]
  },
  {
   "cell_type": "code",
   "execution_count": 77,
   "metadata": {},
   "outputs": [
    {
     "data": {
      "text/plain": [
       "Pclass       0\n",
       "Sex          0\n",
       "Age         86\n",
       "Embarked     0\n",
       "dtype: int64"
      ]
     },
     "execution_count": 77,
     "metadata": {},
     "output_type": "execute_result"
    }
   ],
   "source": [
    "dfTEST.isnull().sum()"
   ]
  },
  {
   "cell_type": "code",
   "execution_count": 78,
   "metadata": {},
   "outputs": [
    {
     "data": {
      "image/png": "[encoded data removed]",
      "text/plain": [
       "<Figure size 432x288 with 1 Axes>"
      ]
     },
     "metadata": {},
     "output_type": "display_data"
    },
    {
     "name": "stdout",
     "output_type": "stream",
     "text": [
      "Stacked counts of ages with density plot line\n"
     ]
    }
   ],
   "source": [
    "# Barchart Class occurences \n",
    "fig, ax = plt.subplots()\n",
    "ax = dfTEST[\"Age\"].hist(bins=60, density=True,\n",
    "                       stacked=True,\n",
    "                       color='forestgreen', \n",
    "                       alpha=0.8)\n",
    "dfTEST[\"Age\"].plot(kind='density', \n",
    "                  color='teal')\n",
    "ax.set(xlabel='Age')\n",
    "plt.xlim(-10,85)\n",
    "plt.show()\n",
    "\n",
    "print ('Stacked counts of ages with density plot line')"
   ]
  },
  {
   "cell_type": "markdown",
   "metadata": {},
   "source": [
    "This test set is slightly skewed to the right, but it does not look like a binomial distribution as in our train set. We need to set our columns of features to the same order numpy array for logistic classification. Because of the skewness we will impute the median value for the missing values."
   ]
  },
  {
   "cell_type": "code",
   "execution_count": 79,
   "metadata": {},
   "outputs": [
    {
     "name": "stdout",
     "output_type": "stream",
     "text": [
      "   Pclass     Sex   Age Embarked\n",
      "0       3    male  34.5        Q\n",
      "1       3  female  47.0        S\n",
      "2       2    male  62.0        Q\n",
      "3       3    male  27.0        S\n",
      "4       3  female  22.0        S\n",
      "Median of age category TEST set:  27.0\n"
     ]
    }
   ],
   "source": [
    "#Get median of testset\n",
    "median_test_set = dfTEST['Age'].median(axis=0)\n",
    "\n",
    "#Create np list to insert median: TypeError: float() argument must be a string or a number, not 'method'\n",
    "#Create string objects\n",
    "shl = []\n",
    "for i in dfTEST['Age']:\n",
    "    shl.append(str(i))\n",
    "\n",
    "#Change nan-values\n",
    "hsl = []\n",
    "for i in shl:\n",
    "    if i == 'nan':\n",
    "        hsl.append(median_test_set)\n",
    "    else:\n",
    "        hsl.append(i)\n",
    "\n",
    "#Change to floats\n",
    "test_age_to_float = []\n",
    "for i in hsl:\n",
    "    test_age_to_float.append(float(i))\n",
    "\n",
    "dfTEST['Age'] = test_age_to_float\n",
    "print (dfTEST.head())\n",
    "print ('Median of age category TEST set: ', median_test_set)\n",
    "\n"
   ]
  },
  {
   "cell_type": "code",
   "execution_count": 80,
   "metadata": {},
   "outputs": [
    {
     "data": {
      "text/plain": [
       "Pclass      0\n",
       "Sex         0\n",
       "Age         0\n",
       "Embarked    0\n",
       "dtype: int64"
      ]
     },
     "execution_count": 80,
     "metadata": {},
     "output_type": "execute_result"
    }
   ],
   "source": [
    "dfTEST.isnull().sum()"
   ]
  },
  {
   "cell_type": "code",
   "execution_count": 81,
   "metadata": {},
   "outputs": [
    {
     "data": {
      "text/html": [
       "<div>\n",
       "<style scoped>\n",
       "    .dataframe tbody tr th:only-of-type {\n",
       "        vertical-align: middle;\n",
       "    }\n",
       "\n",
       "    .dataframe tbody tr th {\n",
       "        vertical-align: top;\n",
       "    }\n",
       "\n",
       "    .dataframe thead th {\n",
       "        text-align: right;\n",
       "    }\n",
       "</style>\n",
       "<table border=\"1\" class=\"dataframe\">\n",
       "  <thead>\n",
       "    <tr style=\"text-align: right;\">\n",
       "      <th></th>\n",
       "      <th>Pclass</th>\n",
       "      <th>Age</th>\n",
       "      <th>Sex</th>\n",
       "      <th>Embarked</th>\n",
       "      <th>AgeFilter</th>\n",
       "    </tr>\n",
       "  </thead>\n",
       "  <tbody>\n",
       "    <tr>\n",
       "      <th>0</th>\n",
       "      <td>3</td>\n",
       "      <td>34.5</td>\n",
       "      <td>male</td>\n",
       "      <td>Q</td>\n",
       "      <td>A</td>\n",
       "    </tr>\n",
       "    <tr>\n",
       "      <th>1</th>\n",
       "      <td>3</td>\n",
       "      <td>47.0</td>\n",
       "      <td>female</td>\n",
       "      <td>S</td>\n",
       "      <td>A</td>\n",
       "    </tr>\n",
       "    <tr>\n",
       "      <th>2</th>\n",
       "      <td>2</td>\n",
       "      <td>62.0</td>\n",
       "      <td>male</td>\n",
       "      <td>Q</td>\n",
       "      <td>A</td>\n",
       "    </tr>\n",
       "    <tr>\n",
       "      <th>3</th>\n",
       "      <td>3</td>\n",
       "      <td>27.0</td>\n",
       "      <td>male</td>\n",
       "      <td>S</td>\n",
       "      <td>A</td>\n",
       "    </tr>\n",
       "    <tr>\n",
       "      <th>4</th>\n",
       "      <td>3</td>\n",
       "      <td>22.0</td>\n",
       "      <td>female</td>\n",
       "      <td>S</td>\n",
       "      <td>A</td>\n",
       "    </tr>\n",
       "  </tbody>\n",
       "</table>\n",
       "</div>"
      ],
      "text/plain": [
       "   Pclass   Age     Sex Embarked AgeFilter\n",
       "0       3  34.5    male        Q         A\n",
       "1       3  47.0  female        S         A\n",
       "2       2  62.0    male        Q         A\n",
       "3       3  27.0    male        S         A\n",
       "4       3  22.0  female        S         A"
      ]
     },
     "execution_count": 81,
     "metadata": {},
     "output_type": "execute_result"
    }
   ],
   "source": [
    "#Insert Agefilter into dataframe after imputing values\n",
    "t_AgeFilter = []\n",
    "for i in dfTEST['Age']:\n",
    "    if i <= 18:\n",
    "        t_AgeFilter.append('C')\n",
    "    else:\n",
    "        t_AgeFilter.append('A')\n",
    "        \n",
    "dfTEST.insert(loc=indexx, column='AgeFilter', value=t_AgeFilter)\n",
    "#Set df to same column index as TRAIN set\n",
    "dfTEST = dfTEST[['Pclass', 'Age', 'Sex', 'Embarked', 'AgeFilter']]\n",
    "dfTEST.head() #418 rows x 5 columns"
   ]
  },
  {
   "cell_type": "code",
   "execution_count": 82,
   "metadata": {},
   "outputs": [
    {
     "data": {
      "text/plain": [
       "Pclass       0\n",
       "Age          0\n",
       "Sex          0\n",
       "Embarked     0\n",
       "AgeFilter    0\n",
       "dtype: int64"
      ]
     },
     "execution_count": 82,
     "metadata": {},
     "output_type": "execute_result"
    }
   ],
   "source": [
    "dfTEST.isnull().sum()"
   ]
  },
  {
   "cell_type": "markdown",
   "metadata": {},
   "source": [
    "We have imputed a median value for every missing value and inserted an agefilter on our TEST dataframe. Our TEST set is almost ready for classification from our trained logistic classifier. "
   ]
  },
  {
   "cell_type": "code",
   "execution_count": 83,
   "metadata": {},
   "outputs": [],
   "source": [
    "#Independent Variables\n",
    "t_c_class_ = dfTEST.iloc[:,0:1].values #Class\n",
    "t_c_class_ = [float(i) for i in t_c_class_]            \n",
    "t_c_age_ = dfTEST.iloc[:, 1:2].values #Sex\n",
    "t_c_age_ = [float(i) for i in t_c_age_]\n",
    "t_c_sex_ = dfTEST.iloc[:,2:3]\n",
    "t_embarkation = dfTEST.iloc[:,3:4].values #Embarkation\n",
    "t_agefilter = dfTEST.iloc[:,4:5].values #Age filter: c or a"
   ]
  },
  {
   "cell_type": "code",
   "execution_count": 84,
   "metadata": {},
   "outputs": [],
   "source": [
    "#Reshape data for readability by the forward Neural Net\n",
    "t_agefilter = np.reshape(t_agefilter, (-1,1))\n",
    "t_embarkation = np.reshape(t_embarkation, (-1,1))\n",
    "#c_sex_ = np.reshape(c_sex_, (-1,1))\n",
    "#c_class_ = np.reshape(c_sex_, (-1,1))\n",
    "t_c_sex_ = np.reshape(t_c_sex_, (-1,1))\n",
    "#c_age_ = np.reshape(c_age_,(-1,1))"
   ]
  },
  {
   "cell_type": "code",
   "execution_count": 85,
   "metadata": {},
   "outputs": [],
   "source": [
    "#Encoding the categorical variables\n",
    "from sklearn.preprocessing import LabelEncoder\n",
    "#Initialise encoders\n",
    "t_ohe_sex = LabelEncoder()\n",
    "t_ohe_af = LabelEncoder()\n",
    "t_ohe_em = LabelEncoder()\n"
   ]
  },
  {
   "cell_type": "code",
   "execution_count": 86,
   "metadata": {},
   "outputs": [
    {
     "name": "stdout",
     "output_type": "stream",
     "text": [
      "[3.0, 3.0, 2.0, 3.0, 3.0, 3.0, 3.0, 2.0, 3.0, 3.0]\n",
      "[34.5, 47.0, 62.0, 27.0, 22.0, 14.0, 30.0, 26.0, 18.0, 21.0]\n",
      "      Sex\n",
      "0    male\n",
      "1  female\n",
      "2    male\n",
      "3    male\n",
      "4  female\n",
      "5    male\n",
      "6  female\n",
      "7    male\n",
      "8  female\n",
      "9    male\n",
      "[['Q']\n",
      " ['S']\n",
      " ['Q']\n",
      " ['S']\n",
      " ['S']]\n",
      "[['A']\n",
      " ['A']\n",
      " ['A']\n",
      " ['A']\n",
      " ['A']\n",
      " ['C']\n",
      " ['A']\n",
      " ['A']\n",
      " ['C']\n",
      " ['A']]\n"
     ]
    }
   ],
   "source": [
    "print (t_c_class_[:10])\n",
    "print (t_c_age_[:10])\n",
    "print (t_c_sex_[:10])\n",
    "print (t_embarkation[:5])\n",
    "print (t_agefilter[:10])\n"
   ]
  },
  {
   "cell_type": "code",
   "execution_count": 87,
   "metadata": {},
   "outputs": [
    {
     "name": "stderr",
     "output_type": "stream",
     "text": [
      "/anaconda3/envs/CodexA/lib/python3.6/site-packages/sklearn/preprocessing/label.py:235: DataConversionWarning: A column-vector y was passed when a 1d array was expected. Please change the shape of y to (n_samples, ), for example using ravel().\n",
      "  y = column_or_1d(y, warn=True)\n",
      "/anaconda3/envs/CodexA/lib/python3.6/site-packages/sklearn/preprocessing/label.py:235: DataConversionWarning: A column-vector y was passed when a 1d array was expected. Please change the shape of y to (n_samples, ), for example using ravel().\n",
      "  y = column_or_1d(y, warn=True)\n",
      "/anaconda3/envs/CodexA/lib/python3.6/site-packages/sklearn/preprocessing/label.py:235: DataConversionWarning: A column-vector y was passed when a 1d array was expected. Please change the shape of y to (n_samples, ), for example using ravel().\n",
      "  y = column_or_1d(y, warn=True)\n"
     ]
    }
   ],
   "source": [
    "#Fit and transform the categorical values with the OneHotEncoder\n",
    "t_c_sex_ = t_ohe_sex.fit_transform(t_c_sex_)\n",
    "t_agefilter = t_ohe_af.fit_transform(t_agefilter)\n",
    "t_embarkation = t_ohe_em.fit_transform(t_embarkation)\n"
   ]
  },
  {
   "cell_type": "code",
   "execution_count": 88,
   "metadata": {},
   "outputs": [
    {
     "name": "stdout",
     "output_type": "stream",
     "text": [
      "[3.0, 3.0, 2.0, 3.0, 3.0, 3.0, 3.0, 2.0, 3.0, 3.0]\n",
      "[34.5, 47.0, 62.0, 27.0, 22.0, 14.0, 30.0, 26.0, 18.0, 21.0]\n",
      "[1 0 1 1 0 1 0 1 0 1]\n",
      "[1 2 1 2 2]\n",
      "[0 0 0 0 0 1 0 0 1 0]\n"
     ]
    }
   ],
   "source": [
    "print (t_c_class_[:10])\n",
    "print (t_c_age_[:10])\n",
    "print (t_c_sex_[:10])\n",
    "print (t_embarkation[:5])\n",
    "print (t_agefilter[:10])\n"
   ]
  },
  {
   "cell_type": "code",
   "execution_count": 89,
   "metadata": {},
   "outputs": [
    {
     "data": {
      "text/html": [
       "<div>\n",
       "<style scoped>\n",
       "    .dataframe tbody tr th:only-of-type {\n",
       "        vertical-align: middle;\n",
       "    }\n",
       "\n",
       "    .dataframe tbody tr th {\n",
       "        vertical-align: top;\n",
       "    }\n",
       "\n",
       "    .dataframe thead th {\n",
       "        text-align: right;\n",
       "    }\n",
       "</style>\n",
       "<table border=\"1\" class=\"dataframe\">\n",
       "  <thead>\n",
       "    <tr style=\"text-align: right;\">\n",
       "      <th></th>\n",
       "      <th>Class</th>\n",
       "      <th>Age</th>\n",
       "      <th>Sex</th>\n",
       "      <th>Embarkation</th>\n",
       "      <th>Agefilter</th>\n",
       "    </tr>\n",
       "  </thead>\n",
       "  <tbody>\n",
       "    <tr>\n",
       "      <th>0</th>\n",
       "      <td>3.0</td>\n",
       "      <td>34.5</td>\n",
       "      <td>1</td>\n",
       "      <td>1</td>\n",
       "      <td>0</td>\n",
       "    </tr>\n",
       "    <tr>\n",
       "      <th>1</th>\n",
       "      <td>3.0</td>\n",
       "      <td>47.0</td>\n",
       "      <td>0</td>\n",
       "      <td>2</td>\n",
       "      <td>0</td>\n",
       "    </tr>\n",
       "    <tr>\n",
       "      <th>2</th>\n",
       "      <td>2.0</td>\n",
       "      <td>62.0</td>\n",
       "      <td>1</td>\n",
       "      <td>1</td>\n",
       "      <td>0</td>\n",
       "    </tr>\n",
       "    <tr>\n",
       "      <th>3</th>\n",
       "      <td>3.0</td>\n",
       "      <td>27.0</td>\n",
       "      <td>1</td>\n",
       "      <td>2</td>\n",
       "      <td>0</td>\n",
       "    </tr>\n",
       "    <tr>\n",
       "      <th>4</th>\n",
       "      <td>3.0</td>\n",
       "      <td>22.0</td>\n",
       "      <td>0</td>\n",
       "      <td>2</td>\n",
       "      <td>0</td>\n",
       "    </tr>\n",
       "  </tbody>\n",
       "</table>\n",
       "</div>"
      ],
      "text/plain": [
       "   Class   Age  Sex  Embarkation  Agefilter\n",
       "0    3.0  34.5    1            1          0\n",
       "1    3.0  47.0    0            2          0\n",
       "2    2.0  62.0    1            1          0\n",
       "3    3.0  27.0    1            2          0\n",
       "4    3.0  22.0    0            2          0"
      ]
     },
     "execution_count": 89,
     "metadata": {},
     "output_type": "execute_result"
    }
   ],
   "source": [
    "#New dataframe with variables for the neural net\n",
    "t_nn_df = pd.DataFrame()\n",
    "t_nn_df['Class'] = t_c_class_\n",
    "t_nn_df['Age'] = t_c_age_\n",
    "t_nn_df['Sex'] = t_c_sex_\n",
    "t_nn_df['Embarkation'] = t_embarkation\n",
    "t_nn_df['Agefilter'] = t_agefilter\n",
    "t_nn_df.head()"
   ]
  },
  {
   "cell_type": "markdown",
   "metadata": {},
   "source": [
    "Our TEST set is almost prepared. One final standardization of our whole numpy array and we use that to predict survival rate with our classifier."
   ]
  },
  {
   "cell_type": "code",
   "execution_count": 90,
   "metadata": {},
   "outputs": [
    {
     "name": "stderr",
     "output_type": "stream",
     "text": [
      "/anaconda3/envs/CodexA/lib/python3.6/site-packages/sklearn/preprocessing/data.py:617: DataConversionWarning: Data with input dtype int64, float64 were all converted to float64 by StandardScaler.\n",
      "  return self.partial_fit(X, y)\n",
      "/anaconda3/envs/CodexA/lib/python3.6/site-packages/sklearn/base.py:462: DataConversionWarning: Data with input dtype int64, float64 were all converted to float64 by StandardScaler.\n",
      "  return self.fit(X, **fit_params).transform(X)\n"
     ]
    },
    {
     "data": {
      "text/plain": [
       "array([[ 0.87348191,  0.38623105,  0.75592895, -0.47091535, -0.38516444],\n",
       "       [ 0.87348191,  1.37137004, -1.32287566,  0.70076689, -0.38516444],\n",
       "       [-0.31581919,  2.55353683,  0.75592895, -0.47091535, -0.38516444],\n",
       "       ...,\n",
       "       [ 0.87348191,  0.70147553,  0.75592895,  0.70076689, -0.38516444],\n",
       "       [ 0.87348191, -0.20485235,  0.75592895,  0.70076689, -0.38516444],\n",
       "       [ 0.87348191, -0.20485235,  0.75592895, -1.64259759, -0.38516444]])"
      ]
     },
     "execution_count": 90,
     "metadata": {},
     "output_type": "execute_result"
    }
   ],
   "source": [
    "#Create numpy array for to set as X feature for prediction\n",
    "tX = t_nn_df.iloc[:,:]\n",
    "tX.head()\n",
    "\n",
    "#Standardise all values\n",
    "from sklearn.preprocessing import StandardScaler\n",
    "sc = StandardScaler()\n",
    "tX = sc.fit_transform(tX)\n",
    "tX"
   ]
  },
  {
   "cell_type": "markdown",
   "metadata": {},
   "source": [
    "# Ready to predict our Test set"
   ]
  },
  {
   "cell_type": "code",
   "execution_count": 91,
   "metadata": {},
   "outputs": [],
   "source": [
    "\n",
    "#Predict chances of survival rate on TEST set\n",
    "ty_pred = classifier.predict(tX)"
   ]
  },
  {
   "cell_type": "code",
   "execution_count": 92,
   "metadata": {},
   "outputs": [
    {
     "data": {
      "text/plain": [
       "array([0, 0, 0, 0, 1])"
      ]
     },
     "execution_count": 92,
     "metadata": {},
     "output_type": "execute_result"
    }
   ],
   "source": [
    "#Our first five predictions of our Test set\n",
    "ty_pred[:5]"
   ]
  },
  {
   "cell_type": "code",
   "execution_count": 93,
   "metadata": {},
   "outputs": [
    {
     "data": {
      "text/html": [
       "<div>\n",
       "<style scoped>\n",
       "    .dataframe tbody tr th:only-of-type {\n",
       "        vertical-align: middle;\n",
       "    }\n",
       "\n",
       "    .dataframe tbody tr th {\n",
       "        vertical-align: top;\n",
       "    }\n",
       "\n",
       "    .dataframe thead th {\n",
       "        text-align: right;\n",
       "    }\n",
       "</style>\n",
       "<table border=\"1\" class=\"dataframe\">\n",
       "  <thead>\n",
       "    <tr style=\"text-align: right;\">\n",
       "      <th></th>\n",
       "      <th>Pclass</th>\n",
       "      <th>Age</th>\n",
       "      <th>Sex</th>\n",
       "      <th>Embarked</th>\n",
       "      <th>AgeFilter</th>\n",
       "    </tr>\n",
       "  </thead>\n",
       "  <tbody>\n",
       "    <tr>\n",
       "      <th>0</th>\n",
       "      <td>3</td>\n",
       "      <td>34.5</td>\n",
       "      <td>male</td>\n",
       "      <td>Q</td>\n",
       "      <td>A</td>\n",
       "    </tr>\n",
       "    <tr>\n",
       "      <th>1</th>\n",
       "      <td>3</td>\n",
       "      <td>47.0</td>\n",
       "      <td>female</td>\n",
       "      <td>S</td>\n",
       "      <td>A</td>\n",
       "    </tr>\n",
       "    <tr>\n",
       "      <th>2</th>\n",
       "      <td>2</td>\n",
       "      <td>62.0</td>\n",
       "      <td>male</td>\n",
       "      <td>Q</td>\n",
       "      <td>A</td>\n",
       "    </tr>\n",
       "    <tr>\n",
       "      <th>3</th>\n",
       "      <td>3</td>\n",
       "      <td>27.0</td>\n",
       "      <td>male</td>\n",
       "      <td>S</td>\n",
       "      <td>A</td>\n",
       "    </tr>\n",
       "    <tr>\n",
       "      <th>4</th>\n",
       "      <td>3</td>\n",
       "      <td>22.0</td>\n",
       "      <td>female</td>\n",
       "      <td>S</td>\n",
       "      <td>A</td>\n",
       "    </tr>\n",
       "  </tbody>\n",
       "</table>\n",
       "</div>"
      ],
      "text/plain": [
       "   Pclass   Age     Sex Embarked AgeFilter\n",
       "0       3  34.5    male        Q         A\n",
       "1       3  47.0  female        S         A\n",
       "2       2  62.0    male        Q         A\n",
       "3       3  27.0    male        S         A\n",
       "4       3  22.0  female        S         A"
      ]
     },
     "execution_count": 93,
     "metadata": {},
     "output_type": "execute_result"
    }
   ],
   "source": [
    "dfTEST.head()"
   ]
  },
  {
   "cell_type": "code",
   "execution_count": 94,
   "metadata": {},
   "outputs": [
    {
     "data": {
      "text/html": [
       "<div>\n",
       "<style scoped>\n",
       "    .dataframe tbody tr th:only-of-type {\n",
       "        vertical-align: middle;\n",
       "    }\n",
       "\n",
       "    .dataframe tbody tr th {\n",
       "        vertical-align: top;\n",
       "    }\n",
       "\n",
       "    .dataframe thead th {\n",
       "        text-align: right;\n",
       "    }\n",
       "</style>\n",
       "<table border=\"1\" class=\"dataframe\">\n",
       "  <thead>\n",
       "    <tr style=\"text-align: right;\">\n",
       "      <th></th>\n",
       "      <th>Pclass</th>\n",
       "      <th>Age</th>\n",
       "      <th>Sex</th>\n",
       "      <th>Embarked</th>\n",
       "      <th>AgeFilter</th>\n",
       "      <th>Survival_Prediction</th>\n",
       "    </tr>\n",
       "  </thead>\n",
       "  <tbody>\n",
       "    <tr>\n",
       "      <th>0</th>\n",
       "      <td>3</td>\n",
       "      <td>34.5</td>\n",
       "      <td>male</td>\n",
       "      <td>Q</td>\n",
       "      <td>A</td>\n",
       "      <td>0</td>\n",
       "    </tr>\n",
       "    <tr>\n",
       "      <th>1</th>\n",
       "      <td>3</td>\n",
       "      <td>47.0</td>\n",
       "      <td>female</td>\n",
       "      <td>S</td>\n",
       "      <td>A</td>\n",
       "      <td>0</td>\n",
       "    </tr>\n",
       "    <tr>\n",
       "      <th>2</th>\n",
       "      <td>2</td>\n",
       "      <td>62.0</td>\n",
       "      <td>male</td>\n",
       "      <td>Q</td>\n",
       "      <td>A</td>\n",
       "      <td>0</td>\n",
       "    </tr>\n",
       "    <tr>\n",
       "      <th>3</th>\n",
       "      <td>3</td>\n",
       "      <td>27.0</td>\n",
       "      <td>male</td>\n",
       "      <td>S</td>\n",
       "      <td>A</td>\n",
       "      <td>0</td>\n",
       "    </tr>\n",
       "    <tr>\n",
       "      <th>4</th>\n",
       "      <td>3</td>\n",
       "      <td>22.0</td>\n",
       "      <td>female</td>\n",
       "      <td>S</td>\n",
       "      <td>A</td>\n",
       "      <td>1</td>\n",
       "    </tr>\n",
       "  </tbody>\n",
       "</table>\n",
       "</div>"
      ],
      "text/plain": [
       "   Pclass   Age     Sex Embarked AgeFilter  Survival_Prediction\n",
       "0       3  34.5    male        Q         A                    0\n",
       "1       3  47.0  female        S         A                    0\n",
       "2       2  62.0    male        Q         A                    0\n",
       "3       3  27.0    male        S         A                    0\n",
       "4       3  22.0  female        S         A                    1"
      ]
     },
     "execution_count": 94,
     "metadata": {},
     "output_type": "execute_result"
    }
   ],
   "source": [
    "dfTEST.insert(loc=indexx, column='Survival_Prediction', value=ty_pred)\n",
    "#Set df to same column index as TRAIN set\n",
    "dfTEST = dfTEST[['Pclass', 'Age', 'Sex', 'Embarked', 'AgeFilter', 'Survival_Prediction']]\n",
    "\n",
    "dfTEST.head() #418 rows x 5 columns"
   ]
  },
  {
   "cell_type": "code",
   "execution_count": 95,
   "metadata": {},
   "outputs": [
    {
     "data": {
      "text/plain": [
       "<matplotlib.axes._subplots.AxesSubplot at 0x1a1bb85da0>"
      ]
     },
     "execution_count": 95,
     "metadata": {},
     "output_type": "execute_result"
    },
    {
     "data": {
      "image/png": "[encoded data removed]",
      "text/plain": [
       "<Figure size 432x288 with 1 Axes>"
      ]
     },
     "metadata": {},
     "output_type": "display_data"
    }
   ],
   "source": [
    "sns.countplot(dfTEST['Survival_Prediction'])"
   ]
  },
  {
   "cell_type": "code",
   "execution_count": 96,
   "metadata": {},
   "outputs": [
    {
     "data": {
      "text/plain": [
       "<matplotlib.axes._subplots.AxesSubplot at 0x1a1bac5550>"
      ]
     },
     "execution_count": 96,
     "metadata": {},
     "output_type": "execute_result"
    },
    {
     "data": {
      "image/png": "[encoded data removed]",
      "text/plain": [
       "<Figure size 432x288 with 1 Axes>"
      ]
     },
     "metadata": {},
     "output_type": "display_data"
    }
   ],
   "source": [
    "sns.countplot(dfTEST['Sex'])"
   ]
  },
  {
   "cell_type": "code",
   "execution_count": 97,
   "metadata": {},
   "outputs": [
    {
     "data": {
      "text/plain": [
       "<matplotlib.axes._subplots.AxesSubplot at 0x1a1ba7d4a8>"
      ]
     },
     "execution_count": 97,
     "metadata": {},
     "output_type": "execute_result"
    },
    {
     "data": {
      "image/png": "[encoded data removed]",
      "text/plain": [
       "<Figure size 432x288 with 1 Axes>"
      ]
     },
     "metadata": {},
     "output_type": "display_data"
    }
   ],
   "source": [
    "sns.countplot(dfTEST['Pclass'])"
   ]
  },
  {
   "cell_type": "code",
   "execution_count": 98,
   "metadata": {},
   "outputs": [
    {
     "data": {
      "text/plain": [
       "<matplotlib.legend.Legend at 0x1a1bb6ec18>"
      ]
     },
     "execution_count": 98,
     "metadata": {},
     "output_type": "execute_result"
    },
    {
     "data": {
      "image/png": "[encoded data removed]",
      "text/plain": [
       "<Figure size 432x288 with 1 Axes>"
      ]
     },
     "metadata": {},
     "output_type": "display_data"
    }
   ],
   "source": [
    "rx = sns.boxenplot(x=\"Survival_Prediction\", y=\"Age\", hue='Sex', data=dfTEST)\n",
    "plt.legend(loc=\"lower center\")"
   ]
  },
  {
   "cell_type": "code",
   "execution_count": 99,
   "metadata": {},
   "outputs": [
    {
     "data": {
      "text/plain": [
       "<matplotlib.legend.Legend at 0x1a1be19e48>"
      ]
     },
     "execution_count": 99,
     "metadata": {},
     "output_type": "execute_result"
    },
    {
     "data": {
      "image/png": "[encoded data removed]",
      "text/plain": [
       "<Figure size 432x288 with 1 Axes>"
      ]
     },
     "metadata": {},
     "output_type": "display_data"
    }
   ],
   "source": [
    "ox = sns.boxenplot(x=\"Survival_Prediction\", y=\"Age\", hue='Sex', data=dfTEST)\n",
    "plt.legend(loc='lower center')\n"
   ]
  },
  {
   "cell_type": "code",
   "execution_count": 100,
   "metadata": {},
   "outputs": [
    {
     "data": {
      "image/png": "[encoded data removed]",
      "text/plain": [
       "<Figure size 650.525x576 with 6 Axes>"
      ]
     },
     "metadata": {},
     "output_type": "display_data"
    }
   ],
   "source": [
    "#Plotting our predicted scenario\n",
    "b = sns.catplot(x=\"Survival_Prediction\", y=\"Age\",\n",
    "                hue='Pclass', col= 'Embarked',\n",
    "                row='Sex',\n",
    "                data=dfTEST,\n",
    "                 kind=\"boxen\", \n",
    "                height=4, aspect=.7);"
   ]
  },
  {
   "cell_type": "code",
   "execution_count": 101,
   "metadata": {},
   "outputs": [
    {
     "data": {
      "image/png": "[encoded data removed]",
      "text/plain": [
       "<Figure size 650.525x576 with 6 Axes>"
      ]
     },
     "execution_count": 101,
     "metadata": {},
     "output_type": "execute_result"
    }
   ],
   "source": [
    "#Compare it to our TEST set\n",
    "w.fig"
   ]
  },
  {
   "cell_type": "markdown",
   "metadata": {},
   "source": [
    "Luckily, our figures show similar results, with an 85% accuracy. The first column of b.fig, our TEST prediction, is the third column of w.fig, our TRAIN examples. Somehow, pandas switches them around. I haven't found a way to figure that out yet.\n",
    "\n",
    "However, while males departing from C in class 1 and 3 survived in our TRAIN example, in from our TEST data it is predicted no males survived. If we would have to sent out life vessels for a similar event based on a list of similar data here's we are now able to predict with 85% accuracy if someone is likely to survive.\n"
   ]
  },
  {
   "cell_type": "markdown",
   "metadata": {},
   "source": [
    "# Great job!"
   ]
  },
  {
   "cell_type": "markdown",
   "metadata": {},
   "source": [
    "Thank you for reading my notebook. \n",
    "\n"
   ]
  },
  {
   "cell_type": "code",
   "execution_count": 103,
   "metadata": {},
   "outputs": [
    {
     "data": {
      "text/html": [
       "<div>\n",
       "<style scoped>\n",
       "    .dataframe tbody tr th:only-of-type {\n",
       "        vertical-align: middle;\n",
       "    }\n",
       "\n",
       "    .dataframe tbody tr th {\n",
       "        vertical-align: top;\n",
       "    }\n",
       "\n",
       "    .dataframe thead th {\n",
       "        text-align: right;\n",
       "    }\n",
       "</style>\n",
       "<table border=\"1\" class=\"dataframe\">\n",
       "  <thead>\n",
       "    <tr style=\"text-align: right;\">\n",
       "      <th></th>\n",
       "      <th>PassengerId</th>\n",
       "      <th>Survived</th>\n",
       "    </tr>\n",
       "  </thead>\n",
       "  <tbody>\n",
       "    <tr>\n",
       "      <th>0</th>\n",
       "      <td>892</td>\n",
       "      <td>0</td>\n",
       "    </tr>\n",
       "    <tr>\n",
       "      <th>1</th>\n",
       "      <td>893</td>\n",
       "      <td>0</td>\n",
       "    </tr>\n",
       "    <tr>\n",
       "      <th>2</th>\n",
       "      <td>894</td>\n",
       "      <td>0</td>\n",
       "    </tr>\n",
       "    <tr>\n",
       "      <th>3</th>\n",
       "      <td>895</td>\n",
       "      <td>0</td>\n",
       "    </tr>\n",
       "    <tr>\n",
       "      <th>4</th>\n",
       "      <td>896</td>\n",
       "      <td>1</td>\n",
       "    </tr>\n",
       "  </tbody>\n",
       "</table>\n",
       "</div>"
      ],
      "text/plain": [
       "   PassengerId  Survived\n",
       "0          892         0\n",
       "1          893         0\n",
       "2          894         0\n",
       "3          895         0\n",
       "4          896         1"
      ]
     },
     "execution_count": 103,
     "metadata": {},
     "output_type": "execute_result"
    }
   ],
   "source": [
    "submissions = pd.DataFrame()\n",
    "submissions['PassengerId'] = TEST['PassengerId']\n",
    "submissions['Survived'] = ty_pred\n",
    "submissions.head()"
   ]
  },
  {
   "cell_type": "code",
   "execution_count": 104,
   "metadata": {},
   "outputs": [],
   "source": [
    "csv_dfTEST = submissions.to_csv('Naio_TEST_results')\n"
   ]
  },
  {
   "cell_type": "code",
   "execution_count": 105,
   "metadata": {},
   "outputs": [
    {
     "name": "stdout",
     "output_type": "stream",
     "text": [
      "Variable                Type                  Data/Info\n",
      "-------------------------------------------------------\n",
      "AgeFilter               list                  n=891\n",
      "GS                      DataFrame                  PassengerId  Survive<...>n\\n[418 rows x 2 columns]\n",
      "Imputer                 type                  <class 'sklearn.preproces<...>sing.imputation.Imputer'>\n",
      "LabelEncoder            type                  <class 'sklearn.preproces<...>sing.label.LabelEncoder'>\n",
      "LogisticRegression      type                  <class 'sklearn.linear_mo<...>stic.LogisticRegression'>\n",
      "StandardScaler          type                  <class 'sklearn.preproces<...>ing.data.StandardScaler'>\n",
      "TEST                    DataFrame                  PassengerId  Pclass <...>\\n[418 rows x 11 columns]\n",
      "TRAIN                   DataFrame                 AgeFilter  PassengerI<...>\\n[891 rows x 13 columns]\n",
      "X                       ndarray               891x5: 4455 elems, type `float64`, 35640 bytes\n",
      "X_test                  ndarray               223x5: 1115 elems, type `float64`, 8920 bytes\n",
      "X_train                 ndarray               668x5: 3340 elems, type `float64`, 26720 bytes\n",
      "a_list                  list                  n=601\n",
      "a_m_list                list                  n=601\n",
      "age_list_to_float       list                  n=891\n",
      "age_rect                function              <function age_rect at 0x1a195629d8>\n",
      "agelist                 list                  n=891\n",
      "avg_a                   str                   33.58\n",
      "avg_c                   str                   9.04\n",
      "ax                      AxesSubplot           AxesSubplot(0.125,0.125;0.775x0.755)\n",
      "b                       FacetGrid             <seaborn.axisgrid.FacetGr<...>d object at 0x1a1be0e908>\n",
      "c_age_                  list                  n=891\n",
      "c_agefilter             ndarray               891x1: 891 elems, type `int64`, 7128 bytes\n",
      "c_class_                list                  n=891\n",
      "c_embarkation           ndarray               891x1: 891 elems, type `int64`, 7128 bytes\n",
      "c_list                  list                  n=113\n",
      "c_m_list                list                  n=113\n",
      "c_sex                   ndarray               891x1: 891 elems, type `int64`, 7128 bytes\n",
      "c_sex_                  ndarray               891: 891 elems, type `int64`, 7128 bytes\n",
      "classification_report   function              <function classification_report at 0x1a1b2798c8>\n",
      "classifier              LogisticRegression    LogisticRegression(C=1.0,<...>bose=0, warm_start=False)\n",
      "cm                      ndarray               2x2: 4 elems, type `int64`, 32 bytes\n",
      "confusion_matrix        function              <function confusion_matrix at 0x1a1b279268>\n",
      "csv_dfTEST              NoneType              None\n",
      "decimal                 module                <module 'decimal' from '/<...>ib/python3.6/decimal.py'>\n",
      "dfTEST                  DataFrame                  Pclass   Age     Sex<...>n\\n[418 rows x 6 columns]\n",
      "e                       FacetGrid             <seaborn.axisgrid.FacetGr<...>id object at 0x106a56be0>\n",
      "embark_                 list                  n=891\n",
      "embark_rect             function              <function embark_rect at 0x1a1ac9fd08>\n",
      "f                       FacetGrid             <seaborn.axisgrid.FacetGr<...>d object at 0x1a19a1b7b8>\n",
      "fig                     Figure                Figure(432x288)\n",
      "fpr                     ndarray               86: 86 elems, type `float64`, 688 bytes\n",
      "g                       FacetGrid             <seaborn.axisgrid.FacetGr<...>d object at 0x1a19577f28>\n",
      "hsl                     list                  n=418\n",
      "i                       float                 27.0\n",
      "indexx                  int                   0\n",
      "jsl                     list                  n=891\n",
      "logistic_roc_auc        float64               0.7886690647482014\n",
      "m_agelist               list                  n=891\n",
      "math                    module                <module 'math' from '/ana<...>h.cpython-36m-darwin.so'>\n",
      "med_a                   str                   31.00\n",
      "med_c                   str                   9.00\n",
      "median_test_set         float64               27.0\n",
      "nan_1_list              list                  n=177\n",
      "nan_list                list                  n=177\n",
      "new_age_list            list                  n=891\n",
      "new_embark_list         list                  n=891\n",
      "nn_df                   DataFrame                  Class    Age  Sex  E<...>n\\n[891 rows x 5 columns]\n",
      "np                      module                <module 'numpy' from '/an<...>kages/numpy/__init__.py'>\n",
      "o                       FacetGrid             <seaborn.axisgrid.FacetGr<...>d object at 0x1a1a93dba8>\n",
      "ohe_af                  LabelEncoder          LabelEncoder()\n",
      "ohe_em                  LabelEncoder          LabelEncoder()\n",
      "ohe_sex                 LabelEncoder          LabelEncoder()\n",
      "order_agelist           list                  n=891\n",
      "ox                      AxesSubplot           AxesSubplot(0.125,0.125;0.775x0.755)\n",
      "pd                      module                <module 'pandas' from '/a<...>ages/pandas/__init__.py'>\n",
      "plt                     module                <module 'matplotlib.pyplo<...>es/matplotlib/pyplot.py'>\n",
      "random                  module                <module 'random' from '/a<...>lib/python3.6/random.py'>\n",
      "rect_shuff_agelist      list                  n=891\n",
      "roc_auc_score           function              <function roc_auc_score at 0x1a1b267a60>\n",
      "roc_curve               function              <function roc_curve at 0x1a1b267bf8>\n",
      "rx                      AxesSubplot           AxesSubplot(0.125,0.125;0.775x0.755)\n",
      "sc                      StandardScaler        StandardScaler(copy=True,<...>mean=True, with_std=True)\n",
      "shl                     list                  n=418\n",
      "shuffle_backward        function              <function shuffle_backward at 0x1a192f9400>\n",
      "shuffle_forward         function              <function shuffle_forward at 0x1a192f9a60>\n",
      "shuffled_agelist        list                  n=891\n",
      "sns                     module                <module 'seaborn' from '/<...>ges/seaborn/__init__.py'>\n",
      "statistics              module                <module 'statistics' from<...>python3.6/statistics.py'>\n",
      "string                  module                <module 'string' from '/a<...>lib/python3.6/string.py'>\n",
      "submissions             DataFrame                  PassengerId  Survive<...>n\\n[418 rows x 2 columns]\n",
      "tX                      ndarray               418x5: 2090 elems, type `float64`, 16720 bytes\n",
      "t_AgeFilter             list                  n=418\n",
      "t_agefilter             ndarray               418: 418 elems, type `int64`, 3344 bytes\n",
      "t_c_age_                list                  n=418\n",
      "t_c_class_              list                  n=418\n",
      "t_c_sex_                ndarray               418: 418 elems, type `int64`, 3344 bytes\n",
      "t_embarkation           ndarray               418: 418 elems, type `int64`, 3344 bytes\n",
      "t_nn_df                 DataFrame                  Class   Age  Sex  Em<...>n\\n[418 rows x 5 columns]\n",
      "t_ohe_af                LabelEncoder          LabelEncoder()\n",
      "t_ohe_em                LabelEncoder          LabelEncoder()\n",
      "t_ohe_sex               LabelEncoder          LabelEncoder()\n",
      "test_age_to_float       list                  n=418\n",
      "testlist                list                  n=10\n",
      "testlist_order          list                  n=10\n",
      "testlistbackshuffle     list                  n=10\n",
      "testlistshuffle         list                  n=10\n",
      "thresholds              ndarray               86: 86 elems, type `float64`, 688 bytes\n",
      "tpr                     ndarray               86: 86 elems, type `float64`, 688 bytes\n",
      "train_test_split        function              <function train_test_split at 0x1a1b25dc80>\n",
      "ty_pred                 ndarray               418: 418 elems, type `int64`, 3344 bytes\n",
      "w                       FacetGrid             <seaborn.axisgrid.FacetGr<...>d object at 0x1a1a0718d0>\n",
      "y                       ndarray               891x1: 891 elems, type `int64`, 7128 bytes\n",
      "y_pred                  ndarray               223x1: 223 elems, type `int64`, 1784 bytes\n",
      "y_test                  ndarray               223x1: 223 elems, type `int64`, 1784 bytes\n",
      "y_train                 ndarray               668x1: 668 elems, type `int64`, 5344 bytes\n",
      "z                       FacetGrid             <seaborn.axisgrid.FacetGr<...>d object at 0x1a1a0774a8>\n"
     ]
    }
   ],
   "source": [
    "whos"
   ]
  }
 ],
 "metadata": {
  "kernelspec": {
   "display_name": "Python 3",
   "language": "python",
   "name": "python3"
  },
  "language_info": {
   "codemirror_mode": {
    "name": "ipython",
    "version": 3
   },
   "file_extension": ".py",
   "mimetype": "text/x-python",
   "name": "python",
   "nbconvert_exporter": "python",
   "pygments_lexer": "ipython3",
   "version": "3.6.6"
  }
 },
 "nbformat": 4,
 "nbformat_minor": 2
}
