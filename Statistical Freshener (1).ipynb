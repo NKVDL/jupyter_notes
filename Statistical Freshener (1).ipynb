{
 "cells": [
  {
   "cell_type": "markdown",
   "metadata": {},
   "source": [
    "# A statistical freshener of Titanic data"
   ]
  },
  {
   "cell_type": "code",
   "execution_count": 1,
   "metadata": {},
   "outputs": [],
   "source": [
    "#Import libraries\n",
    "import math\n",
    "import string\n",
    "import random\n",
    "import decimal\n",
    "import statistics\n",
    "import numpy as np\n",
    "import pandas as pd\n",
    "import matplotlib.pyplot as plt\n",
    "import seaborn as sns; sns.set()\n",
    "from sklearn.preprocessing import Imputer"
   ]
  },
  {
   "cell_type": "code",
   "execution_count": 82,
   "metadata": {},
   "outputs": [],
   "source": [
    "GS = pd.read_csv('gender_submission.csv')\n",
    "TRAIN = pd.read_csv('train.csv')\n",
    "TEST = pd.read_csv('test.csv')"
   ]
  },
  {
   "cell_type": "code",
   "execution_count": 3,
   "metadata": {},
   "outputs": [
    {
     "data": {
      "text/html": [
       "<div>\n",
       "<style scoped>\n",
       "    .dataframe tbody tr th:only-of-type {\n",
       "        vertical-align: middle;\n",
       "    }\n",
       "\n",
       "    .dataframe tbody tr th {\n",
       "        vertical-align: top;\n",
       "    }\n",
       "\n",
       "    .dataframe thead th {\n",
       "        text-align: right;\n",
       "    }\n",
       "</style>\n",
       "<table border=\"1\" class=\"dataframe\">\n",
       "  <thead>\n",
       "    <tr style=\"text-align: right;\">\n",
       "      <th></th>\n",
       "      <th>PassengerId</th>\n",
       "      <th>Survived</th>\n",
       "    </tr>\n",
       "  </thead>\n",
       "  <tbody>\n",
       "    <tr>\n",
       "      <th>0</th>\n",
       "      <td>892</td>\n",
       "      <td>0</td>\n",
       "    </tr>\n",
       "    <tr>\n",
       "      <th>1</th>\n",
       "      <td>893</td>\n",
       "      <td>1</td>\n",
       "    </tr>\n",
       "    <tr>\n",
       "      <th>2</th>\n",
       "      <td>894</td>\n",
       "      <td>0</td>\n",
       "    </tr>\n",
       "    <tr>\n",
       "      <th>3</th>\n",
       "      <td>895</td>\n",
       "      <td>0</td>\n",
       "    </tr>\n",
       "    <tr>\n",
       "      <th>4</th>\n",
       "      <td>896</td>\n",
       "      <td>1</td>\n",
       "    </tr>\n",
       "  </tbody>\n",
       "</table>\n",
       "</div>"
      ],
      "text/plain": [
       "   PassengerId  Survived\n",
       "0          892         0\n",
       "1          893         1\n",
       "2          894         0\n",
       "3          895         0\n",
       "4          896         1"
      ]
     },
     "execution_count": 3,
     "metadata": {},
     "output_type": "execute_result"
    }
   ],
   "source": [
    "GS.head()"
   ]
  },
  {
   "cell_type": "code",
   "execution_count": 4,
   "metadata": {},
   "outputs": [
    {
     "data": {
      "text/html": [
       "<div>\n",
       "<style scoped>\n",
       "    .dataframe tbody tr th:only-of-type {\n",
       "        vertical-align: middle;\n",
       "    }\n",
       "\n",
       "    .dataframe tbody tr th {\n",
       "        vertical-align: top;\n",
       "    }\n",
       "\n",
       "    .dataframe thead th {\n",
       "        text-align: right;\n",
       "    }\n",
       "</style>\n",
       "<table border=\"1\" class=\"dataframe\">\n",
       "  <thead>\n",
       "    <tr style=\"text-align: right;\">\n",
       "      <th></th>\n",
       "      <th>PassengerId</th>\n",
       "      <th>Survived</th>\n",
       "      <th>Pclass</th>\n",
       "      <th>Name</th>\n",
       "      <th>Sex</th>\n",
       "      <th>Age</th>\n",
       "      <th>SibSp</th>\n",
       "      <th>Parch</th>\n",
       "      <th>Ticket</th>\n",
       "      <th>Fare</th>\n",
       "      <th>Cabin</th>\n",
       "      <th>Embarked</th>\n",
       "    </tr>\n",
       "  </thead>\n",
       "  <tbody>\n",
       "    <tr>\n",
       "      <th>0</th>\n",
       "      <td>1</td>\n",
       "      <td>0</td>\n",
       "      <td>3</td>\n",
       "      <td>Braund, Mr. Owen Harris</td>\n",
       "      <td>male</td>\n",
       "      <td>22.0</td>\n",
       "      <td>1</td>\n",
       "      <td>0</td>\n",
       "      <td>A/5 21171</td>\n",
       "      <td>7.2500</td>\n",
       "      <td>NaN</td>\n",
       "      <td>S</td>\n",
       "    </tr>\n",
       "    <tr>\n",
       "      <th>1</th>\n",
       "      <td>2</td>\n",
       "      <td>1</td>\n",
       "      <td>1</td>\n",
       "      <td>Cumings, Mrs. John Bradley (Florence Briggs Th...</td>\n",
       "      <td>female</td>\n",
       "      <td>38.0</td>\n",
       "      <td>1</td>\n",
       "      <td>0</td>\n",
       "      <td>PC 17599</td>\n",
       "      <td>71.2833</td>\n",
       "      <td>C85</td>\n",
       "      <td>C</td>\n",
       "    </tr>\n",
       "    <tr>\n",
       "      <th>2</th>\n",
       "      <td>3</td>\n",
       "      <td>1</td>\n",
       "      <td>3</td>\n",
       "      <td>Heikkinen, Miss. Laina</td>\n",
       "      <td>female</td>\n",
       "      <td>26.0</td>\n",
       "      <td>0</td>\n",
       "      <td>0</td>\n",
       "      <td>STON/O2. 3101282</td>\n",
       "      <td>7.9250</td>\n",
       "      <td>NaN</td>\n",
       "      <td>S</td>\n",
       "    </tr>\n",
       "    <tr>\n",
       "      <th>3</th>\n",
       "      <td>4</td>\n",
       "      <td>1</td>\n",
       "      <td>1</td>\n",
       "      <td>Futrelle, Mrs. Jacques Heath (Lily May Peel)</td>\n",
       "      <td>female</td>\n",
       "      <td>35.0</td>\n",
       "      <td>1</td>\n",
       "      <td>0</td>\n",
       "      <td>113803</td>\n",
       "      <td>53.1000</td>\n",
       "      <td>C123</td>\n",
       "      <td>S</td>\n",
       "    </tr>\n",
       "    <tr>\n",
       "      <th>4</th>\n",
       "      <td>5</td>\n",
       "      <td>0</td>\n",
       "      <td>3</td>\n",
       "      <td>Allen, Mr. William Henry</td>\n",
       "      <td>male</td>\n",
       "      <td>35.0</td>\n",
       "      <td>0</td>\n",
       "      <td>0</td>\n",
       "      <td>373450</td>\n",
       "      <td>8.0500</td>\n",
       "      <td>NaN</td>\n",
       "      <td>S</td>\n",
       "    </tr>\n",
       "  </tbody>\n",
       "</table>\n",
       "</div>"
      ],
      "text/plain": [
       "   PassengerId  Survived  Pclass  \\\n",
       "0            1         0       3   \n",
       "1            2         1       1   \n",
       "2            3         1       3   \n",
       "3            4         1       1   \n",
       "4            5         0       3   \n",
       "\n",
       "                                                Name     Sex   Age  SibSp  \\\n",
       "0                            Braund, Mr. Owen Harris    male  22.0      1   \n",
       "1  Cumings, Mrs. John Bradley (Florence Briggs Th...  female  38.0      1   \n",
       "2                             Heikkinen, Miss. Laina  female  26.0      0   \n",
       "3       Futrelle, Mrs. Jacques Heath (Lily May Peel)  female  35.0      1   \n",
       "4                           Allen, Mr. William Henry    male  35.0      0   \n",
       "\n",
       "   Parch            Ticket     Fare Cabin Embarked  \n",
       "0      0         A/5 21171   7.2500   NaN        S  \n",
       "1      0          PC 17599  71.2833   C85        C  \n",
       "2      0  STON/O2. 3101282   7.9250   NaN        S  \n",
       "3      0            113803  53.1000  C123        S  \n",
       "4      0            373450   8.0500   NaN        S  "
      ]
     },
     "execution_count": 4,
     "metadata": {},
     "output_type": "execute_result"
    }
   ],
   "source": [
    "TRAIN.head()"
   ]
  },
  {
   "cell_type": "code",
   "execution_count": 5,
   "metadata": {},
   "outputs": [
    {
     "data": {
      "text/html": [
       "<div>\n",
       "<style scoped>\n",
       "    .dataframe tbody tr th:only-of-type {\n",
       "        vertical-align: middle;\n",
       "    }\n",
       "\n",
       "    .dataframe tbody tr th {\n",
       "        vertical-align: top;\n",
       "    }\n",
       "\n",
       "    .dataframe thead th {\n",
       "        text-align: right;\n",
       "    }\n",
       "</style>\n",
       "<table border=\"1\" class=\"dataframe\">\n",
       "  <thead>\n",
       "    <tr style=\"text-align: right;\">\n",
       "      <th></th>\n",
       "      <th>PassengerId</th>\n",
       "      <th>Pclass</th>\n",
       "      <th>Name</th>\n",
       "      <th>Sex</th>\n",
       "      <th>Age</th>\n",
       "      <th>SibSp</th>\n",
       "      <th>Parch</th>\n",
       "      <th>Ticket</th>\n",
       "      <th>Fare</th>\n",
       "      <th>Cabin</th>\n",
       "      <th>Embarked</th>\n",
       "    </tr>\n",
       "  </thead>\n",
       "  <tbody>\n",
       "    <tr>\n",
       "      <th>0</th>\n",
       "      <td>892</td>\n",
       "      <td>3</td>\n",
       "      <td>Kelly, Mr. James</td>\n",
       "      <td>male</td>\n",
       "      <td>34.5</td>\n",
       "      <td>0</td>\n",
       "      <td>0</td>\n",
       "      <td>330911</td>\n",
       "      <td>7.8292</td>\n",
       "      <td>NaN</td>\n",
       "      <td>Q</td>\n",
       "    </tr>\n",
       "    <tr>\n",
       "      <th>1</th>\n",
       "      <td>893</td>\n",
       "      <td>3</td>\n",
       "      <td>Wilkes, Mrs. James (Ellen Needs)</td>\n",
       "      <td>female</td>\n",
       "      <td>47.0</td>\n",
       "      <td>1</td>\n",
       "      <td>0</td>\n",
       "      <td>363272</td>\n",
       "      <td>7.0000</td>\n",
       "      <td>NaN</td>\n",
       "      <td>S</td>\n",
       "    </tr>\n",
       "    <tr>\n",
       "      <th>2</th>\n",
       "      <td>894</td>\n",
       "      <td>2</td>\n",
       "      <td>Myles, Mr. Thomas Francis</td>\n",
       "      <td>male</td>\n",
       "      <td>62.0</td>\n",
       "      <td>0</td>\n",
       "      <td>0</td>\n",
       "      <td>240276</td>\n",
       "      <td>9.6875</td>\n",
       "      <td>NaN</td>\n",
       "      <td>Q</td>\n",
       "    </tr>\n",
       "    <tr>\n",
       "      <th>3</th>\n",
       "      <td>895</td>\n",
       "      <td>3</td>\n",
       "      <td>Wirz, Mr. Albert</td>\n",
       "      <td>male</td>\n",
       "      <td>27.0</td>\n",
       "      <td>0</td>\n",
       "      <td>0</td>\n",
       "      <td>315154</td>\n",
       "      <td>8.6625</td>\n",
       "      <td>NaN</td>\n",
       "      <td>S</td>\n",
       "    </tr>\n",
       "    <tr>\n",
       "      <th>4</th>\n",
       "      <td>896</td>\n",
       "      <td>3</td>\n",
       "      <td>Hirvonen, Mrs. Alexander (Helga E Lindqvist)</td>\n",
       "      <td>female</td>\n",
       "      <td>22.0</td>\n",
       "      <td>1</td>\n",
       "      <td>1</td>\n",
       "      <td>3101298</td>\n",
       "      <td>12.2875</td>\n",
       "      <td>NaN</td>\n",
       "      <td>S</td>\n",
       "    </tr>\n",
       "  </tbody>\n",
       "</table>\n",
       "</div>"
      ],
      "text/plain": [
       "   PassengerId  Pclass                                          Name     Sex  \\\n",
       "0          892       3                              Kelly, Mr. James    male   \n",
       "1          893       3              Wilkes, Mrs. James (Ellen Needs)  female   \n",
       "2          894       2                     Myles, Mr. Thomas Francis    male   \n",
       "3          895       3                              Wirz, Mr. Albert    male   \n",
       "4          896       3  Hirvonen, Mrs. Alexander (Helga E Lindqvist)  female   \n",
       "\n",
       "    Age  SibSp  Parch   Ticket     Fare Cabin Embarked  \n",
       "0  34.5      0      0   330911   7.8292   NaN        Q  \n",
       "1  47.0      1      0   363272   7.0000   NaN        S  \n",
       "2  62.0      0      0   240276   9.6875   NaN        Q  \n",
       "3  27.0      0      0   315154   8.6625   NaN        S  \n",
       "4  22.0      1      1  3101298  12.2875   NaN        S  "
      ]
     },
     "execution_count": 5,
     "metadata": {},
     "output_type": "execute_result"
    }
   ],
   "source": [
    "TEST.head()"
   ]
  },
  {
   "cell_type": "code",
   "execution_count": null,
   "metadata": {},
   "outputs": [],
   "source": []
  },
  {
   "cell_type": "markdown",
   "metadata": {},
   "source": [
    "# We'll continue with our TRAIN set. "
   ]
  },
  {
   "cell_type": "markdown",
   "metadata": {},
   "source": [
    "Our trainset consist of rows of PassengerID's with like Embarkation, PassengerClass, Name, Sex, Age, and number of children to describe each person associated with his or her passenger id. If you are new to statistics you might wonder how to describe and visualise data so that it represents your analysis correctly. Sometimes coding comes down to puzzling out the subject matter based on well-defined assumptions. Let's analyse our data such that it relates to death toll.\n",
    "\n",
    "Let's clean up the data and explore the ranges and variances of means and standard deviations of the variables we are interested in. After that we can visualise our variables and infer information to further define & statistically associate variables, which we will then visualise. Are you still with me? Let's goo!\n",
    "\n",
    "\n",
    "# Let's start by exploring"
   ]
  },
  {
   "cell_type": "markdown",
   "metadata": {},
   "source": [
    "Let's check if we have any Nan values in our dataset that can skew our distribution. Knowing this saves time in creating a visualisation.   "
   ]
  },
  {
   "cell_type": "code",
   "execution_count": 6,
   "metadata": {},
   "outputs": [
    {
     "data": {
      "text/plain": [
       "PassengerId      0\n",
       "Survived         0\n",
       "Pclass           0\n",
       "Name             0\n",
       "Sex              0\n",
       "Age            177\n",
       "SibSp            0\n",
       "Parch            0\n",
       "Ticket           0\n",
       "Fare             0\n",
       "Cabin          687\n",
       "Embarked         2\n",
       "dtype: int64"
      ]
     },
     "execution_count": 6,
     "metadata": {},
     "output_type": "execute_result"
    }
   ],
   "source": [
    "TRAIN.isnull().sum()"
   ]
  },
  {
   "cell_type": "code",
   "execution_count": 7,
   "metadata": {},
   "outputs": [
    {
     "data": {
      "text/plain": [
       "891"
      ]
     },
     "execution_count": 7,
     "metadata": {},
     "output_type": "execute_result"
    }
   ],
   "source": [
    "TRAIN['PassengerId'].count()"
   ]
  },
  {
   "cell_type": "markdown",
   "metadata": {},
   "source": [
    "\n",
    "# Age\n",
    "In our dataset the variables Age misses 177 entries, Cabin 687 entries and Embarked 2 entries. \n",
    "\n",
    "Thanks to mathematics we can handle missing data by imputing algorithmically. We can take the mean and fill all empty entries with the mean. What we also can do is take the median value. That allows robustness against outliers. What that means is that values that lie statistically far away from the other observed values account for skewness in the distribution of all observed values. To visualise this I create a distribution of our age entries with missing entries and then fill the missing points in our data set. "
   ]
  },
  {
   "cell_type": "code",
   "execution_count": 8,
   "metadata": {},
   "outputs": [
    {
     "data": {
      "image/png": "[encoded data removed]",
      "text/plain": [
       "<Figure size 432x288 with 1 Axes>"
      ]
     },
     "metadata": {},
     "output_type": "display_data"
    },
    {
     "name": "stdout",
     "output_type": "stream",
     "text": [
      "Stacked counts of ages\n"
     ]
    }
   ],
   "source": [
    "# Barchart Class occurences \n",
    "fig, ax = plt.subplots()\n",
    "ax = TRAIN[\"Age\"].hist(bins=60, density=False, stacked=True, color='forestgreen', alpha=0.8)\n",
    "TRAIN[\"Age\"].plot(kind='density', color='teal')\n",
    "ax.set(xlabel='Age')\n",
    "plt.xlim(-10,85)\n",
    "plt.show()\n",
    "\n",
    "print ('Stacked counts of ages')"
   ]
  },
  {
   "cell_type": "markdown",
   "metadata": {},
   "source": [
    "Let's add a line that tips all highest values of an occurence for an age item. Simply add 'density=True' to your ax variable."
   ]
  },
  {
   "cell_type": "code",
   "execution_count": 9,
   "metadata": {},
   "outputs": [
    {
     "data": {
      "image/png": "[encoded data removed]",
      "text/plain": [
       "<Figure size 432x288 with 1 Axes>"
      ]
     },
     "metadata": {},
     "output_type": "display_data"
    },
    {
     "name": "stdout",
     "output_type": "stream",
     "text": [
      "Stacked counts of ages with density plot line\n"
     ]
    }
   ],
   "source": [
    "# Barchart Class occurences \n",
    "fig, ax = plt.subplots()\n",
    "ax = TRAIN[\"Age\"].hist(bins=60, density=True,\n",
    "                       stacked=True,\n",
    "                       color='forestgreen', \n",
    "                       alpha=0.8)\n",
    "TRAIN[\"Age\"].plot(kind='density', \n",
    "                  color='teal')\n",
    "ax.set(xlabel='Age')\n",
    "plt.xlim(-10,85)\n",
    "plt.show()\n",
    "\n",
    "print ('Stacked counts of ages with density plot line')"
   ]
  },
  {
   "cell_type": "code",
   "execution_count": 10,
   "metadata": {},
   "outputs": [
    {
     "data": {
      "image/png": "[encoded data removed]",
      "text/plain": [
       "<Figure size 432x288 with 1 Axes>"
      ]
     },
     "metadata": {},
     "output_type": "display_data"
    }
   ],
   "source": [
    "#Create a boxenplot with jitter values\n",
    "ax = sns.boxenplot(x=\"Survived\", y=\"Age\", data=TRAIN)\n",
    "ax = sns.stripplot(x=\"Survived\", y=\"Age\", data=TRAIN,\n",
    "                    size=4, jitter=True, color=\"gray\")"
   ]
  },
  {
   "cell_type": "code",
   "execution_count": 11,
   "metadata": {},
   "outputs": [
    {
     "data": {
      "image/png": "[encoded data removed]",
      "text/plain": [
       "<Figure size 650.525x288 with 3 Axes>"
      ]
     },
     "metadata": {},
     "output_type": "display_data"
    }
   ],
   "source": [
    "#Another boxenplot\n",
    "e = sns.catplot(x=\"Survived\", y=\"Age\",\n",
    "                hue='Pclass', col= 'Embarked',\n",
    "                data=TRAIN,\n",
    "                 kind=\"boxen\",\n",
    "                height=4, aspect=.7);"
   ]
  },
  {
   "cell_type": "markdown",
   "metadata": {},
   "source": [
    "Because our data is distributed we can not simply impute a variable, because our ground truth, the distribution, is skewed. For example, if we would impute 1500 averages it would make much difference to our groundtruth where our observations of 10000 passengers are based on, the ratio is 20%. In our above example we see a binomial distribution. Let's split our data into groups so that we can account for variances. The kink of the line on face value falls between 0 and 18. Let's create a new list from our age category with C,'children', for persons =< 18, A, 'adults, for persons above 18."
   ]
  },
  {
   "cell_type": "code",
   "execution_count": 12,
   "metadata": {},
   "outputs": [],
   "source": [
    "AgeFilter = []\n",
    "for i in TRAIN['Age']:\n",
    "    if i <= 18:\n",
    "        AgeFilter.append('C')\n",
    "    else:\n",
    "        AgeFilter.append('A')\n",
    "        \n",
    "indexx = 0\n",
    "TRAIN.insert(loc=indexx, column='AgeFilter', value=AgeFilter)"
   ]
  },
  {
   "cell_type": "code",
   "execution_count": 13,
   "metadata": {},
   "outputs": [
    {
     "data": {
      "text/html": [
       "<div>\n",
       "<style scoped>\n",
       "    .dataframe tbody tr th:only-of-type {\n",
       "        vertical-align: middle;\n",
       "    }\n",
       "\n",
       "    .dataframe tbody tr th {\n",
       "        vertical-align: top;\n",
       "    }\n",
       "\n",
       "    .dataframe thead th {\n",
       "        text-align: right;\n",
       "    }\n",
       "</style>\n",
       "<table border=\"1\" class=\"dataframe\">\n",
       "  <thead>\n",
       "    <tr style=\"text-align: right;\">\n",
       "      <th></th>\n",
       "      <th>AgeFilter</th>\n",
       "      <th>PassengerId</th>\n",
       "      <th>Survived</th>\n",
       "      <th>Pclass</th>\n",
       "      <th>Name</th>\n",
       "      <th>Sex</th>\n",
       "      <th>Age</th>\n",
       "      <th>SibSp</th>\n",
       "      <th>Parch</th>\n",
       "      <th>Ticket</th>\n",
       "      <th>Fare</th>\n",
       "      <th>Cabin</th>\n",
       "      <th>Embarked</th>\n",
       "    </tr>\n",
       "  </thead>\n",
       "  <tbody>\n",
       "    <tr>\n",
       "      <th>0</th>\n",
       "      <td>A</td>\n",
       "      <td>1</td>\n",
       "      <td>0</td>\n",
       "      <td>3</td>\n",
       "      <td>Braund, Mr. Owen Harris</td>\n",
       "      <td>male</td>\n",
       "      <td>22.0</td>\n",
       "      <td>1</td>\n",
       "      <td>0</td>\n",
       "      <td>A/5 21171</td>\n",
       "      <td>7.2500</td>\n",
       "      <td>NaN</td>\n",
       "      <td>S</td>\n",
       "    </tr>\n",
       "    <tr>\n",
       "      <th>1</th>\n",
       "      <td>A</td>\n",
       "      <td>2</td>\n",
       "      <td>1</td>\n",
       "      <td>1</td>\n",
       "      <td>Cumings, Mrs. John Bradley (Florence Briggs Th...</td>\n",
       "      <td>female</td>\n",
       "      <td>38.0</td>\n",
       "      <td>1</td>\n",
       "      <td>0</td>\n",
       "      <td>PC 17599</td>\n",
       "      <td>71.2833</td>\n",
       "      <td>C85</td>\n",
       "      <td>C</td>\n",
       "    </tr>\n",
       "    <tr>\n",
       "      <th>2</th>\n",
       "      <td>A</td>\n",
       "      <td>3</td>\n",
       "      <td>1</td>\n",
       "      <td>3</td>\n",
       "      <td>Heikkinen, Miss. Laina</td>\n",
       "      <td>female</td>\n",
       "      <td>26.0</td>\n",
       "      <td>0</td>\n",
       "      <td>0</td>\n",
       "      <td>STON/O2. 3101282</td>\n",
       "      <td>7.9250</td>\n",
       "      <td>NaN</td>\n",
       "      <td>S</td>\n",
       "    </tr>\n",
       "    <tr>\n",
       "      <th>3</th>\n",
       "      <td>A</td>\n",
       "      <td>4</td>\n",
       "      <td>1</td>\n",
       "      <td>1</td>\n",
       "      <td>Futrelle, Mrs. Jacques Heath (Lily May Peel)</td>\n",
       "      <td>female</td>\n",
       "      <td>35.0</td>\n",
       "      <td>1</td>\n",
       "      <td>0</td>\n",
       "      <td>113803</td>\n",
       "      <td>53.1000</td>\n",
       "      <td>C123</td>\n",
       "      <td>S</td>\n",
       "    </tr>\n",
       "    <tr>\n",
       "      <th>4</th>\n",
       "      <td>A</td>\n",
       "      <td>5</td>\n",
       "      <td>0</td>\n",
       "      <td>3</td>\n",
       "      <td>Allen, Mr. William Henry</td>\n",
       "      <td>male</td>\n",
       "      <td>35.0</td>\n",
       "      <td>0</td>\n",
       "      <td>0</td>\n",
       "      <td>373450</td>\n",
       "      <td>8.0500</td>\n",
       "      <td>NaN</td>\n",
       "      <td>S</td>\n",
       "    </tr>\n",
       "  </tbody>\n",
       "</table>\n",
       "</div>"
      ],
      "text/plain": [
       "  AgeFilter  PassengerId  Survived  Pclass  \\\n",
       "0         A            1         0       3   \n",
       "1         A            2         1       1   \n",
       "2         A            3         1       3   \n",
       "3         A            4         1       1   \n",
       "4         A            5         0       3   \n",
       "\n",
       "                                                Name     Sex   Age  SibSp  \\\n",
       "0                            Braund, Mr. Owen Harris    male  22.0      1   \n",
       "1  Cumings, Mrs. John Bradley (Florence Briggs Th...  female  38.0      1   \n",
       "2                             Heikkinen, Miss. Laina  female  26.0      0   \n",
       "3       Futrelle, Mrs. Jacques Heath (Lily May Peel)  female  35.0      1   \n",
       "4                           Allen, Mr. William Henry    male  35.0      0   \n",
       "\n",
       "   Parch            Ticket     Fare Cabin Embarked  \n",
       "0      0         A/5 21171   7.2500   NaN        S  \n",
       "1      0          PC 17599  71.2833   C85        C  \n",
       "2      0  STON/O2. 3101282   7.9250   NaN        S  \n",
       "3      0            113803  53.1000  C123        S  \n",
       "4      0            373450   8.0500   NaN        S  "
      ]
     },
     "execution_count": 13,
     "metadata": {},
     "output_type": "execute_result"
    }
   ],
   "source": [
    "TRAIN.head()\n"
   ]
  },
  {
   "cell_type": "markdown",
   "metadata": {},
   "source": [
    "We'll use this categorical value to account for differences between survivors and non survivors."
   ]
  },
  {
   "cell_type": "code",
   "execution_count": 14,
   "metadata": {},
   "outputs": [
    {
     "data": {
      "text/plain": [
       "<matplotlib.axes._subplots.AxesSubplot at 0x1a1a298e10>"
      ]
     },
     "execution_count": 14,
     "metadata": {},
     "output_type": "execute_result"
    },
    {
     "data": {
      "image/png": "[encoded data removed]",
      "text/plain": [
       "<Figure size 432x288 with 1 Axes>"
      ]
     },
     "metadata": {},
     "output_type": "display_data"
    }
   ],
   "source": [
    "sns.countplot(TRAIN['AgeFilter'])\n"
   ]
  },
  {
   "cell_type": "markdown",
   "metadata": {},
   "source": [
    "We can see that 1/5th of our examples are labeled C. We can impute that same ratio to our samples to account for missing data. The exact ratio is 19.7% based on 177 missing entries and 891 observations. This means we have to impute  a value below 18 for 19.7% of our 177 of missing entries, and for the other 80,3% a value > 18. Which values to take?\n",
    "\n",
    "Let's calculate group means for the groups below and above the age of 18. "
   ]
  },
  {
   "cell_type": "code",
   "execution_count": 15,
   "metadata": {},
   "outputs": [
    {
     "name": "stdout",
     "output_type": "stream",
     "text": [
      "The average of age of A, Adults, =  33.58319467554077\n",
      "The average of age of C, Children, =  9.041327433628318\n",
      "The sum of all nan-values is :  177\n",
      "The type of the nan-values are:  <class 'float'>\n",
      "The first 5 elements of the nan-values list:  [nan, nan, nan, nan, nan]\n"
     ]
    }
   ],
   "source": [
    "a_list= []\n",
    "c_list=[]\n",
    "nan_list = []\n",
    "for i in TRAIN['Age']:\n",
    "    if i >= 18.0:\n",
    "        a_list.append(i) \n",
    "    elif 0.1 < i < 18.0:\n",
    "        c_list.append(i)\n",
    "    else:\n",
    "        nan_list.append(i)\n",
    "\n",
    "avg_a = sum(a_list)/len(a_list)\n",
    "avg_c = sum(c_list)/len(c_list)\n",
    "\n",
    "#Print averages of C and A class\n",
    "print ('The average of age of A, Adults, = ',avg_a)\n",
    "print ('The average of age of C, Children, = ',avg_c)\n",
    "\n",
    "#Print sum of nan_list\n",
    "print ('The sum of all nan-values is : ', sum(math.isnan(x) for x in nan_list))\n",
    "\n",
    "#Print type and first 5 elements of nan_list\n",
    "print ('The type of the nan-values are: ', type(nan_list[0]))\n",
    "print ('The first 5 elements of the nan-values list: ', nan_list[:5])"
   ]
  },
  {
   "cell_type": "markdown",
   "metadata": {},
   "source": [
    "Now that we have our means for our different age groups we can impute our data based on the same ratio. Of our nan-values we will impute 35 (19,8% rounded) nan-values with the avg_c = 9.04 , for persons < 18 and for all other nan-values we'll impute avg_a = 33.58. This way we are sure that our imputed values follow the same expected distribution of our binomial age distribution. \n",
    "\n",
    "To do this we have to append the all float values to a new list as strings. We will iterate over the items in the list that contain a string returned by the isnull parameter, and set a count to 0. Doing this makes sure we only grab the nan-values in our next line. If the count is lower than 35 and if that item returns True we will impute the average of\n",
    "children, and for the other nan-values we will impute the average of adults.\n",
    "\n",
    "To confuse it all a bit more we randomly iterate over our nan-values to impute our averages for children and adults. This way our bias reduces more. It reduces, because if we impute our values in order, we basically add another factor that tweaks the data. It might not be significant in this case, but it adds unnecessary bias to our interpretation. If we instead randomly iterate over all the nan-values that have adjecent columns of information and assign an age value to that row of data, we reduce chances of not following the normal distribution underlying the age values in relation to all person specific related columns of information.\n",
    "\n",
    "In case of prediction imputing can heavily influence minimising your residual errors. But that's for a later stage. Let's first see if we can replace 20% of our nan-values with the averages of children and 80% with the avgs of adults.\n"
   ]
  },
  {
   "cell_type": "code",
   "execution_count": 16,
   "metadata": {},
   "outputs": [
    {
     "name": "stdout",
     "output_type": "stream",
     "text": [
      "['22.0', '38.0', '26.0', '35.0', '35.0', 'nan', '54.0', '2.0', '27.0', '14.0']\n"
     ]
    }
   ],
   "source": [
    "##Change every nan-value first to 0\n",
    "#Create two lists to convert all floats to str\n",
    "agelist = list(TRAIN['Age'])\n",
    "jsl = []\n",
    "\n",
    "#Iterate over list\n",
    "for i in agelist:\n",
    "    #Change i to string\n",
    "    i = str(i)\n",
    "    #Append i to list\n",
    "    jsl.append(i)\n",
    "#Change agelist to list of strings\n",
    "agelist = jsl\n",
    "\n",
    "print (agelist[:10])\n",
    "\n",
    " \n",
    "    "
   ]
  },
  {
   "cell_type": "code",
   "execution_count": 17,
   "metadata": {},
   "outputs": [
    {
     "name": "stdout",
     "output_type": "stream",
     "text": [
      "<class 'str'>\n",
      "<class 'str'>\n",
      "<class 'str'>\n",
      "<class 'str'>\n",
      "<class 'str'>\n",
      "<class 'str'>\n",
      "<class 'str'>\n",
      "<class 'str'>\n",
      "<class 'str'>\n",
      "<class 'str'>\n"
     ]
    }
   ],
   "source": [
    "#Print first 10 values\n",
    "for i in (agelist[:10]):\n",
    "    print (type(i))\n",
    "    "
   ]
  },
  {
   "cell_type": "markdown",
   "metadata": {},
   "source": [
    "Let's shuffle the elements in our agelist, but keep a print of the order of the unique shuffle. We can than call the original value associated with the same order position as the converted integer, float or string. (Got this one from Stackoverflow comment: https://stackoverflow.com/questions/26577517/inverse-of-random-shuffle/42302431)"
   ]
  },
  {
   "cell_type": "code",
   "execution_count": 18,
   "metadata": {},
   "outputs": [],
   "source": [
    "#Randomly shuffle input\n",
    "def shuffle_forward(l):\n",
    "    #Take all elements from 0 to length(list) and shuffle them by that order\n",
    "    order = list(range(len(l))); random.shuffle(order)\n",
    "    #Return a list of the array of the randomly shuffled elements \n",
    "    #The order on the array is random, but observed as the above function executes, \n",
    "    #and thus creates an unique pattern that can be listed in order\n",
    "    return list(np.array(l)[order]), order\n",
    "\n",
    "#Take the elements and the order range set of the elements\n",
    "def shuffle_backward(l, order):\n",
    "    #Define a var that creates a new np array of width 0 and length len(l)\n",
    "    l_out = [0] * len(l)\n",
    "    \n",
    "    #Index the order of the input of the randomly assigned values to the np array as i, j\n",
    "    for i, j in enumerate(order):\n",
    "        #For every element j in the var l_out == [0],\n",
    "        #the element is placed back on the order of the original list when shuffled in the shuffle_forward function \n",
    "        l_out[j] = l[i]\n",
    "        \n",
    "    #Return list of the inverse shuffled original list   \n",
    "    return l_out\n"
   ]
  },
  {
   "cell_type": "markdown",
   "metadata": {},
   "source": [
    "Let's test our functions. "
   ]
  },
  {
   "cell_type": "code",
   "execution_count": 19,
   "metadata": {},
   "outputs": [
    {
     "name": "stdout",
     "output_type": "stream",
     "text": [
      "This is the testlist:  [1, 10, 100, 1000, 434, 4456, 673, 3434, 8298, 2893793]\n",
      "This is the new shuffled list  [1000, 2893793, 100, 434, 8298, 673, 3434, 10, 4456, 1]\n",
      "This is the order in which the items were shuffled  [3, 9, 2, 4, 8, 6, 7, 1, 5, 0]\n"
     ]
    }
   ],
   "source": [
    "## First our shuffle_forward function\n",
    "#Create testlist\n",
    "testlist = [1, 10, 100, 1000,434,4456,673,3434,8298,2893793]\n",
    "\n",
    "#Forward shuffle our testlist\n",
    "testlistshuffle, testlist_order = shuffle_forward(testlist)\n",
    "#Run function on testlist and define order from shuffle_forward function\n",
    "print ('This is the testlist: ', testlist)\n",
    "print ('This is the new shuffled list ', testlistshuffle) \n",
    "print ('This is the order in which the items were shuffled ', testlist_order)\n",
    "\n"
   ]
  },
  {
   "cell_type": "code",
   "execution_count": 20,
   "metadata": {},
   "outputs": [
    {
     "name": "stdout",
     "output_type": "stream",
     "text": [
      "This is the testlist:  [1, 10, 100, 1000, 434, 4456, 673, 3434, 8298, 2893793]\n",
      "This is the new shuffled list  [1000, 2893793, 100, 434, 8298, 673, 3434, 10, 4456, 1]\n",
      "This is the order in which the items were shuffled  [3, 9, 2, 4, 8, 6, 7, 1, 5, 0]\n",
      "This is the backwards shuffle or the new shuffled list into the testlist:  [1, 10, 100, 1000, 434, 4456, 673, 3434, 8298, 2893793]\n"
     ]
    }
   ],
   "source": [
    "##Next our shuffle_backward function\n",
    "print ('This is the testlist: ', testlist)\n",
    "print ('This is the new shuffled list ', testlistshuffle) \n",
    "print ('This is the order in which the items were shuffled ', testlist_order)\n",
    "\n",
    "#Shuffle back with order of testlist\n",
    "testlistbackshuffle = shuffle_backward(testlistshuffle,testlist_order)\n",
    "\n",
    "print ('This is the backwards shuffle or the new shuffled list into the testlist: ', testlistbackshuffle)\n"
   ]
  },
  {
   "cell_type": "markdown",
   "metadata": {},
   "source": [
    "# It works! \n",
    "Let's implement it on our age list to shuffle our strings, impute the nan-values with the right averages and shuffle the list backwards by order.\n",
    "\n",
    "Let's create a function that we can call when the deck is shuffled and assigns the right averages to the nan-values before shuffling back the same index by enumerating the order. Because we use our averages, we have to ready and clean them up to replace the string nan-values. This means converting rounding them up to 2 decimal points, as in the original TRAIN['Age'] column and convert the float to a string."
   ]
  },
  {
   "cell_type": "code",
   "execution_count": 21,
   "metadata": {},
   "outputs": [],
   "source": [
    "#Convert averages to decimals, round them to two integers behind decimal and convert average item to string\n",
    "avg_a =  decimal.Decimal(avg_a)\n",
    "avg_a = round(avg_a,2)\n",
    "avg_a = str(avg_a)\n",
    "\n",
    "avg_c =  decimal.Decimal(avg_c)\n",
    "avg_c = round(avg_c,2)\n",
    "avg_c = str(avg_c)"
   ]
  },
  {
   "cell_type": "code",
   "execution_count": 22,
   "metadata": {},
   "outputs": [
    {
     "name": "stdout",
     "output_type": "stream",
     "text": [
      "33.58\n",
      "9.04\n"
     ]
    }
   ],
   "source": [
    "print (avg_a)\n",
    "print (avg_c)"
   ]
  },
  {
   "cell_type": "code",
   "execution_count": 23,
   "metadata": {},
   "outputs": [],
   "source": [
    "#Impute function to rectify age values according to the binomial distribution\n",
    "def age_rect(klist):\n",
    "    #Create empty list and set count to 0\n",
    "    dlist = []\n",
    "    count = 0\n",
    "    #Iterate over the agelist\n",
    "    for i in klist:\n",
    "        #Filter i on 'nan', count < 35\n",
    "        if i == 'nan' and count <35: \n",
    "            #Append average of C category children\n",
    "            dlist.append(avg_c)\n",
    "            #Increment count \n",
    "            count += 1\n",
    "        #Filter if count >= 35\n",
    "        elif i == 'nan' and count >= 35:\n",
    "                dlist.append(avg_a)\n",
    "                count += 1\n",
    "        else:\n",
    "            #Append i if i is an age value\n",
    "            dlist.append(i)\n",
    "            \n",
    "        \n",
    "    #Returns list of values\n",
    "    print (dlist[:6])\n",
    "    print (type(dlist[6]))\n",
    "    \n",
    "    return dlist"
   ]
  },
  {
   "cell_type": "markdown",
   "metadata": {},
   "source": [
    "So, again. \n",
    "\n",
    "1. Let's first shuffle our order of indexes with age items. \n",
    "\n",
    "2. We iterate over the first 19.8% (approx. first 35) of random integers of 177 string nan entries between 0 and 177 of nan observations.Then change our 20% of our nan-values with the average of the C category children,  and 80% with the average of the A category adults. \n",
    "\n",
    "3. Then we can assign the shuffled index with the same order back, because we reserved the order of randomizing the index of the age items.\n",
    "\n",
    "We do this to reduce bias. "
   ]
  },
  {
   "cell_type": "code",
   "execution_count": 24,
   "metadata": {},
   "outputs": [
    {
     "name": "stdout",
     "output_type": "stream",
     "text": [
      "['41.0', '58.0', 'nan', 'nan', 'nan', '25.0', '19.0', '25.0', '31.0', '42.0', 'nan', 'nan', '24.0', 'nan', 'nan', '17.0', '70.5', 'nan', '48.0', '42.0']\n",
      "[254, 195, 563, 459, 613, 666, 27, 370, 215, 217, 48, 560, 127, 264, 481, 114, 116, 538, 460, 845, 874, 327, 723, 852, 278, 232, 689, 20, 103, 379, 774, 541, 242, 21, 582, 289, 712, 837, 598, 820, 614, 510, 225, 286, 872, 696, 342, 641, 197, 869, 709, 455, 410, 79, 739, 204, 7, 58, 388, 35, 691, 662, 418, 443, 341, 840, 87, 300, 255, 138, 694, 369, 118, 745, 503, 125, 146, 828, 343, 71, 405, 679, 193, 415, 52, 355, 594, 498, 535, 272, 698, 878, 158, 640, 393, 190, 380, 643, 73, 360, 199, 308, 886, 414, 129, 387, 674, 335, 752, 227, 450, 309, 163, 334, 565, 487, 665, 47, 17, 787, 411, 537, 90, 692, 858, 800, 890, 223, 161, 606, 419, 798, 738, 338, 847, 358, 303, 357, 555, 4, 506, 429, 391, 765, 109, 238, 553, 670, 396, 542, 603, 471, 838, 888, 519, 546, 759, 436, 835, 61, 3, 448, 683, 408, 85, 136, 601, 611, 72, 722, 321, 156, 198, 330, 326, 43, 441, 351, 261, 25, 329, 769, 488, 6, 540, 143, 802, 871, 811, 183, 174, 855, 122, 500, 97, 31, 711, 237, 389, 2, 37, 299, 315, 400, 93, 680, 636, 371, 112, 186, 224, 607, 467, 575, 94, 306, 434, 737, 650, 754, 566, 782, 619, 842, 485, 382, 717, 812, 155, 884, 609, 588, 385, 573, 390, 165, 417, 841, 644, 781, 160, 602, 432, 751, 491, 268, 435, 214, 176, 247, 699, 827, 786, 128, 39, 657, 529, 478, 523, 832, 804, 839, 162, 556, 113, 778, 34, 850, 406, 30, 868, 795, 775, 416, 856, 746, 440, 620, 870, 793, 690, 648, 551, 479, 539, 757, 166, 526, 653, 177, 91, 337, 530, 364, 263, 616, 629, 340, 748, 873, 316, 465, 259, 86, 806, 279, 823, 76, 720, 638, 785, 407, 150, 693, 507, 520, 45, 639, 808, 515, 239, 399, 207, 578, 64, 509, 659, 77, 333, 23, 815, 266, 260, 805, 348, 141, 512, 178, 8, 831, 797, 324, 592, 280, 705, 844, 618, 791, 477, 517, 783, 574, 767, 741, 626, 494, 860, 461, 66, 875, 843, 171, 29, 667, 101, 381, 576, 796, 809, 474, 848, 678, 742, 173, 115, 230, 235, 164, 359, 304, 426, 550, 801, 585, 56, 88, 671, 489, 258, 344, 430, 40, 721, 584, 50, 221, 144, 826, 880, 612, 457, 425, 499, 28, 421, 75, 743, 758, 134, 368, 159, 682, 681, 631, 656, 716, 19, 377, 205, 374, 70, 790, 145, 502, 96, 810, 5, 579, 24, 446, 452, 736, 392, 302, 149, 597, 188, 664, 154, 350, 632, 562, 105, 185, 275, 251, 376, 599, 527, 836, 89, 69, 49, 866, 236, 706, 216, 458, 106, 346, 534, 243, 167, 580, 83, 864, 549, 137, 372, 80, 608, 476, 367, 646, 729, 63, 695, 889, 424, 451, 740, 356, 863, 505, 777, 32, 349, 317, 208, 770, 516, 528, 413, 829, 352, 532, 10, 647, 559, 687, 120, 262, 794, 776, 82, 433, 514, 366, 182, 483, 482, 181, 688, 547, 42, 854, 615, 568, 882, 714, 110, 621, 325, 702, 365, 545, 332, 673, 53, 384, 22, 495, 672, 704, 617, 218, 493, 762, 362, 117, 233, 727, 784, 725, 591, 685, 750, 206, 420, 328, 59, 196, 108, 697, 301, 319, 444, 453, 442, 310, 814, 131, 651, 285, 846, 202, 771, 525, 818, 298, 581, 701, 187, 744, 557, 677, 788, 92, 192, 623, 398, 152, 427, 703, 501, 323, 628, 589, 378, 99, 54, 265, 51, 209, 861, 779, 402, 67, 314, 728, 1, 288, 876, 104, 270, 15, 887, 571, 172, 521, 62, 715, 569, 353, 572, 41, 660, 475, 250, 249, 564, 256, 654, 269, 473, 397, 184, 753, 484, 853, 707, 231, 655, 447, 766, 287, 219, 170, 220, 468, 772, 492, 277, 513, 295, 816, 276, 9, 132, 624, 292, 273, 271, 497, 524, 211, 200, 412, 111, 354, 102, 153, 46, 123, 139, 60, 336, 401, 296, 710, 567, 825, 293, 297, 570, 124, 454, 274, 191, 210, 747, 469, 735, 222, 768, 622, 877, 773, 423, 859, 583, 18, 294, 661, 633, 394, 322, 731, 857, 734, 719, 291, 533, 140, 428, 686, 65, 404, 13, 33, 548, 511, 865, 180, 761, 792, 610, 668, 817, 821, 14, 133, 151, 339, 373, 142, 813, 486, 345, 201, 635, 403, 627, 189, 318, 234, 536, 885, 16, 244, 724, 267, 74, 522, 676, 437, 605, 637, 55, 649, 179, 490, 311, 586, 543, 807, 799, 466, 780, 760, 463, 313, 312, 561, 445, 508, 824, 245, 439, 248, 789, 464, 168, 284, 879, 718, 281, 331, 496, 883, 11, 307, 241, 518, 708, 305, 764, 12, 881, 851, 126, 44, 363, 26, 175, 194, 36, 531, 347, 228, 438, 147, 590, 119, 212, 81, 658, 213, 558, 157, 472, 57, 830, 135, 833, 630, 756, 652, 593, 867, 726, 95, 246, 554, 386, 84, 290, 361, 504, 625, 663, 449, 862, 755, 462, 577, 409, 383, 803, 470, 169, 240, 675, 684, 669, 226, 642, 100, 595, 713, 634, 98, 282, 732, 849, 252, 733, 431, 283, 229, 422, 700, 763, 375, 819, 130, 749, 600, 604, 395, 38, 645, 834, 148, 121, 253, 544, 587, 320, 456, 78, 480, 0, 203, 596, 257, 822, 730, 552, 107, 68]\n"
     ]
    }
   ],
   "source": [
    "#Shuffle age list and assign order \n",
    "shuffled_agelist, order_agelist = shuffle_forward(agelist)\n",
    "\n",
    "#Print shuffled age list and order\n",
    "print (shuffled_agelist[:20])\n",
    "print (order_agelist)"
   ]
  },
  {
   "cell_type": "markdown",
   "metadata": {},
   "source": [
    "# That is one big key!\n",
    "\n",
    "Well, actually it is. Pretty cool! Let's use this order-key to re-assign our index with the right age items. But, as you can see, we still have nan-values. Let's change those and than shuffle the list backwards. "
   ]
  },
  {
   "cell_type": "code",
   "execution_count": 25,
   "metadata": {},
   "outputs": [
    {
     "name": "stdout",
     "output_type": "stream",
     "text": [
      "['41.0', '58.0', '9.04', '9.04', '9.04', '25.0']\n",
      "<class 'numpy.str_'>\n",
      "First 10 elements of our shuffled rectified age list : ['41.0', '58.0', '9.04', '9.04', '9.04', '25.0', '19.0', '25.0', '31.0', '42.0']\n"
     ]
    }
   ],
   "source": [
    "rect_shuff_agelist = age_rect(shuffled_agelist)\n",
    "print ('First 10 elements of our shuffled rectified age list :', (rect_shuff_agelist[:10]))"
   ]
  },
  {
   "cell_type": "raw",
   "metadata": {},
   "source": [
    "Now let's backward shuffle our shuffled rectified age list!"
   ]
  },
  {
   "cell_type": "code",
   "execution_count": 26,
   "metadata": {},
   "outputs": [
    {
     "name": "stdout",
     "output_type": "stream",
     "text": [
      "The first 6 elements of our age list:          ['22.0', '38.0', '26.0', '35.0', '35.0', 'nan']\n",
      "The first 6 elements of our imputed age list:  ['22.0', '38.0', '26.0', '35.0', '35.0', '33.58']\n"
     ]
    }
   ],
   "source": [
    "new_age_list = shuffle_backward(rect_shuff_agelist, order_agelist)\n",
    "\n",
    "print ('The first 6 elements of our age list:         ', (agelist[:6]))\n",
    "print ('The first 6 elements of our imputed age list: ', new_age_list[:6])\n"
   ]
  },
  {
   "cell_type": "markdown",
   "metadata": {},
   "source": [
    "Now, the last part is converting every item in our new_age_list to a float, and pass it into our dataframe to visualise the distribution of our age category.\n"
   ]
  },
  {
   "cell_type": "code",
   "execution_count": 27,
   "metadata": {},
   "outputs": [
    {
     "name": "stdout",
     "output_type": "stream",
     "text": [
      "These are the first 6 elements of our float new_age_list:  [22.0, 38.0, 26.0, 35.0, 35.0, 33.58]\n",
      "These are the first 6 elements class descriptions of our float new_age_list :  <class 'float'> <class 'float'> <class 'float'>\n"
     ]
    }
   ],
   "source": [
    "age_list_to_float = [float(i) for i in new_age_list]\n",
    "\n",
    "print ('These are the first 6 elements of our float new_age_list: ', age_list_to_float[:6])\n",
    "print ('These are the first 6 elements class descriptions of our float new_age_list : ', type(age_list_to_float[1]),\n",
    "                                                                                             type(age_list_to_float[2]),\n",
    "                                                                                                 type(age_list_to_float[3]))\n"
   ]
  },
  {
   "cell_type": "markdown",
   "metadata": {},
   "source": [
    "# Back to our dataframe\n",
    "Let's insert our new age list into our dataframe!"
   ]
  },
  {
   "cell_type": "code",
   "execution_count": 28,
   "metadata": {},
   "outputs": [
    {
     "data": {
      "text/html": [
       "<div>\n",
       "<style scoped>\n",
       "    .dataframe tbody tr th:only-of-type {\n",
       "        vertical-align: middle;\n",
       "    }\n",
       "\n",
       "    .dataframe tbody tr th {\n",
       "        vertical-align: top;\n",
       "    }\n",
       "\n",
       "    .dataframe thead th {\n",
       "        text-align: right;\n",
       "    }\n",
       "</style>\n",
       "<table border=\"1\" class=\"dataframe\">\n",
       "  <thead>\n",
       "    <tr style=\"text-align: right;\">\n",
       "      <th></th>\n",
       "      <th>AgeFilter</th>\n",
       "      <th>PassengerId</th>\n",
       "      <th>Survived</th>\n",
       "      <th>Pclass</th>\n",
       "      <th>Name</th>\n",
       "      <th>Sex</th>\n",
       "      <th>Age</th>\n",
       "      <th>SibSp</th>\n",
       "      <th>Parch</th>\n",
       "      <th>Ticket</th>\n",
       "      <th>Fare</th>\n",
       "      <th>Cabin</th>\n",
       "      <th>Embarked</th>\n",
       "    </tr>\n",
       "  </thead>\n",
       "  <tbody>\n",
       "    <tr>\n",
       "      <th>0</th>\n",
       "      <td>A</td>\n",
       "      <td>1</td>\n",
       "      <td>0</td>\n",
       "      <td>3</td>\n",
       "      <td>Braund, Mr. Owen Harris</td>\n",
       "      <td>male</td>\n",
       "      <td>22.00</td>\n",
       "      <td>1</td>\n",
       "      <td>0</td>\n",
       "      <td>A/5 21171</td>\n",
       "      <td>7.2500</td>\n",
       "      <td>NaN</td>\n",
       "      <td>S</td>\n",
       "    </tr>\n",
       "    <tr>\n",
       "      <th>1</th>\n",
       "      <td>A</td>\n",
       "      <td>2</td>\n",
       "      <td>1</td>\n",
       "      <td>1</td>\n",
       "      <td>Cumings, Mrs. John Bradley (Florence Briggs Th...</td>\n",
       "      <td>female</td>\n",
       "      <td>38.00</td>\n",
       "      <td>1</td>\n",
       "      <td>0</td>\n",
       "      <td>PC 17599</td>\n",
       "      <td>71.2833</td>\n",
       "      <td>C85</td>\n",
       "      <td>C</td>\n",
       "    </tr>\n",
       "    <tr>\n",
       "      <th>2</th>\n",
       "      <td>A</td>\n",
       "      <td>3</td>\n",
       "      <td>1</td>\n",
       "      <td>3</td>\n",
       "      <td>Heikkinen, Miss. Laina</td>\n",
       "      <td>female</td>\n",
       "      <td>26.00</td>\n",
       "      <td>0</td>\n",
       "      <td>0</td>\n",
       "      <td>STON/O2. 3101282</td>\n",
       "      <td>7.9250</td>\n",
       "      <td>NaN</td>\n",
       "      <td>S</td>\n",
       "    </tr>\n",
       "    <tr>\n",
       "      <th>3</th>\n",
       "      <td>A</td>\n",
       "      <td>4</td>\n",
       "      <td>1</td>\n",
       "      <td>1</td>\n",
       "      <td>Futrelle, Mrs. Jacques Heath (Lily May Peel)</td>\n",
       "      <td>female</td>\n",
       "      <td>35.00</td>\n",
       "      <td>1</td>\n",
       "      <td>0</td>\n",
       "      <td>113803</td>\n",
       "      <td>53.1000</td>\n",
       "      <td>C123</td>\n",
       "      <td>S</td>\n",
       "    </tr>\n",
       "    <tr>\n",
       "      <th>4</th>\n",
       "      <td>A</td>\n",
       "      <td>5</td>\n",
       "      <td>0</td>\n",
       "      <td>3</td>\n",
       "      <td>Allen, Mr. William Henry</td>\n",
       "      <td>male</td>\n",
       "      <td>35.00</td>\n",
       "      <td>0</td>\n",
       "      <td>0</td>\n",
       "      <td>373450</td>\n",
       "      <td>8.0500</td>\n",
       "      <td>NaN</td>\n",
       "      <td>S</td>\n",
       "    </tr>\n",
       "    <tr>\n",
       "      <th>5</th>\n",
       "      <td>A</td>\n",
       "      <td>6</td>\n",
       "      <td>0</td>\n",
       "      <td>3</td>\n",
       "      <td>Moran, Mr. James</td>\n",
       "      <td>male</td>\n",
       "      <td>33.58</td>\n",
       "      <td>0</td>\n",
       "      <td>0</td>\n",
       "      <td>330877</td>\n",
       "      <td>8.4583</td>\n",
       "      <td>NaN</td>\n",
       "      <td>Q</td>\n",
       "    </tr>\n",
       "    <tr>\n",
       "      <th>6</th>\n",
       "      <td>A</td>\n",
       "      <td>7</td>\n",
       "      <td>0</td>\n",
       "      <td>1</td>\n",
       "      <td>McCarthy, Mr. Timothy J</td>\n",
       "      <td>male</td>\n",
       "      <td>54.00</td>\n",
       "      <td>0</td>\n",
       "      <td>0</td>\n",
       "      <td>17463</td>\n",
       "      <td>51.8625</td>\n",
       "      <td>E46</td>\n",
       "      <td>S</td>\n",
       "    </tr>\n",
       "    <tr>\n",
       "      <th>7</th>\n",
       "      <td>C</td>\n",
       "      <td>8</td>\n",
       "      <td>0</td>\n",
       "      <td>3</td>\n",
       "      <td>Palsson, Master. Gosta Leonard</td>\n",
       "      <td>male</td>\n",
       "      <td>2.00</td>\n",
       "      <td>3</td>\n",
       "      <td>1</td>\n",
       "      <td>349909</td>\n",
       "      <td>21.0750</td>\n",
       "      <td>NaN</td>\n",
       "      <td>S</td>\n",
       "    </tr>\n",
       "    <tr>\n",
       "      <th>8</th>\n",
       "      <td>A</td>\n",
       "      <td>9</td>\n",
       "      <td>1</td>\n",
       "      <td>3</td>\n",
       "      <td>Johnson, Mrs. Oscar W (Elisabeth Vilhelmina Berg)</td>\n",
       "      <td>female</td>\n",
       "      <td>27.00</td>\n",
       "      <td>0</td>\n",
       "      <td>2</td>\n",
       "      <td>347742</td>\n",
       "      <td>11.1333</td>\n",
       "      <td>NaN</td>\n",
       "      <td>S</td>\n",
       "    </tr>\n",
       "    <tr>\n",
       "      <th>9</th>\n",
       "      <td>C</td>\n",
       "      <td>10</td>\n",
       "      <td>1</td>\n",
       "      <td>2</td>\n",
       "      <td>Nasser, Mrs. Nicholas (Adele Achem)</td>\n",
       "      <td>female</td>\n",
       "      <td>14.00</td>\n",
       "      <td>1</td>\n",
       "      <td>0</td>\n",
       "      <td>237736</td>\n",
       "      <td>30.0708</td>\n",
       "      <td>NaN</td>\n",
       "      <td>C</td>\n",
       "    </tr>\n",
       "  </tbody>\n",
       "</table>\n",
       "</div>"
      ],
      "text/plain": [
       "  AgeFilter  PassengerId  Survived  Pclass  \\\n",
       "0         A            1         0       3   \n",
       "1         A            2         1       1   \n",
       "2         A            3         1       3   \n",
       "3         A            4         1       1   \n",
       "4         A            5         0       3   \n",
       "5         A            6         0       3   \n",
       "6         A            7         0       1   \n",
       "7         C            8         0       3   \n",
       "8         A            9         1       3   \n",
       "9         C           10         1       2   \n",
       "\n",
       "                                                Name     Sex    Age  SibSp  \\\n",
       "0                            Braund, Mr. Owen Harris    male  22.00      1   \n",
       "1  Cumings, Mrs. John Bradley (Florence Briggs Th...  female  38.00      1   \n",
       "2                             Heikkinen, Miss. Laina  female  26.00      0   \n",
       "3       Futrelle, Mrs. Jacques Heath (Lily May Peel)  female  35.00      1   \n",
       "4                           Allen, Mr. William Henry    male  35.00      0   \n",
       "5                                   Moran, Mr. James    male  33.58      0   \n",
       "6                            McCarthy, Mr. Timothy J    male  54.00      0   \n",
       "7                     Palsson, Master. Gosta Leonard    male   2.00      3   \n",
       "8  Johnson, Mrs. Oscar W (Elisabeth Vilhelmina Berg)  female  27.00      0   \n",
       "9                Nasser, Mrs. Nicholas (Adele Achem)  female  14.00      1   \n",
       "\n",
       "   Parch            Ticket     Fare Cabin Embarked  \n",
       "0      0         A/5 21171   7.2500   NaN        S  \n",
       "1      0          PC 17599  71.2833   C85        C  \n",
       "2      0  STON/O2. 3101282   7.9250   NaN        S  \n",
       "3      0            113803  53.1000  C123        S  \n",
       "4      0            373450   8.0500   NaN        S  \n",
       "5      0            330877   8.4583   NaN        Q  \n",
       "6      0             17463  51.8625   E46        S  \n",
       "7      1            349909  21.0750   NaN        S  \n",
       "8      2            347742  11.1333   NaN        S  \n",
       "9      0            237736  30.0708   NaN        C  "
      ]
     },
     "execution_count": 28,
     "metadata": {},
     "output_type": "execute_result"
    }
   ],
   "source": [
    "#Assign column to new list\n",
    "TRAIN['Age'] = age_list_to_float\n",
    "\n",
    "#Show new dataframe\n",
    "TRAIN[:10]"
   ]
  },
  {
   "cell_type": "code",
   "execution_count": 29,
   "metadata": {},
   "outputs": [
    {
     "data": {
      "image/png": "[encoded data removed]",
      "text/plain": [
       "<Figure size 432x288 with 1 Axes>"
      ]
     },
     "metadata": {},
     "output_type": "display_data"
    },
    {
     "name": "stdout",
     "output_type": "stream",
     "text": [
      "Stacked counts of rectified ages with density plot line\n"
     ]
    }
   ],
   "source": [
    "# Barchart Class occurences \n",
    "fig, ax = plt.subplots()\n",
    "ax = TRAIN[\"Age\"].hist(bins=60, density=True,\n",
    "                       stacked=True,\n",
    "                       color='forestgreen', \n",
    "                       alpha=0.8)\n",
    "TRAIN[\"Age\"].plot(kind='density', \n",
    "                  color='teal')\n",
    "ax.set(xlabel='Age')\n",
    "plt.xlim(-10,85)\n",
    "plt.show()\n",
    "\n",
    "print ('Stacked counts of rectified ages with density plot line')"
   ]
  },
  {
   "cell_type": "markdown",
   "metadata": {},
   "source": [
    "As you can see our distribution becomes less binomial. It widens the tails of our distribution a bit. If we would repeat the forwards and backwards shuffling, sum all the distributions up and divide by n distributions we get a standard bell curve. In the middle we can see a long stack of ages. This does not look good, and we will investigate it with a boxplot."
   ]
  },
  {
   "cell_type": "code",
   "execution_count": 30,
   "metadata": {},
   "outputs": [
    {
     "data": {
      "text/plain": [
       "<matplotlib.axes._subplots.AxesSubplot at 0x1a19f1ccf8>"
      ]
     },
     "execution_count": 30,
     "metadata": {},
     "output_type": "execute_result"
    },
    {
     "data": {
      "image/png": "[encoded data removed]",
      "text/plain": [
       "<Figure size 432x288 with 1 Axes>"
      ]
     },
     "metadata": {},
     "output_type": "display_data"
    }
   ],
   "source": [
    "sns.boxplot(x=\"Pclass\", y=\"Age\",\n",
    "                hue=\"Survived\",\n",
    "                data=TRAIN)\n"
   ]
  },
  {
   "cell_type": "code",
   "execution_count": 31,
   "metadata": {},
   "outputs": [
    {
     "name": "stderr",
     "output_type": "stream",
     "text": [
      "/anaconda3/envs/CodexA/lib/python3.6/site-packages/scipy/stats/stats.py:1713: FutureWarning: Using a non-tuple sequence for multidimensional indexing is deprecated; use `arr[tuple(seq)]` instead of `arr[seq]`. In the future this will be interpreted as an array index, `arr[np.array(seq)]`, which will result either in an error or a different result.\n",
      "  return np.add.reduce(sorted[indexer] * weights, axis=axis) / sumval\n"
     ]
    },
    {
     "data": {
      "image/png": "[encoded data removed]",
      "text/plain": [
       "<Figure size 768.425x360 with 2 Axes>"
      ]
     },
     "metadata": {},
     "output_type": "display_data"
    }
   ],
   "source": [
    "g = sns.catplot(x=\"Pclass\", y=\"Age\",\n",
    "                hue=\"Survived\",\n",
    "                col=\"Sex\",\n",
    "                data=TRAIN,\n",
    "                kind=\"violin\",\n",
    "                split=True);\n",
    "\n"
   ]
  },
  {
   "cell_type": "markdown",
   "metadata": {},
   "source": [
    "Our data is of course heavily skewed. Maybe we should impute the median instead of the mean in our dataframe. "
   ]
  },
  {
   "cell_type": "markdown",
   "metadata": {},
   "source": [
    "# Impute median to our age_list\n",
    "We have to adjust our function age_rect to impute the median of our values. Let's first calculate the median for both groups and then adjust our age_rect to impute the median value and return a new list. Remember, because we will shuffle our age list again, we will have another random shuffle with a unique order that we can use to shuffle our sequence of age items back to the original sequence. "
   ]
  },
  {
   "cell_type": "markdown",
   "metadata": {},
   "source": [
    "Let's copy paste and run some of the code I've wrote above. \n"
   ]
  },
  {
   "cell_type": "code",
   "execution_count": 32,
   "metadata": {},
   "outputs": [
    {
     "data": {
      "text/html": [
       "<div>\n",
       "<style scoped>\n",
       "    .dataframe tbody tr th:only-of-type {\n",
       "        vertical-align: middle;\n",
       "    }\n",
       "\n",
       "    .dataframe tbody tr th {\n",
       "        vertical-align: top;\n",
       "    }\n",
       "\n",
       "    .dataframe thead th {\n",
       "        text-align: right;\n",
       "    }\n",
       "</style>\n",
       "<table border=\"1\" class=\"dataframe\">\n",
       "  <thead>\n",
       "    <tr style=\"text-align: right;\">\n",
       "      <th></th>\n",
       "      <th>AgeFilter</th>\n",
       "      <th>PassengerId</th>\n",
       "      <th>Survived</th>\n",
       "      <th>Pclass</th>\n",
       "      <th>Name</th>\n",
       "      <th>Sex</th>\n",
       "      <th>Age</th>\n",
       "      <th>SibSp</th>\n",
       "      <th>Parch</th>\n",
       "      <th>Ticket</th>\n",
       "      <th>Fare</th>\n",
       "      <th>Cabin</th>\n",
       "      <th>Embarked</th>\n",
       "    </tr>\n",
       "  </thead>\n",
       "  <tbody>\n",
       "    <tr>\n",
       "      <th>0</th>\n",
       "      <td>A</td>\n",
       "      <td>1</td>\n",
       "      <td>0</td>\n",
       "      <td>3</td>\n",
       "      <td>Braund, Mr. Owen Harris</td>\n",
       "      <td>male</td>\n",
       "      <td>22.0</td>\n",
       "      <td>1</td>\n",
       "      <td>0</td>\n",
       "      <td>A/5 21171</td>\n",
       "      <td>7.2500</td>\n",
       "      <td>NaN</td>\n",
       "      <td>S</td>\n",
       "    </tr>\n",
       "    <tr>\n",
       "      <th>1</th>\n",
       "      <td>A</td>\n",
       "      <td>2</td>\n",
       "      <td>1</td>\n",
       "      <td>1</td>\n",
       "      <td>Cumings, Mrs. John Bradley (Florence Briggs Th...</td>\n",
       "      <td>female</td>\n",
       "      <td>38.0</td>\n",
       "      <td>1</td>\n",
       "      <td>0</td>\n",
       "      <td>PC 17599</td>\n",
       "      <td>71.2833</td>\n",
       "      <td>C85</td>\n",
       "      <td>C</td>\n",
       "    </tr>\n",
       "    <tr>\n",
       "      <th>2</th>\n",
       "      <td>A</td>\n",
       "      <td>3</td>\n",
       "      <td>1</td>\n",
       "      <td>3</td>\n",
       "      <td>Heikkinen, Miss. Laina</td>\n",
       "      <td>female</td>\n",
       "      <td>26.0</td>\n",
       "      <td>0</td>\n",
       "      <td>0</td>\n",
       "      <td>STON/O2. 3101282</td>\n",
       "      <td>7.9250</td>\n",
       "      <td>NaN</td>\n",
       "      <td>S</td>\n",
       "    </tr>\n",
       "    <tr>\n",
       "      <th>3</th>\n",
       "      <td>A</td>\n",
       "      <td>4</td>\n",
       "      <td>1</td>\n",
       "      <td>1</td>\n",
       "      <td>Futrelle, Mrs. Jacques Heath (Lily May Peel)</td>\n",
       "      <td>female</td>\n",
       "      <td>35.0</td>\n",
       "      <td>1</td>\n",
       "      <td>0</td>\n",
       "      <td>113803</td>\n",
       "      <td>53.1000</td>\n",
       "      <td>C123</td>\n",
       "      <td>S</td>\n",
       "    </tr>\n",
       "    <tr>\n",
       "      <th>4</th>\n",
       "      <td>A</td>\n",
       "      <td>5</td>\n",
       "      <td>0</td>\n",
       "      <td>3</td>\n",
       "      <td>Allen, Mr. William Henry</td>\n",
       "      <td>male</td>\n",
       "      <td>35.0</td>\n",
       "      <td>0</td>\n",
       "      <td>0</td>\n",
       "      <td>373450</td>\n",
       "      <td>8.0500</td>\n",
       "      <td>NaN</td>\n",
       "      <td>S</td>\n",
       "    </tr>\n",
       "  </tbody>\n",
       "</table>\n",
       "</div>"
      ],
      "text/plain": [
       "  AgeFilter  PassengerId  Survived  Pclass  \\\n",
       "0         A            1         0       3   \n",
       "1         A            2         1       1   \n",
       "2         A            3         1       3   \n",
       "3         A            4         1       1   \n",
       "4         A            5         0       3   \n",
       "\n",
       "                                                Name     Sex   Age  SibSp  \\\n",
       "0                            Braund, Mr. Owen Harris    male  22.0      1   \n",
       "1  Cumings, Mrs. John Bradley (Florence Briggs Th...  female  38.0      1   \n",
       "2                             Heikkinen, Miss. Laina  female  26.0      0   \n",
       "3       Futrelle, Mrs. Jacques Heath (Lily May Peel)  female  35.0      1   \n",
       "4                           Allen, Mr. William Henry    male  35.0      0   \n",
       "\n",
       "   Parch            Ticket     Fare Cabin Embarked  \n",
       "0      0         A/5 21171   7.2500   NaN        S  \n",
       "1      0          PC 17599  71.2833   C85        C  \n",
       "2      0  STON/O2. 3101282   7.9250   NaN        S  \n",
       "3      0            113803  53.1000  C123        S  \n",
       "4      0            373450   8.0500   NaN        S  "
      ]
     },
     "execution_count": 32,
     "metadata": {},
     "output_type": "execute_result"
    }
   ],
   "source": [
    "TRAIN = pd.read_csv('train.csv')\n",
    "AgeFilter = []\n",
    "for i in TRAIN['Age']:\n",
    "    if i <= 18:\n",
    "        AgeFilter.append('C')\n",
    "    else:\n",
    "        AgeFilter.append('A')\n",
    "        \n",
    "indexx = 0\n",
    "TRAIN.insert(loc=indexx, column='AgeFilter', value=AgeFilter)\n",
    "TRAIN.head()"
   ]
  },
  {
   "cell_type": "code",
   "execution_count": 33,
   "metadata": {},
   "outputs": [
    {
     "name": "stdout",
     "output_type": "stream",
     "text": [
      "The median of age of A, Adults, =  33.58\n",
      "The median of age of C, Children, =  9.04\n"
     ]
    }
   ],
   "source": [
    "#Append all age values according to category to lists\n",
    "a_m_list= []\n",
    "c_m_list=[]\n",
    "nan_1_list = []\n",
    "for i in TRAIN['Age']:\n",
    "    if i >= 18.0:\n",
    "        a_m_list.append(i) \n",
    "    elif 0.1 < i < 18.0:\n",
    "        c_m_list.append(i)\n",
    "    else:\n",
    "        nan_1_list.append(i)\n",
    "\n",
    "#Use statistics module to calculate the median \n",
    "med_a = statistics.median(a_m_list)\n",
    "med_c = statistics.median(c_m_list)\n",
    "\n",
    "#Print averages of C and A class\n",
    "print ('The median of age of A, Adults, = ',avg_a)\n",
    "print ('The median of age of C, Children, = ',avg_c)\n"
   ]
  },
  {
   "cell_type": "code",
   "execution_count": 34,
   "metadata": {},
   "outputs": [
    {
     "name": "stdout",
     "output_type": "stream",
     "text": [
      "['22.0', '38.0', '26.0', '35.0', '35.0', 'nan', '54.0', '2.0', '27.0', '14.0']\n"
     ]
    }
   ],
   "source": [
    "##Change every nan-value first to string\n",
    "#Create two lists to convert all floats to str\n",
    "m_agelist = list(TRAIN['Age'])\n",
    "jsl = []\n",
    "\n",
    "#Iterate over list\n",
    "for i in m_agelist:\n",
    "    #Change i to string\n",
    "    i = str(i)\n",
    "    #Append i to list\n",
    "    jsl.append(i)\n",
    "#Change agelist to list of strings\n",
    "agelist = jsl\n",
    "\n",
    "print (agelist[:10])\n",
    "\n"
   ]
  },
  {
   "cell_type": "code",
   "execution_count": 35,
   "metadata": {},
   "outputs": [],
   "source": [
    "#Convert median to decimals, round them to two integers behind decimal and convert average item to string\n",
    "med_a =  decimal.Decimal(med_a)\n",
    "med_a = round(med_a,2)\n",
    "med_a = str(med_a)\n",
    "\n",
    "med_c =  decimal.Decimal(med_c)\n",
    "med_c = round(med_c,2)\n",
    "med_c = str(med_c)"
   ]
  },
  {
   "cell_type": "code",
   "execution_count": 36,
   "metadata": {},
   "outputs": [
    {
     "name": "stdout",
     "output_type": "stream",
     "text": [
      "['2.0', '40.0', '50.0', '2.0', 'nan', '36.0', '28.0', '54.0', '39.0', '30.0', '0.67', '62.0', '39.0', '27.0', '8.0', '34.0', '33.0', '22.0', '9.0', '40.0']\n",
      "[824, 161, 259, 340, 235, 344, 83, 249, 835, 178, 755, 829, 811, 717, 549, 461, 412, 320, 182, 661, 95, 813, 740, 409, 861, 31, 313, 576, 38, 523, 74, 700, 223, 195, 26, 171, 837, 141, 311, 559, 591, 307, 275, 650, 103, 508, 798, 638, 67, 627, 228, 429, 197, 351, 327, 232, 5, 592, 467, 300, 506, 210, 431, 303, 728, 355, 748, 612, 130, 364, 804, 437, 675, 507, 516, 276, 647, 715, 390, 205, 524, 348, 770, 572, 407, 535, 187, 231, 383, 472, 697, 500, 449, 254, 663, 743, 477, 283, 641, 600, 699, 557, 229, 233, 323, 221, 104, 754, 363, 555, 692, 365, 204, 413, 882, 761, 211, 109, 887, 871, 666, 428, 582, 421, 325, 777, 19, 827, 625, 23, 838, 105, 328, 634, 693, 828, 588, 540, 479, 160, 881, 101, 117, 662, 40, 339, 136, 802, 633, 295, 884, 408, 91, 125, 859, 845, 289, 314, 749, 869, 685, 368, 222, 174, 238, 667, 56, 862, 380, 395, 750, 626, 587, 417, 457, 36, 41, 51, 603, 24, 280, 264, 279, 855, 227, 151, 184, 486, 846, 119, 186, 6, 580, 189, 193, 218, 173, 411, 546, 801, 655, 256, 677, 530, 878, 643, 473, 168, 703, 4, 399, 352, 14, 454, 567, 163, 388, 274, 875, 709, 87, 284, 372, 294, 92, 545, 63, 704, 271, 179, 433, 690, 84, 213, 37, 220, 183, 127, 81, 236, 157, 66, 601, 664, 142, 620, 166, 652, 860, 246, 785, 397, 760, 499, 247, 72, 721, 170, 800, 57, 834, 35, 542, 510, 538, 21, 266, 866, 436, 586, 464, 562, 727, 59, 415, 552, 820, 639, 329, 621, 309, 330, 203, 86, 335, 169, 7, 825, 817, 488, 759, 278, 389, 710, 571, 432, 696, 230, 396, 840, 422, 152, 888, 877, 671, 826, 490, 234, 520, 558, 769, 707, 799, 94, 613, 556, 596, 790, 430, 252, 198, 830, 20, 386, 326, 248, 46, 849, 732, 533, 482, 858, 162, 200, 374, 28, 305, 712, 684, 730, 12, 132, 126, 746, 452, 338, 610, 736, 215, 465, 25, 753, 502, 857, 870, 373, 659, 65, 149, 513, 336, 734, 493, 779, 701, 241, 585, 481, 656, 803, 781, 111, 579, 672, 577, 18, 788, 836, 332, 569, 498, 509, 76, 265, 581, 237, 771, 768, 153, 354, 515, 469, 681, 466, 876, 807, 766, 494, 391, 82, 850, 865, 471, 55, 209, 544, 722, 782, 719, 691, 874, 856, 318, 190, 15, 660, 637, 619, 114, 202, 90, 496, 298, 787, 345, 155, 795, 609, 158, 250, 889, 260, 269, 85, 668, 573, 823, 150, 541, 724, 185, 636, 224, 118, 606, 695, 188, 435, 116, 261, 880, 683, 69, 816, 123, 423, 844, 476, 752, 272, 324, 52, 13, 578, 341, 316, 747, 448, 349, 492, 529, 102, 331, 110, 526, 359, 80, 702, 2, 9, 622, 73, 346, 47, 648, 713, 112, 342, 883, 217, 226, 797, 400, 780, 240, 635, 646, 593, 70, 277, 120, 649, 818, 776, 293, 297, 1, 175, 290, 725, 106, 194, 551, 872, 78, 98, 536, 255, 334, 537, 42, 462, 570, 133, 61, 720, 665, 495, 624, 688, 0, 418, 539, 382, 731, 444, 447, 139, 630, 401, 196, 814, 199, 64, 262, 393, 145, 645, 239, 164, 854, 49, 60, 285, 53, 611, 159, 216, 50, 532, 402, 583, 156, 128, 706, 518, 416, 244, 756, 43, 765, 360, 868, 455, 564, 608, 745, 631, 398, 847, 607, 377, 778, 296, 561, 651, 384, 192, 121, 301, 44, 566, 206, 842, 548, 445, 810, 519, 212, 129, 113, 741, 201, 362, 176, 308, 369, 783, 191, 394, 62, 604, 705, 806, 763, 618, 560, 597, 180, 791, 410, 440, 841, 459, 208, 517, 165, 793, 680, 487, 886, 167, 288, 310, 378, 58, 358, 714, 367, 629, 299, 207, 11, 773, 617, 438, 425, 774, 39, 219, 501, 357, 514, 711, 30, 253, 453, 450, 658, 614, 528, 762, 381, 554, 796, 79, 628, 333, 312, 863, 375, 522, 669, 867, 115, 356, 819, 602, 108, 708, 414, 148, 347, 242, 451, 3, 154, 100, 812, 10, 673, 214, 792, 694, 75, 245, 321, 716, 371, 590, 387, 853, 758, 654, 343, 511, 605, 143, 595, 225, 599, 832, 848, 22, 784, 17, 286, 281, 735, 879, 676, 282, 88, 34, 873, 404, 424, 623, 679, 458, 852, 144, 640, 491, 366, 426, 306, 135, 122, 134, 568, 77, 16, 483, 446, 379, 138, 505, 589, 678, 821, 642, 89, 789, 550, 794, 146, 718, 744, 304, 181, 726, 8, 543, 822, 420, 670, 172, 441, 243, 738, 337, 434, 485, 786, 406, 512, 361, 674, 403, 534, 574, 93, 99, 385, 851, 764, 563, 29, 292, 392, 319, 475, 470, 147, 419, 594, 809, 48, 757, 32, 527, 657, 442, 302, 68, 547, 270, 686, 370, 177, 616, 350, 733, 258, 257, 484, 27, 553, 723, 322, 460, 598, 503, 729, 405, 45, 489, 831, 698, 839, 739, 97, 885, 864, 575, 531, 107, 689, 124, 96, 251, 653, 775, 742, 268, 478, 521, 751, 805, 497, 584, 427, 468, 33, 767, 682, 131, 456, 772, 565, 137, 632, 287, 474, 843, 71, 140, 439, 443, 273, 833, 890, 525, 615, 376, 291, 54, 808, 815, 267, 687, 315, 317, 504, 353, 263, 463, 480, 644, 737]\n"
     ]
    }
   ],
   "source": [
    "#Shuffle age list and assign order \n",
    "shuffled_agelist, order_agelist = shuffle_forward(agelist)\n",
    "\n",
    "#Print shuffled age list and order\n",
    "print (shuffled_agelist[:20])\n",
    "print (order_agelist)"
   ]
  },
  {
   "cell_type": "code",
   "execution_count": 37,
   "metadata": {},
   "outputs": [
    {
     "name": "stdout",
     "output_type": "stream",
     "text": [
      "['2.0', '40.0', '50.0', '2.0', '9.04', '36.0']\n",
      "<class 'numpy.str_'>\n",
      "First 10 elements of our shuffled rectified age list : ['2.0', '40.0', '50.0', '2.0', '9.04', '36.0', '28.0', '54.0', '39.0', '30.0']\n"
     ]
    }
   ],
   "source": [
    "rect_shuff_agelist = age_rect(shuffled_agelist)\n",
    "print ('First 10 elements of our shuffled rectified age list :', (rect_shuff_agelist[:10]))"
   ]
  },
  {
   "cell_type": "code",
   "execution_count": 38,
   "metadata": {},
   "outputs": [
    {
     "name": "stdout",
     "output_type": "stream",
     "text": [
      "The first 6 elements of our age list:          ['22.0', '38.0', '26.0', '35.0', '35.0', 'nan']\n",
      "The first 6 elements of our imputed age list:  ['22.0', '38.0', '26.0', '35.0', '35.0', '9.04']\n"
     ]
    }
   ],
   "source": [
    "new_age_list = shuffle_backward(rect_shuff_agelist, order_agelist)\n",
    "\n",
    "print ('The first 6 elements of our age list:         ', (agelist[:6]))\n",
    "print ('The first 6 elements of our imputed age list: ', new_age_list[:6])\n"
   ]
  },
  {
   "cell_type": "code",
   "execution_count": 39,
   "metadata": {},
   "outputs": [
    {
     "name": "stdout",
     "output_type": "stream",
     "text": [
      "These are the first 6 elements of our float new_age_list:  [22.0, 38.0, 26.0, 35.0, 35.0, 9.04]\n",
      "These are the first 6 elements class descriptions of our float new_age_list :  <class 'float'> <class 'float'> <class 'float'>\n"
     ]
    }
   ],
   "source": [
    "age_list_to_float = [float(i) for i in new_age_list]\n",
    "\n",
    "print ('These are the first 6 elements of our float new_age_list: ', age_list_to_float[:6])\n",
    "print ('These are the first 6 elements class descriptions of our float new_age_list : ', type(age_list_to_float[1]),\n",
    "                                                                                             type(age_list_to_float[2]),\n",
    "                                                                                                 type(age_list_to_float[3]))\n"
   ]
  },
  {
   "cell_type": "markdown",
   "metadata": {},
   "source": [
    "# Median updated in our dataframe\n",
    "Let's insert our new median imputed age list into our dataframe!"
   ]
  },
  {
   "cell_type": "code",
   "execution_count": 40,
   "metadata": {},
   "outputs": [
    {
     "data": {
      "image/png": "[encoded data removed]",
      "text/plain": [
       "<Figure size 432x288 with 1 Axes>"
      ]
     },
     "metadata": {},
     "output_type": "display_data"
    },
    {
     "name": "stdout",
     "output_type": "stream",
     "text": [
      "Stacked counts of rectified ages with density plot line\n"
     ]
    }
   ],
   "source": [
    "# Barchart Class occurences \n",
    "fig, ax = plt.subplots()\n",
    "ax = TRAIN[\"Age\"].hist(bins=60, density=True,\n",
    "                       stacked=True,\n",
    "                       color='forestgreen', \n",
    "                       alpha=0.8)\n",
    "TRAIN[\"Age\"].plot(kind='density', \n",
    "                  color='teal')\n",
    "ax.set(xlabel='Age')\n",
    "plt.xlim(-10,85)\n",
    "plt.show()\n",
    "\n",
    "print ('Stacked counts of rectified ages with density plot line')"
   ]
  },
  {
   "cell_type": "markdown",
   "metadata": {},
   "source": [
    "Our distribution is still skewed to the right (higher occurence of survival for 20-30 age range). Let's see if class has any influence on this distribution. Let's create a boxplot for every class and see if for every type of class the variances of occurences of survival on age. We also still see a distribution below ages < 18. Let's see if we can use our variable AgeFilter that we created and appended to our Dataframe, to how that affects survival rates."
   ]
  },
  {
   "cell_type": "code",
   "execution_count": 41,
   "metadata": {},
   "outputs": [
    {
     "data": {
      "text/plain": [
       "<matplotlib.axes._subplots.AxesSubplot at 0x108676dd8>"
      ]
     },
     "execution_count": 41,
     "metadata": {},
     "output_type": "execute_result"
    },
    {
     "data": {
      "image/png": "[encoded data removed]",
      "text/plain": [
       "<Figure size 432x288 with 1 Axes>"
      ]
     },
     "metadata": {},
     "output_type": "display_data"
    }
   ],
   "source": [
    "sns.boxplot(x=\"AgeFilter\", y=\"Age\",\n",
    "                hue=\"Survived\",\n",
    "                data=TRAIN)\n"
   ]
  },
  {
   "cell_type": "markdown",
   "metadata": {},
   "source": [
    "On face value being a child does significantly reduces nor increases your survival rate, compared to being an adult. We can infer that just like we did before, from the whiskers. Let's see how class sets differences in survival rate for all ages, and than see how all these variables relate to each other."
   ]
  },
  {
   "cell_type": "code",
   "execution_count": 42,
   "metadata": {},
   "outputs": [
    {
     "data": {
      "text/plain": [
       "<matplotlib.axes._subplots.AxesSubplot at 0x1a19e1fa58>"
      ]
     },
     "execution_count": 42,
     "metadata": {},
     "output_type": "execute_result"
    },
    {
     "data": {
      "image/png": "[encoded data removed]",
      "text/plain": [
       "<Figure size 432x288 with 1 Axes>"
      ]
     },
     "metadata": {},
     "output_type": "display_data"
    }
   ],
   "source": [
    "sns.boxplot(x=\"Pclass\", y=\"Age\",\n",
    "                hue=\"Survived\",\n",
    "                data=TRAIN)\n"
   ]
  },
  {
   "cell_type": "markdown",
   "metadata": {},
   "source": [
    "Occurences of survivors for class one on face value are evenly distributed, just as all the other classes. We can judge that by comparing survival occurences within each class. We can see that the whiskers are within each ranges. So, not deterministic difference However, interestingly we see many outliers in our imputed dataset for class 2 and 3. \n",
    "\n",
    "In class 3 a higher occurence of non-surival for ages > 55 seems to occur more often than in class 2 and 1. Let's see how survival rates are for males and females for different classes."
   ]
  },
  {
   "cell_type": "code",
   "execution_count": 43,
   "metadata": {},
   "outputs": [
    {
     "data": {
      "image/png": "[encoded data removed]",
      "text/plain": [
       "<Figure size 768.425x360 with 2 Axes>"
      ]
     },
     "metadata": {},
     "output_type": "display_data"
    }
   ],
   "source": [
    "f = sns.catplot(x=\"Pclass\", y=\"Age\",\n",
    "                hue=\"Survived\",\n",
    "                col=\"Sex\",\n",
    "                data=TRAIN,\n",
    "                kind=\"boxen\");\n"
   ]
  },
  {
   "cell_type": "markdown",
   "metadata": {},
   "source": [
    "This effect seems to be mediated by being a male or female. Over all the age averages of males dying is greater in 1st class and 2nd class, indicating older males died more than younger females in the of the same class. Furthermore, being female in the 3rd class lowers the average chance of surviving than being a male in the 3rd class. You can see that more males with age > 50 died in the 3rd class than females in the same class.\n",
    "\n"
   ]
  },
  {
   "cell_type": "code",
   "execution_count": 44,
   "metadata": {},
   "outputs": [
    {
     "data": {
      "image/png": "[encoded data removed]",
      "text/plain": [
       "<Figure size 768.425x360 with 2 Axes>"
      ]
     },
     "metadata": {},
     "output_type": "display_data"
    }
   ],
   "source": [
    "f = sns.catplot(x=\"AgeFilter\", y=\"Age\",\n",
    "                hue=\"Survived\",\n",
    "                col=\"Sex\",\n",
    "                data=TRAIN,\n",
    "                kind=\"boxen\");"
   ]
  },
  {
   "cell_type": "markdown",
   "metadata": {},
   "source": [
    "As we might expect, the whiskers of our boxplots do no lie in each others range, except in the same category. Indicating different age groups, but no big differences between males and females on surviving when controlling for the AgeFilter. "
   ]
  },
  {
   "cell_type": "markdown",
   "metadata": {},
   "source": [
    "Let's check our survival rates for varying ages of survivors and non-survivors at different embarkations for males, and females."
   ]
  },
  {
   "cell_type": "code",
   "execution_count": 45,
   "metadata": {},
   "outputs": [
    {
     "data": {
      "image/png": "[encoded data removed]",
      "text/plain": [
       "<Figure size 768.425x360 with 2 Axes>"
      ]
     },
     "metadata": {},
     "output_type": "display_data"
    }
   ],
   "source": [
    "z = sns.catplot(x=\"Embarked\", y=\"Age\",\n",
    "                hue=\"Survived\",\n",
    "                col=\"Sex\",\n",
    "                data=TRAIN,\n",
    "                kind=\"boxen\");\n",
    "\n",
    "#ax = sns.stripplot(x=\"Embarked\", y=\"Age\", hue='Survived', data=TRAIN,\n",
    "##                    size=2, jitter=True, dodge=True, color=\"grey\")\n"
   ]
  },
  {
   "cell_type": "markdown",
   "metadata": {},
   "source": [
    "We can clearly see a difference between the survival rate of males and females embarking the Titanic ship from Queenstown and those embarking from Southend and C. It looks like more men died that embarked the ship from Queenstown. Let's find our hidden variable! First, let's look at the distribution of survival rates between males and females."
   ]
  },
  {
   "cell_type": "code",
   "execution_count": 46,
   "metadata": {},
   "outputs": [
    {
     "data": {
      "image/png": "[encoded data removed]",
      "text/plain": [
       "<Figure size 432x288 with 1 Axes>"
      ]
     },
     "metadata": {},
     "output_type": "display_data"
    }
   ],
   "source": [
    "ax = sns.boxenplot(x=\"Survived\", y=\"Age\", hue='Sex', data=TRAIN)\n",
    "ax = sns.stripplot(x=\"Survived\", y=\"Age\", hue='Sex', data=TRAIN,\n",
    "                    size=3, jitter=True, dodge=True, color=\"grey\")"
   ]
  },
  {
   "cell_type": "markdown",
   "metadata": {},
   "source": [
    "The above figure represents the offset of males versus females on survival rates. We don't see big differences, but we know almost no females died embarking in Queenstown as compared to males embarking in the same town. Let's create a catplot of 3 box plots determining the survival rate of person's within classes departing from 3 embarkations. "
   ]
  },
  {
   "cell_type": "code",
   "execution_count": 47,
   "metadata": {},
   "outputs": [
    {
     "data": {
      "image/png": "[encoded data removed]",
      "text/plain": [
       "<Figure size 650.525x288 with 3 Axes>"
      ]
     },
     "metadata": {},
     "output_type": "display_data"
    }
   ],
   "source": [
    "o = sns.catplot(x=\"Survived\", y=\"Age\",\n",
    "                hue='Pclass', col= 'Embarked',\n",
    "                data=TRAIN,\n",
    "                 kind=\"boxen\",\n",
    "                height=4, aspect=.7);\n",
    "\n"
   ]
  },
  {
   "cell_type": "markdown",
   "metadata": {},
   "source": [
    "We can see that the greatest age variance in the survival rate of classes embarking from different towns is highest in embarkation from Southend. This means that class S probably isn't significantly explaining variance in survival rates between classes. This can be explained by that all ages for persons in S are not different on class for survival rate. \n",
    "\n",
    "Survival rates for persons departing from C seem substantially different between classes. For instance, no persons embarking at C with age > 30 in class 2 and class 3 survived. However, maybe this effect is also mediated through our age filter. Let's add a grid with plots with rows sex, and columns embarkation. For every row,index plot boxplots for age variances on survival rates of males and females embarking from S,C or Q are shown, and index the boxplots on class. "
   ]
  },
  {
   "cell_type": "code",
   "execution_count": 48,
   "metadata": {},
   "outputs": [
    {
     "data": {
      "image/png": "[encoded data removed]",
      "text/plain": [
       "<Figure size 650.525x576 with 6 Axes>"
      ]
     },
     "metadata": {},
     "output_type": "display_data"
    }
   ],
   "source": [
    "w = sns.catplot(x=\"Survived\", y=\"Age\",\n",
    "                hue='Pclass', col= 'Embarked',\n",
    "                row='Sex',\n",
    "                data=TRAIN,\n",
    "                 kind=\"boxen\", \n",
    "                height=4, aspect=.7);"
   ]
  },
  {
   "cell_type": "markdown",
   "metadata": {},
   "source": [
    "In summation:\n",
    "\n",
    "First of all, I haven't listed everything. We can however sum our observations up and then, try to predict with our TEST data if a person with set weights would survive.\n",
    "\n",
    "General:\n",
    "1. Persons age variances on survival departing from S where highest.\n",
    "\n",
    "Class:\n",
    "1. No males age > 3 from class 2 survived embarking from C.\n",
    "2. No males died in class 1 embarking from C age < 20. \n",
    "3. Survival occurences for class 1 females age < 20 were lower than for males age < 20 embarking from S. (No heroes in class 1)\n",
    "\n",
    "Sex:\n",
    "\n",
    "1. Males have lower occurences of surviving than females when embarking from C and S.\n",
    "2. Males have highest occurences of surviving when embarking from Q.\n",
    "3. No 1st and 2nd class females died embarking from Q.\n",
    "4. All 1st and 2nd class males died embarking from Q. (Is this where our heroes are?) \n",
    "5. But only a handfull of class 1 and class 2 females embarking from Q survived. \n",
    "\n",
    "There are numerous ways of interpreting the data, more than I was willing to write here without diverting too much. But, what if we want to predict survival rate by those same factors? To do that we have to create a simple neural net that learns from our dataset to predict survival rate. Let's also apply an association rule to predict, and compare the neural net with our association rule algorithm.\n"
   ]
  },
  {
   "cell_type": "code",
   "execution_count": 49,
   "metadata": {},
   "outputs": [
    {
     "data": {
      "text/html": [
       "<div>\n",
       "<style scoped>\n",
       "    .dataframe tbody tr th:only-of-type {\n",
       "        vertical-align: middle;\n",
       "    }\n",
       "\n",
       "    .dataframe tbody tr th {\n",
       "        vertical-align: top;\n",
       "    }\n",
       "\n",
       "    .dataframe thead th {\n",
       "        text-align: right;\n",
       "    }\n",
       "</style>\n",
       "<table border=\"1\" class=\"dataframe\">\n",
       "  <thead>\n",
       "    <tr style=\"text-align: right;\">\n",
       "      <th></th>\n",
       "      <th>AgeFilter</th>\n",
       "      <th>PassengerId</th>\n",
       "      <th>Survived</th>\n",
       "      <th>Pclass</th>\n",
       "      <th>Name</th>\n",
       "      <th>Sex</th>\n",
       "      <th>Age</th>\n",
       "      <th>SibSp</th>\n",
       "      <th>Parch</th>\n",
       "      <th>Ticket</th>\n",
       "      <th>Fare</th>\n",
       "      <th>Cabin</th>\n",
       "      <th>Embarked</th>\n",
       "    </tr>\n",
       "  </thead>\n",
       "  <tbody>\n",
       "    <tr>\n",
       "      <th>0</th>\n",
       "      <td>A</td>\n",
       "      <td>1</td>\n",
       "      <td>0</td>\n",
       "      <td>3</td>\n",
       "      <td>Braund, Mr. Owen Harris</td>\n",
       "      <td>male</td>\n",
       "      <td>22.0</td>\n",
       "      <td>1</td>\n",
       "      <td>0</td>\n",
       "      <td>A/5 21171</td>\n",
       "      <td>7.2500</td>\n",
       "      <td>NaN</td>\n",
       "      <td>S</td>\n",
       "    </tr>\n",
       "    <tr>\n",
       "      <th>1</th>\n",
       "      <td>A</td>\n",
       "      <td>2</td>\n",
       "      <td>1</td>\n",
       "      <td>1</td>\n",
       "      <td>Cumings, Mrs. John Bradley (Florence Briggs Th...</td>\n",
       "      <td>female</td>\n",
       "      <td>38.0</td>\n",
       "      <td>1</td>\n",
       "      <td>0</td>\n",
       "      <td>PC 17599</td>\n",
       "      <td>71.2833</td>\n",
       "      <td>C85</td>\n",
       "      <td>C</td>\n",
       "    </tr>\n",
       "    <tr>\n",
       "      <th>2</th>\n",
       "      <td>A</td>\n",
       "      <td>3</td>\n",
       "      <td>1</td>\n",
       "      <td>3</td>\n",
       "      <td>Heikkinen, Miss. Laina</td>\n",
       "      <td>female</td>\n",
       "      <td>26.0</td>\n",
       "      <td>0</td>\n",
       "      <td>0</td>\n",
       "      <td>STON/O2. 3101282</td>\n",
       "      <td>7.9250</td>\n",
       "      <td>NaN</td>\n",
       "      <td>S</td>\n",
       "    </tr>\n",
       "    <tr>\n",
       "      <th>3</th>\n",
       "      <td>A</td>\n",
       "      <td>4</td>\n",
       "      <td>1</td>\n",
       "      <td>1</td>\n",
       "      <td>Futrelle, Mrs. Jacques Heath (Lily May Peel)</td>\n",
       "      <td>female</td>\n",
       "      <td>35.0</td>\n",
       "      <td>1</td>\n",
       "      <td>0</td>\n",
       "      <td>113803</td>\n",
       "      <td>53.1000</td>\n",
       "      <td>C123</td>\n",
       "      <td>S</td>\n",
       "    </tr>\n",
       "    <tr>\n",
       "      <th>4</th>\n",
       "      <td>A</td>\n",
       "      <td>5</td>\n",
       "      <td>0</td>\n",
       "      <td>3</td>\n",
       "      <td>Allen, Mr. William Henry</td>\n",
       "      <td>male</td>\n",
       "      <td>35.0</td>\n",
       "      <td>0</td>\n",
       "      <td>0</td>\n",
       "      <td>373450</td>\n",
       "      <td>8.0500</td>\n",
       "      <td>NaN</td>\n",
       "      <td>S</td>\n",
       "    </tr>\n",
       "  </tbody>\n",
       "</table>\n",
       "</div>"
      ],
      "text/plain": [
       "  AgeFilter  PassengerId  Survived  Pclass  \\\n",
       "0         A            1         0       3   \n",
       "1         A            2         1       1   \n",
       "2         A            3         1       3   \n",
       "3         A            4         1       1   \n",
       "4         A            5         0       3   \n",
       "\n",
       "                                                Name     Sex   Age  SibSp  \\\n",
       "0                            Braund, Mr. Owen Harris    male  22.0      1   \n",
       "1  Cumings, Mrs. John Bradley (Florence Briggs Th...  female  38.0      1   \n",
       "2                             Heikkinen, Miss. Laina  female  26.0      0   \n",
       "3       Futrelle, Mrs. Jacques Heath (Lily May Peel)  female  35.0      1   \n",
       "4                           Allen, Mr. William Henry    male  35.0      0   \n",
       "\n",
       "   Parch            Ticket     Fare Cabin Embarked  \n",
       "0      0         A/5 21171   7.2500   NaN        S  \n",
       "1      0          PC 17599  71.2833   C85        C  \n",
       "2      0  STON/O2. 3101282   7.9250   NaN        S  \n",
       "3      0            113803  53.1000  C123        S  \n",
       "4      0            373450   8.0500   NaN        S  "
      ]
     },
     "execution_count": 49,
     "metadata": {},
     "output_type": "execute_result"
    }
   ],
   "source": [
    "TRAIN.head()"
   ]
  },
  {
   "cell_type": "code",
   "execution_count": 50,
   "metadata": {},
   "outputs": [
    {
     "data": {
      "text/plain": [
       "AgeFilter        0\n",
       "PassengerId      0\n",
       "Survived         0\n",
       "Pclass           0\n",
       "Name             0\n",
       "Sex              0\n",
       "Age            177\n",
       "SibSp            0\n",
       "Parch            0\n",
       "Ticket           0\n",
       "Fare             0\n",
       "Cabin          687\n",
       "Embarked         2\n",
       "dtype: int64"
      ]
     },
     "execution_count": 50,
     "metadata": {},
     "output_type": "execute_result"
    }
   ],
   "source": [
    "TRAIN.isnull().sum()"
   ]
  },
  {
   "cell_type": "markdown",
   "metadata": {},
   "source": [
    "As you can see Age has no missing values. Embarked has two, and thus must we replace it by any embarkation number.\n",
    "Let's quickly check our distribution. We will impute the two embarkations with highest occurences of persons. "
   ]
  },
  {
   "cell_type": "code",
   "execution_count": 51,
   "metadata": {},
   "outputs": [
    {
     "data": {
      "text/plain": [
       "<matplotlib.axes._subplots.AxesSubplot at 0x1a1b9cb860>"
      ]
     },
     "execution_count": 51,
     "metadata": {},
     "output_type": "execute_result"
    },
    {
     "data": {
      "image/png": "[encoded data removed]",
      "text/plain": [
       "<Figure size 432x288 with 1 Axes>"
      ]
     },
     "metadata": {},
     "output_type": "display_data"
    }
   ],
   "source": [
    "sns.countplot(TRAIN['Embarked'])"
   ]
  },
  {
   "cell_type": "markdown",
   "metadata": {},
   "source": [
    "Let's put an S and C in the two missing values. "
   ]
  },
  {
   "cell_type": "code",
   "execution_count": 52,
   "metadata": {},
   "outputs": [
    {
     "name": "stdout",
     "output_type": "stream",
     "text": [
      "['S', 'C', 'S', 'S', 'S', 'Q']\n",
      "<class 'str'>\n"
     ]
    },
    {
     "data": {
      "text/plain": [
       "['S', 'C', 'S', 'S', 'S', 'Q', 'S', 'S', 'S', 'C']"
      ]
     },
     "execution_count": 52,
     "metadata": {},
     "output_type": "execute_result"
    }
   ],
   "source": [
    "#Create list of Embarkation values\n",
    "embark_ = list(TRAIN['Embarked'])\n",
    "\n",
    "#Impute function to rectify embarkation values according to the countplot\n",
    "def embark_rect(klist):\n",
    "    #Create empty list and set count to 0\n",
    "    dlist = []\n",
    "    count = 0\n",
    "    #Iterate over the list\n",
    "    for i in klist:\n",
    "        #Filter i on 'nan', count < 1\n",
    "        if i == 'nan' and count <1: \n",
    "            #Append embarkation of C category children\n",
    "            dlist.append('C')\n",
    "            #Increment count \n",
    "            count += 1\n",
    "        #Filter if count => 1\n",
    "        elif i == 'nan' and count >= 1:\n",
    "                dlist.append('S')\n",
    "                count += 1\n",
    "        else:\n",
    "            #Append i if i is an age value\n",
    "            dlist.append(str(i))\n",
    "            \n",
    "        \n",
    "    #Returns list of values\n",
    "    print (dlist[:6])\n",
    "    print (type(dlist[6]))\n",
    "    \n",
    "    return dlist\n",
    "\n",
    "#Change nan-values to S and N and set as new list\n",
    "new_embark_list = embark_rect(embark_)\n",
    "new_embark_list[:10]"
   ]
  },
  {
   "cell_type": "code",
   "execution_count": 53,
   "metadata": {},
   "outputs": [],
   "source": [
    "#Impute our new_age_list variable from imputation on a re-shuffled index for bias reduction as a age column\n",
    "TRAIN['Age'] = new_age_list #Median Imputed\n",
    "TRAIN['Embarked'] = new_embark_list #S and C imputed\n"
   ]
  },
  {
   "cell_type": "code",
   "execution_count": 54,
   "metadata": {},
   "outputs": [],
   "source": [
    "#Independent Variables\n",
    "c_class_ = TRAIN.iloc[:,3:4].values #Class\n",
    "c_class_ = [float(i) for i in c_class_]            \n",
    "c_age_ = TRAIN.iloc[:, 6:7].values #Sex\n",
    "c_age_ = [float(i) for i in c_age_]\n",
    "c_sex_ = TRAIN.iloc[:,5:6]\n",
    "c_embarkation = TRAIN.iloc[:,12:13].values #Embarkation\n",
    "c_agefilter = TRAIN.iloc[:,0:1].values #Age filter: c or a"
   ]
  },
  {
   "cell_type": "code",
   "execution_count": 55,
   "metadata": {},
   "outputs": [],
   "source": [
    "#Encoding the categorical variables\n",
    "from sklearn.preprocessing import LabelEncoder\n",
    "#Initialise encoders\n",
    "ohe_sex = LabelEncoder()\n",
    "ohe_af = LabelEncoder()\n",
    "ohe_em = LabelEncoder()\n",
    "\n",
    "#Standardise age values"
   ]
  },
  {
   "cell_type": "code",
   "execution_count": 56,
   "metadata": {},
   "outputs": [
    {
     "name": "stderr",
     "output_type": "stream",
     "text": [
      "/anaconda3/envs/CodexA/lib/python3.6/site-packages/sklearn/preprocessing/label.py:235: DataConversionWarning: A column-vector y was passed when a 1d array was expected. Please change the shape of y to (n_samples, ), for example using ravel().\n",
      "  y = column_or_1d(y, warn=True)\n",
      "/anaconda3/envs/CodexA/lib/python3.6/site-packages/sklearn/preprocessing/label.py:235: DataConversionWarning: A column-vector y was passed when a 1d array was expected. Please change the shape of y to (n_samples, ), for example using ravel().\n",
      "  y = column_or_1d(y, warn=True)\n",
      "/anaconda3/envs/CodexA/lib/python3.6/site-packages/sklearn/preprocessing/label.py:235: DataConversionWarning: A column-vector y was passed when a 1d array was expected. Please change the shape of y to (n_samples, ), for example using ravel().\n",
      "  y = column_or_1d(y, warn=True)\n"
     ]
    }
   ],
   "source": [
    "#Fit and transform the categorical values with the OneHotEncoder\n",
    "c_sex_ = ohe_sex.fit_transform(c_sex_)\n",
    "c_agefilter = ohe_af.fit_transform(c_agefilter)\n",
    "c_embarkation = ohe_em.fit_transform(c_embarkation)\n"
   ]
  },
  {
   "cell_type": "code",
   "execution_count": 57,
   "metadata": {},
   "outputs": [],
   "source": [
    "#Reshape data for readability by the forward Neural Net\n",
    "c_agefilter = np.reshape(c_agefilter, (-1,1))\n",
    "c_embarkation = np.reshape(c_embarkation, (-1,1))\n",
    "#c_sex_ = np.reshape(c_sex_, (-1,1))\n",
    "#c_class_ = np.reshape(c_sex_, (-1,1))\n",
    "c_embarkation = np.reshape(c_sex_, (-1,1))\n",
    "#c_age_ = np.reshape(c_age_,(-1,1))"
   ]
  },
  {
   "cell_type": "code",
   "execution_count": 58,
   "metadata": {},
   "outputs": [
    {
     "name": "stdout",
     "output_type": "stream",
     "text": [
      "[3.0, 1.0, 3.0, 1.0, 3.0, 3.0, 1.0, 3.0, 3.0, 2.0]\n",
      "[22.0, 38.0, 26.0, 35.0, 35.0, 9.04, 54.0, 2.0, 27.0, 14.0]\n",
      "[1 0 0 0 1 1 1 1 0 0]\n",
      "[[1]\n",
      " [0]\n",
      " [0]\n",
      " [0]\n",
      " [1]]\n",
      "[[0]\n",
      " [0]\n",
      " [0]\n",
      " [0]\n",
      " [0]\n",
      " [0]\n",
      " [0]\n",
      " [1]\n",
      " [0]\n",
      " [1]]\n"
     ]
    }
   ],
   "source": [
    "print (c_class_[:10])\n",
    "print (c_age_[:10])\n",
    "print (c_sex_[:10])\n",
    "print (c_embarkation[:5])\n",
    "print (c_agefilter[:10])\n"
   ]
  },
  {
   "cell_type": "code",
   "execution_count": 65,
   "metadata": {},
   "outputs": [],
   "source": [
    "#New dataframe with variables for the neural net\n",
    "nn_df = pd.DataFrame()\n",
    "nn_df['Class'] = c_class_\n",
    "nn_df['Age'] = c_age_\n",
    "nn_df['Sex'] = c_sex_\n",
    "nn_df['Embarkation'] = c_embarkation\n",
    "nn_df['Agefilter'] = c_agefilter\n",
    "#nn_df['Survived'] = TRAIN['Survived']\n",
    "\n",
    "nn_df.head()\n",
    "#X = np.concatenate((c_class_, c_age_,  c_sex_, c_embarkation, c_agefilter))\n",
    "y = TRAIN.iloc[:,2:3].values #Survival yes/no\n",
    "#print (X[:10])\n",
    "#print (y[:10])\n",
    "\n"
   ]
  },
  {
   "cell_type": "code",
   "execution_count": 66,
   "metadata": {},
   "outputs": [
    {
     "data": {
      "text/html": [
       "<div>\n",
       "<style scoped>\n",
       "    .dataframe tbody tr th:only-of-type {\n",
       "        vertical-align: middle;\n",
       "    }\n",
       "\n",
       "    .dataframe tbody tr th {\n",
       "        vertical-align: top;\n",
       "    }\n",
       "\n",
       "    .dataframe thead th {\n",
       "        text-align: right;\n",
       "    }\n",
       "</style>\n",
       "<table border=\"1\" class=\"dataframe\">\n",
       "  <thead>\n",
       "    <tr style=\"text-align: right;\">\n",
       "      <th></th>\n",
       "      <th>Class</th>\n",
       "      <th>Age</th>\n",
       "      <th>Sex</th>\n",
       "      <th>Embarkation</th>\n",
       "      <th>Agefilter</th>\n",
       "    </tr>\n",
       "  </thead>\n",
       "  <tbody>\n",
       "    <tr>\n",
       "      <th>0</th>\n",
       "      <td>3.0</td>\n",
       "      <td>22.0</td>\n",
       "      <td>1</td>\n",
       "      <td>1</td>\n",
       "      <td>0</td>\n",
       "    </tr>\n",
       "    <tr>\n",
       "      <th>1</th>\n",
       "      <td>1.0</td>\n",
       "      <td>38.0</td>\n",
       "      <td>0</td>\n",
       "      <td>0</td>\n",
       "      <td>0</td>\n",
       "    </tr>\n",
       "    <tr>\n",
       "      <th>2</th>\n",
       "      <td>3.0</td>\n",
       "      <td>26.0</td>\n",
       "      <td>0</td>\n",
       "      <td>0</td>\n",
       "      <td>0</td>\n",
       "    </tr>\n",
       "    <tr>\n",
       "      <th>3</th>\n",
       "      <td>1.0</td>\n",
       "      <td>35.0</td>\n",
       "      <td>0</td>\n",
       "      <td>0</td>\n",
       "      <td>0</td>\n",
       "    </tr>\n",
       "    <tr>\n",
       "      <th>4</th>\n",
       "      <td>3.0</td>\n",
       "      <td>35.0</td>\n",
       "      <td>1</td>\n",
       "      <td>1</td>\n",
       "      <td>0</td>\n",
       "    </tr>\n",
       "  </tbody>\n",
       "</table>\n",
       "</div>"
      ],
      "text/plain": [
       "   Class   Age  Sex  Embarkation  Agefilter\n",
       "0    3.0  22.0    1            1          0\n",
       "1    1.0  38.0    0            0          0\n",
       "2    3.0  26.0    0            0          0\n",
       "3    1.0  35.0    0            0          0\n",
       "4    3.0  35.0    1            1          0"
      ]
     },
     "execution_count": 66,
     "metadata": {},
     "output_type": "execute_result"
    }
   ],
   "source": [
    "#Create numpy array for to set as X feature for prediction\n",
    "X = nn_df.iloc[:,:]\n",
    "X.head()"
   ]
  },
  {
   "cell_type": "code",
   "execution_count": 67,
   "metadata": {},
   "outputs": [
    {
     "name": "stderr",
     "output_type": "stream",
     "text": [
      "/anaconda3/envs/CodexA/lib/python3.6/site-packages/sklearn/preprocessing/data.py:617: DataConversionWarning: Data with input dtype int64, float64 were all converted to float64 by StandardScaler.\n",
      "  return self.partial_fit(X, y)\n",
      "/anaconda3/envs/CodexA/lib/python3.6/site-packages/sklearn/base.py:462: DataConversionWarning: Data with input dtype int64, float64 were all converted to float64 by StandardScaler.\n",
      "  return self.fit(X, **fit_params).transform(X)\n"
     ]
    },
    {
     "data": {
      "text/plain": [
       "array([[ 0.82737724, -0.54745109,  0.73769513,  0.73769513, -0.42993072],\n",
       "       [-1.56610693,  0.61949634, -1.35557354, -1.35557354, -0.42993072],\n",
       "       [ 0.82737724, -0.25571423, -1.35557354, -1.35557354, -0.42993072],\n",
       "       ...,\n",
       "       [ 0.82737724,  0.29712711, -1.35557354, -1.35557354, -0.42993072],\n",
       "       [-1.56610693, -0.25571423,  0.73769513,  0.73769513, -0.42993072],\n",
       "       [ 0.82737724,  0.18189105,  0.73769513,  0.73769513, -0.42993072]])"
      ]
     },
     "execution_count": 67,
     "metadata": {},
     "output_type": "execute_result"
    }
   ],
   "source": [
    "#Standardise all values\n",
    "from sklearn.preprocessing import StandardScaler\n",
    "sc = StandardScaler()\n",
    "X = sc.fit_transform(X)\n",
    "X"
   ]
  },
  {
   "cell_type": "code",
   "execution_count": 68,
   "metadata": {},
   "outputs": [],
   "source": [
    "#Create test/train set from data\n",
    "from sklearn.model_selection import train_test_split\n",
    "X_train, X_test, y_train, y_test = train_test_split(X,y, test_size = 0.25, random_state= 0)\n",
    "\n",
    "#Feature Scaling x_train and x_test (Z-scores) \n",
    "from sklearn.preprocessing import StandardScaler\n",
    "sc = StandardScaler()\n",
    "X_train = sc.fit_transform(X_train)\n",
    "X_test = sc.transform(X_test)\n"
   ]
  },
  {
   "cell_type": "code",
   "execution_count": 69,
   "metadata": {},
   "outputs": [
    {
     "data": {
      "text/plain": [
       "array([[ 0.83012938, -0.11983869,  0.72705166,  0.72705166, -0.42696708],\n",
       "       [ 0.83012938, -0.92323881, -1.37541808, -1.37541808,  2.34210096],\n",
       "       [ 0.83012938,  0.02623405,  0.72705166,  0.72705166, -0.42696708],\n",
       "       ...,\n",
       "       [ 0.83012938,  0.28770427,  0.72705166,  0.72705166, -0.42696708],\n",
       "       [ 0.83012938,  0.4644523 , -1.37541808, -1.37541808, -0.42696708],\n",
       "       [-0.36497068,  2.21732527,  0.72705166,  0.72705166, -0.42696708]])"
      ]
     },
     "execution_count": 69,
     "metadata": {},
     "output_type": "execute_result"
    }
   ],
   "source": [
    "X_train"
   ]
  },
  {
   "cell_type": "code",
   "execution_count": 70,
   "metadata": {},
   "outputs": [
    {
     "data": {
      "text/plain": [
       "{'whiskers': [<matplotlib.lines.Line2D at 0x1a1c317240>,\n",
       "  <matplotlib.lines.Line2D at 0x1a1c317710>,\n",
       "  <matplotlib.lines.Line2D at 0x1a1c3281d0>,\n",
       "  <matplotlib.lines.Line2D at 0x1a1c328630>,\n",
       "  <matplotlib.lines.Line2D at 0x1a1c3370f0>,\n",
       "  <matplotlib.lines.Line2D at 0x1a1c337550>,\n",
       "  <matplotlib.lines.Line2D at 0x1a1c33ef60>,\n",
       "  <matplotlib.lines.Line2D at 0x1a1c349400>,\n",
       "  <matplotlib.lines.Line2D at 0x1a1c351e80>,\n",
       "  <matplotlib.lines.Line2D at 0x1a1c358320>],\n",
       " 'caps': [<matplotlib.lines.Line2D at 0x1a1c317b70>,\n",
       "  <matplotlib.lines.Line2D at 0x1a1c317fd0>,\n",
       "  <matplotlib.lines.Line2D at 0x1a1c328a90>,\n",
       "  <matplotlib.lines.Line2D at 0x1a1c328ef0>,\n",
       "  <matplotlib.lines.Line2D at 0x1a1c3379b0>,\n",
       "  <matplotlib.lines.Line2D at 0x1a1c337e10>,\n",
       "  <matplotlib.lines.Line2D at 0x1a1c349860>,\n",
       "  <matplotlib.lines.Line2D at 0x1a1c349cc0>,\n",
       "  <matplotlib.lines.Line2D at 0x1a1c358780>,\n",
       "  <matplotlib.lines.Line2D at 0x1a1c358be0>],\n",
       " 'boxes': [<matplotlib.lines.Line2D at 0x1a1c3170b8>,\n",
       "  <matplotlib.lines.Line2D at 0x1a1c31fcf8>,\n",
       "  <matplotlib.lines.Line2D at 0x1a1c330c18>,\n",
       "  <matplotlib.lines.Line2D at 0x1a1c33eac8>,\n",
       "  <matplotlib.lines.Line2D at 0x1a1c3519e8>],\n",
       " 'medians': [<matplotlib.lines.Line2D at 0x1a1c31f470>,\n",
       "  <matplotlib.lines.Line2D at 0x1a1c330390>,\n",
       "  <matplotlib.lines.Line2D at 0x1a1c33e2b0>,\n",
       "  <matplotlib.lines.Line2D at 0x1a1c351160>,\n",
       "  <matplotlib.lines.Line2D at 0x1a1c360080>],\n",
       " 'fliers': [<matplotlib.lines.Line2D at 0x1a1c31f8d0>,\n",
       "  <matplotlib.lines.Line2D at 0x1a1c3307f0>,\n",
       "  <matplotlib.lines.Line2D at 0x1a1c33e6a0>,\n",
       "  <matplotlib.lines.Line2D at 0x1a1c3515c0>,\n",
       "  <matplotlib.lines.Line2D at 0x1a1c3604e0>],\n",
       " 'means': []}"
      ]
     },
     "execution_count": 70,
     "metadata": {},
     "output_type": "execute_result"
    },
    {
     "data": {
      "image/png": "[encoded data removed]",
      "text/plain": [
       "<Figure size 432x288 with 1 Axes>"
      ]
     },
     "metadata": {},
     "output_type": "display_data"
    }
   ],
   "source": [
    "plt.boxplot(X_train)"
   ]
  },
  {
   "cell_type": "markdown",
   "metadata": {},
   "source": []
  },
  {
   "cell_type": "code",
   "execution_count": 71,
   "metadata": {},
   "outputs": [
    {
     "data": {
      "text/plain": [
       "array([[ 0.83012938,  0.28770427,  0.72705166,  0.72705166, -0.42696708],\n",
       "       [ 0.83012938,  0.28770427,  0.72705166,  0.72705166, -0.42696708],\n",
       "       [ 0.83012938, -1.65360255,  0.72705166,  0.72705166,  2.34210096],\n",
       "       ...,\n",
       "       [ 0.83012938, -0.77716606,  0.72705166,  0.72705166, -0.42696708],\n",
       "       [-1.56007074, -0.63109331, -1.37541808, -1.37541808, -0.42696708],\n",
       "       [ 0.83012938, -1.87271167, -1.37541808, -1.37541808,  2.34210096]])"
      ]
     },
     "execution_count": 71,
     "metadata": {},
     "output_type": "execute_result"
    }
   ],
   "source": [
    "X_test"
   ]
  },
  {
   "cell_type": "code",
   "execution_count": 72,
   "metadata": {},
   "outputs": [
    {
     "name": "stderr",
     "output_type": "stream",
     "text": [
      "/anaconda3/envs/CodexA/lib/python3.6/site-packages/sklearn/linear_model/logistic.py:432: FutureWarning: Default solver will be changed to 'lbfgs' in 0.22. Specify a solver to silence this warning.\n",
      "  FutureWarning)\n",
      "/anaconda3/envs/CodexA/lib/python3.6/site-packages/sklearn/utils/validation.py:752: DataConversionWarning: A column-vector y was passed when a 1d array was expected. Please change the shape of y to (n_samples, ), for example using ravel().\n",
      "  y = column_or_1d(y, warn=True)\n"
     ]
    },
    {
     "data": {
      "text/plain": [
       "LogisticRegression(C=1.0, class_weight=None, dual=False, fit_intercept=True,\n",
       "          intercept_scaling=1, max_iter=100, multi_class='warn',\n",
       "          n_jobs=None, penalty='l2', random_state=0, solver='warn',\n",
       "          tol=0.0001, verbose=0, warm_start=False)"
      ]
     },
     "execution_count": 72,
     "metadata": {},
     "output_type": "execute_result"
    }
   ],
   "source": [
    "#Create the classifier\n",
    "from sklearn.linear_model import LogisticRegression\n",
    "classifier = LogisticRegression(random_state=0)\n",
    "classifier.fit(X_train,y_train) "
   ]
  },
  {
   "cell_type": "code",
   "execution_count": 73,
   "metadata": {},
   "outputs": [
    {
     "data": {
      "text/plain": [
       "array([0, 0, 0, 1, 1, 0, 1, 1, 1, 1, 0, 1, 0, 1, 1, 1, 0, 0, 0, 0, 0, 1,\n",
       "       0, 0, 1, 1, 0, 1, 1, 1, 0, 1, 0, 0, 0, 0, 0, 0, 0, 0, 0, 0, 0, 0,\n",
       "       1, 0, 0, 1, 0, 0, 1, 1, 1, 0, 0, 0, 0, 1, 0, 0, 0, 1, 1, 0, 1, 0,\n",
       "       1, 0, 1, 1, 1, 0, 0, 0, 0, 1, 1, 0, 0, 0, 0, 0, 1, 0, 0, 1, 1, 0,\n",
       "       1, 1, 0, 0, 0, 1, 1, 0, 1, 0, 0, 0, 0, 0, 0, 0, 1, 1, 1, 0, 0, 1,\n",
       "       0, 1, 0, 1, 0, 1, 1, 1, 0, 1, 0, 0, 0, 0, 0, 0, 0, 0, 0, 0, 1, 0,\n",
       "       0, 1, 0, 0, 0, 1, 0, 0, 0, 1, 0, 1, 1, 1, 0, 1, 1, 0, 0, 1, 1, 0,\n",
       "       1, 0, 0, 0, 1, 1, 0, 0, 1, 1, 0, 0, 0, 0, 0, 0, 0, 1, 0, 0, 1, 0,\n",
       "       1, 0, 0, 1, 0, 0, 0, 0, 0, 0, 1, 0, 0, 1, 1, 0, 1, 1, 0, 0, 0, 1,\n",
       "       0, 0, 0, 1, 0, 1, 0, 0, 1, 0, 1, 0, 0, 0, 0, 1, 0, 0, 0, 0, 0, 1,\n",
       "       0, 1, 1])"
      ]
     },
     "execution_count": 73,
     "metadata": {},
     "output_type": "execute_result"
    }
   ],
   "source": [
    "#Predict y based on x_test\n",
    "y_pred = classifier.predict(X_test)\n",
    "y_pred"
   ]
  },
  {
   "cell_type": "code",
   "execution_count": 74,
   "metadata": {},
   "outputs": [],
   "source": [
    "y_pred = np.reshape(y_pred,(-1, 1))"
   ]
  },
  {
   "cell_type": "code",
   "execution_count": 75,
   "metadata": {},
   "outputs": [
    {
     "data": {
      "text/plain": [
       "array([[0],\n",
       "       [0],\n",
       "       [0],\n",
       "       [1],\n",
       "       [1]])"
      ]
     },
     "execution_count": 75,
     "metadata": {},
     "output_type": "execute_result"
    }
   ],
   "source": [
    "y_pred[:5]"
   ]
  },
  {
   "cell_type": "code",
   "execution_count": 76,
   "metadata": {},
   "outputs": [
    {
     "name": "stdout",
     "output_type": "stream",
     "text": [
      "[[116  23]\n",
      " [ 23  61]]\n",
      "116+61/116+23+23+61 = 83% Sensitivity/Accuracy\n",
      "116/116+23 = 83% Positive Predictive Value\n",
      "61/61+23 = 61% Specificity\n"
     ]
    }
   ],
   "source": [
    "#Making the Confusion Matrix to evaluate the model\n",
    "from sklearn.metrics import confusion_matrix\n",
    "cm = confusion_matrix(y_test, y_pred)\n",
    "\n",
    "print (cm)\n",
    "print ('116+61/116+23+23+61 = 83% Sensitivity/Accuracy')\n",
    "print ('116/116+23 = 83% Positive Predictive Value') #The bigger the N the bigger the prevalence, the higher the chance to find data against the H0\n",
    "print ('61/61+23 = 61% Specificity') "
   ]
  },
  {
   "cell_type": "code",
   "execution_count": 77,
   "metadata": {},
   "outputs": [
    {
     "name": "stdout",
     "output_type": "stream",
     "text": [
      "              precision    recall  f1-score   support\n",
      "\n",
      "           0       0.83      0.83      0.83       139\n",
      "           1       0.73      0.73      0.73        84\n",
      "\n",
      "   micro avg       0.79      0.79      0.79       223\n",
      "   macro avg       0.78      0.78      0.78       223\n",
      "weighted avg       0.79      0.79      0.79       223\n",
      "\n",
      "The accuracy we calculated is the same.\n"
     ]
    }
   ],
   "source": [
    "#Let's print the classification report anyway\n",
    "from sklearn.metrics import classification_report\n",
    "print(classification_report(y_test, y_pred))\n",
    "\n",
    "print ('The accuracy we calculated is the same.')"
   ]
  },
  {
   "cell_type": "markdown",
   "metadata": {},
   "source": [
    "Lastly, let's plot a Receiver Operating Characteristic that displays the false positive rate against the true positive rate. A false positive observation means that the number of times the neural net classifies something as 'true', but falsely does so a number of times, is compared to the number of times it classifies something true which is true. On the X-axis the FP or False Positives, and on the y-axis the TP or True positives. You want the curve to bulge out to the left top corner so that, the area under the curve becomes larger, which translates to a better test accuracy. If you take the slope of tangent line at a given cutpoint on the line, you get the likelihood ratio(LR) for that value. Multiplying all those values gives you a tiny value, for which you can use the log-function in base 10. With the log-likelihood are able to built classification models (AIC) with n parameters in which you maximise regression power and minimise n. "
   ]
  },
  {
   "cell_type": "code",
   "execution_count": 78,
   "metadata": {},
   "outputs": [
    {
     "data": {
      "image/png": "[encoded data removed]",
      "text/plain": [
       "<Figure size 432x288 with 1 Axes>"
      ]
     },
     "metadata": {},
     "output_type": "display_data"
    }
   ],
   "source": [
    "#Create ROC Curve\n",
    "#Import libraries\n",
    "from sklearn.metrics import roc_auc_score\n",
    "from sklearn.metrics import roc_curve\n",
    "\n",
    "#Plot X_test vs y_test\n",
    "logistic_roc_auc = roc_auc_score(y_test, classifier.predict(X_test))\n",
    "#Get false positive rate, true positive rate and tresholds\n",
    "fpr, tpr, thresholds = roc_curve(y_test, classifier.predict_proba(X_test)[:,1])\n",
    "#Plot the figure\n",
    "plt.figure()\n",
    "#Plot the curve\n",
    "plt.plot(fpr, tpr, label='Logistic Regression (area = %0.2f)' % logistic_roc_auc)\n",
    "\n",
    "#Set axis\n",
    "#Plot line\n",
    "plt.plot([0, 1], [0, 1],'r--')\n",
    "#Set axis limits\n",
    "plt.xlim([0.0, 1.0])\n",
    "plt.ylim([0.0, 1.05])\n",
    "#Set x,y labels, title and legend\n",
    "plt.xlabel('False Positive Rate')\n",
    "plt.ylabel('True Positive Rate')\n",
    "plt.title('Receiver operating characteristic')\n",
    "plt.legend(loc=\"lower right\")\n",
    "plt.show()"
   ]
  },
  {
   "cell_type": "markdown",
   "metadata": {},
   "source": [
    "This notebook was intended to operate on different skillset in handling data. We showed that children were saved, men and women died coming from lower classes and embarking from Queenstown. To do this we had to create some functions to re-shuffle our indexed data and impute it with variables following a biniomial distribution. Then we created a neural net to train our classifier on. Logistic regression was used to predict chances of survival given class, age, an agefilter, sex and embarkation. Our instrument was 83% accurate on the training data. Let's predict on the TEST data , show the ROC curve and call it a day."
   ]
  },
  {
   "cell_type": "code",
   "execution_count": 85,
   "metadata": {},
   "outputs": [
    {
     "data": {
      "text/html": [
       "<div>\n",
       "<style scoped>\n",
       "    .dataframe tbody tr th:only-of-type {\n",
       "        vertical-align: middle;\n",
       "    }\n",
       "\n",
       "    .dataframe tbody tr th {\n",
       "        vertical-align: top;\n",
       "    }\n",
       "\n",
       "    .dataframe thead th {\n",
       "        text-align: right;\n",
       "    }\n",
       "</style>\n",
       "<table border=\"1\" class=\"dataframe\">\n",
       "  <thead>\n",
       "    <tr style=\"text-align: right;\">\n",
       "      <th></th>\n",
       "      <th>PassengerId</th>\n",
       "      <th>Pclass</th>\n",
       "      <th>Name</th>\n",
       "      <th>Sex</th>\n",
       "      <th>Age</th>\n",
       "      <th>SibSp</th>\n",
       "      <th>Parch</th>\n",
       "      <th>Ticket</th>\n",
       "      <th>Fare</th>\n",
       "      <th>Cabin</th>\n",
       "      <th>Embarked</th>\n",
       "    </tr>\n",
       "  </thead>\n",
       "  <tbody>\n",
       "    <tr>\n",
       "      <th>0</th>\n",
       "      <td>892</td>\n",
       "      <td>3</td>\n",
       "      <td>Kelly, Mr. James</td>\n",
       "      <td>male</td>\n",
       "      <td>34.5</td>\n",
       "      <td>0</td>\n",
       "      <td>0</td>\n",
       "      <td>330911</td>\n",
       "      <td>7.8292</td>\n",
       "      <td>NaN</td>\n",
       "      <td>Q</td>\n",
       "    </tr>\n",
       "    <tr>\n",
       "      <th>1</th>\n",
       "      <td>893</td>\n",
       "      <td>3</td>\n",
       "      <td>Wilkes, Mrs. James (Ellen Needs)</td>\n",
       "      <td>female</td>\n",
       "      <td>47.0</td>\n",
       "      <td>1</td>\n",
       "      <td>0</td>\n",
       "      <td>363272</td>\n",
       "      <td>7.0000</td>\n",
       "      <td>NaN</td>\n",
       "      <td>S</td>\n",
       "    </tr>\n",
       "    <tr>\n",
       "      <th>2</th>\n",
       "      <td>894</td>\n",
       "      <td>2</td>\n",
       "      <td>Myles, Mr. Thomas Francis</td>\n",
       "      <td>male</td>\n",
       "      <td>62.0</td>\n",
       "      <td>0</td>\n",
       "      <td>0</td>\n",
       "      <td>240276</td>\n",
       "      <td>9.6875</td>\n",
       "      <td>NaN</td>\n",
       "      <td>Q</td>\n",
       "    </tr>\n",
       "    <tr>\n",
       "      <th>3</th>\n",
       "      <td>895</td>\n",
       "      <td>3</td>\n",
       "      <td>Wirz, Mr. Albert</td>\n",
       "      <td>male</td>\n",
       "      <td>27.0</td>\n",
       "      <td>0</td>\n",
       "      <td>0</td>\n",
       "      <td>315154</td>\n",
       "      <td>8.6625</td>\n",
       "      <td>NaN</td>\n",
       "      <td>S</td>\n",
       "    </tr>\n",
       "    <tr>\n",
       "      <th>4</th>\n",
       "      <td>896</td>\n",
       "      <td>3</td>\n",
       "      <td>Hirvonen, Mrs. Alexander (Helga E Lindqvist)</td>\n",
       "      <td>female</td>\n",
       "      <td>22.0</td>\n",
       "      <td>1</td>\n",
       "      <td>1</td>\n",
       "      <td>3101298</td>\n",
       "      <td>12.2875</td>\n",
       "      <td>NaN</td>\n",
       "      <td>S</td>\n",
       "    </tr>\n",
       "  </tbody>\n",
       "</table>\n",
       "</div>"
      ],
      "text/plain": [
       "   PassengerId  Pclass                                          Name     Sex  \\\n",
       "0          892       3                              Kelly, Mr. James    male   \n",
       "1          893       3              Wilkes, Mrs. James (Ellen Needs)  female   \n",
       "2          894       2                     Myles, Mr. Thomas Francis    male   \n",
       "3          895       3                              Wirz, Mr. Albert    male   \n",
       "4          896       3  Hirvonen, Mrs. Alexander (Helga E Lindqvist)  female   \n",
       "\n",
       "    Age  SibSp  Parch   Ticket     Fare Cabin Embarked  \n",
       "0  34.5      0      0   330911   7.8292   NaN        Q  \n",
       "1  47.0      1      0   363272   7.0000   NaN        S  \n",
       "2  62.0      0      0   240276   9.6875   NaN        Q  \n",
       "3  27.0      0      0   315154   8.6625   NaN        S  \n",
       "4  22.0      1      1  3101298  12.2875   NaN        S  "
      ]
     },
     "execution_count": 85,
     "metadata": {},
     "output_type": "execute_result"
    }
   ],
   "source": [
    "TEST = pd.read_csv('test.csv')\n",
    "TEST.head()"
   ]
  },
  {
   "cell_type": "code",
   "execution_count": 86,
   "metadata": {},
   "outputs": [
    {
     "data": {
      "text/html": [
       "<div>\n",
       "<style scoped>\n",
       "    .dataframe tbody tr th:only-of-type {\n",
       "        vertical-align: middle;\n",
       "    }\n",
       "\n",
       "    .dataframe tbody tr th {\n",
       "        vertical-align: top;\n",
       "    }\n",
       "\n",
       "    .dataframe thead th {\n",
       "        text-align: right;\n",
       "    }\n",
       "</style>\n",
       "<table border=\"1\" class=\"dataframe\">\n",
       "  <thead>\n",
       "    <tr style=\"text-align: right;\">\n",
       "      <th></th>\n",
       "      <th>Pclass</th>\n",
       "      <th>Sex</th>\n",
       "      <th>Age</th>\n",
       "      <th>Parch</th>\n",
       "      <th>Ticket</th>\n",
       "      <th>Embarked</th>\n",
       "    </tr>\n",
       "  </thead>\n",
       "  <tbody>\n",
       "    <tr>\n",
       "      <th>0</th>\n",
       "      <td>3</td>\n",
       "      <td>male</td>\n",
       "      <td>34.5</td>\n",
       "      <td>0</td>\n",
       "      <td>330911</td>\n",
       "      <td>Q</td>\n",
       "    </tr>\n",
       "    <tr>\n",
       "      <th>1</th>\n",
       "      <td>3</td>\n",
       "      <td>female</td>\n",
       "      <td>47.0</td>\n",
       "      <td>0</td>\n",
       "      <td>363272</td>\n",
       "      <td>S</td>\n",
       "    </tr>\n",
       "    <tr>\n",
       "      <th>2</th>\n",
       "      <td>2</td>\n",
       "      <td>male</td>\n",
       "      <td>62.0</td>\n",
       "      <td>0</td>\n",
       "      <td>240276</td>\n",
       "      <td>Q</td>\n",
       "    </tr>\n",
       "    <tr>\n",
       "      <th>3</th>\n",
       "      <td>3</td>\n",
       "      <td>male</td>\n",
       "      <td>27.0</td>\n",
       "      <td>0</td>\n",
       "      <td>315154</td>\n",
       "      <td>S</td>\n",
       "    </tr>\n",
       "    <tr>\n",
       "      <th>4</th>\n",
       "      <td>3</td>\n",
       "      <td>female</td>\n",
       "      <td>22.0</td>\n",
       "      <td>1</td>\n",
       "      <td>3101298</td>\n",
       "      <td>S</td>\n",
       "    </tr>\n",
       "  </tbody>\n",
       "</table>\n",
       "</div>"
      ],
      "text/plain": [
       "   Pclass     Sex   Age  Parch   Ticket Embarked\n",
       "0       3    male  34.5      0   330911        Q\n",
       "1       3  female  47.0      0   363272        S\n",
       "2       2    male  62.0      0   240276        Q\n",
       "3       3    male  27.0      0   315154        S\n",
       "4       3  female  22.0      1  3101298        S"
      ]
     },
     "execution_count": 86,
     "metadata": {},
     "output_type": "execute_result"
    }
   ],
   "source": [
    "TEST = TEST.drop(TEST.columns[[0, 2,5,8,9]], axis=1)\n",
    "TEST.head()"
   ]
  },
  {
   "cell_type": "code",
   "execution_count": 87,
   "metadata": {},
   "outputs": [
    {
     "data": {
      "text/plain": [
       "Pclass       0\n",
       "Sex          0\n",
       "Age         86\n",
       "Parch        0\n",
       "Ticket       0\n",
       "Embarked     0\n",
       "dtype: int64"
      ]
     },
     "execution_count": 87,
     "metadata": {},
     "output_type": "execute_result"
    }
   ],
   "source": [
    "TEST.isnull().sum()"
   ]
  },
  {
   "cell_type": "code",
   "execution_count": 88,
   "metadata": {},
   "outputs": [
    {
     "data": {
      "image/png": "[encoded data removed]",
      "text/plain": [
       "<Figure size 432x288 with 1 Axes>"
      ]
     },
     "metadata": {},
     "output_type": "display_data"
    },
    {
     "name": "stdout",
     "output_type": "stream",
     "text": [
      "Stacked counts of ages with density plot line\n"
     ]
    }
   ],
   "source": [
    "# Barchart Class occurences \n",
    "fig, ax = plt.subplots()\n",
    "ax = TEST[\"Age\"].hist(bins=60, density=True,\n",
    "                       stacked=True,\n",
    "                       color='forestgreen', \n",
    "                       alpha=0.8)\n",
    "TEST[\"Age\"].plot(kind='density', \n",
    "                  color='teal')\n",
    "ax.set(xlabel='Age')\n",
    "plt.xlim(-10,85)\n",
    "plt.show()\n",
    "\n",
    "print ('Stacked counts of ages with density plot line')"
   ]
  },
  {
   "cell_type": "markdown",
   "metadata": {},
   "source": [
    "This test set is slightly skewed to the right, but it does look to a binomial distribution as in our train set. We need to set our columns of features to the same order numpy array for logistic classification. Because of the skewness we will impute the median value for the missing values."
   ]
  },
  {
   "cell_type": "code",
   "execution_count": 89,
   "metadata": {},
   "outputs": [
    {
     "name": "stdout",
     "output_type": "stream",
     "text": [
      "Median of age category TEST set:  28.0\n"
     ]
    }
   ],
   "source": [
    "#Set to numpy array\n",
    "test_age_list = []\n",
    "for i in TEST['Age']:\n",
    "    if i > 1.0:\n",
    "        test_age_list.append(i)\n",
    "\n",
    "#Calculate median\n",
    "test_med_age = statistics.median(test_age_list)\n",
    "\n",
    "print ('Median of age category TEST set: ', test_med_age)"
   ]
  },
  {
   "cell_type": "code",
   "execution_count": 90,
   "metadata": {},
   "outputs": [],
   "source": [
    "#Convert all age items to strings\n",
    "new_test_age = []\n",
    "for i in TEST['Age']:\n",
    "    new_test_age.append(str(i))"
   ]
  },
  {
   "cell_type": "code",
   "execution_count": 103,
   "metadata": {},
   "outputs": [],
   "source": [
    "#Impute function to rectify age values according to the binomial distribution\n",
    "def test_age_rect(klist):\n",
    "    #Create empty list \n",
    "    qlist = []\n",
    "    #Iterate over the agelist\n",
    "    for i in klist:\n",
    "        #Filter i on 'nan'\n",
    "        if i == 'nan':            \n",
    "            qlist.append(test_med_age)   \n",
    "        else:\n",
    "            #Append i if i is an age value\n",
    "            qlist.append(i)\n",
    "            \n",
    "        \n",
    "    #Returns list of values\n",
    "    print (qlist[:6])\n",
    "    print (type(qlist[6]))\n",
    "    \n",
    "    return qlist"
   ]
  },
  {
   "cell_type": "code",
   "execution_count": 104,
   "metadata": {},
   "outputs": [
    {
     "name": "stdout",
     "output_type": "stream",
     "text": [
      "['43.0', '28.0', '49.0', '13.0', '39.0', '32.0', '1.0', '30.0', 'nan', '5.0', '30.0', '27.0', '50.0', '49.0', '32.0', '12.0', 'nan', '41.0', '27.0', '30.0']\n",
      "[302, 276, 372, 154, 40, 210, 296, 78, 121, 379, 220, 334, 407, 82, 61, 326, 249, 245, 184, 149, 84, 23, 44, 77, 39, 199, 53, 272, 32, 268, 49, 252, 277, 152, 45, 341, 360, 319, 197, 395, 339, 389, 416, 352, 131, 200, 332, 312, 382, 134, 16, 237, 265, 69, 63, 38, 212, 18, 405, 106, 198, 57, 88, 269, 123, 282, 188, 306, 120, 187, 172, 271, 35, 283, 221, 299, 304, 285, 260, 67, 127, 286, 31, 219, 235, 155, 409, 209, 13, 50, 239, 267, 97, 309, 238, 350, 223, 17, 383, 371, 194, 108, 2, 298, 287, 109, 37, 229, 361, 95, 195, 103, 122, 203, 392, 404, 388, 381, 153, 225, 208, 133, 191, 278, 179, 310, 270, 230, 1, 68, 257, 181, 110, 59, 117, 325, 406, 408, 274, 288, 213, 100, 41, 396, 241, 354, 263, 7, 159, 86, 190, 52, 21, 255, 411, 317, 160, 413, 137, 322, 24, 281, 164, 92, 132, 156, 224, 151, 135, 27, 232, 342, 397, 144, 357, 48, 291, 79, 311, 157, 142, 228, 331, 60, 384, 266, 102, 62, 233, 180, 247, 374, 294, 366, 279, 75, 206, 150, 42, 72, 15, 362, 351, 394, 196, 295, 47, 182, 104, 74, 321, 114, 414, 204, 259, 412, 307, 11, 368, 390, 30, 226, 353, 130, 370, 345, 364, 185, 348, 34, 236, 273, 112, 107, 105, 305, 89, 171, 337, 358, 261, 175, 330, 231, 218, 113, 367, 111, 116, 177, 289, 338, 340, 165, 391, 169, 253, 211, 90, 275, 344, 256, 94, 170, 254, 308, 189, 378, 313, 51, 143, 346, 297, 373, 401, 168, 402, 385, 314, 193, 28, 81, 125, 10, 161, 173, 147, 248, 234, 26, 91, 293, 9, 124, 410, 415, 258, 375, 343, 243, 14, 93, 399, 398, 318, 178, 244, 205, 301, 70, 202, 323, 216, 56, 365, 315, 300, 55, 141, 217, 284, 403, 324, 215, 163, 242, 417, 380, 140, 176, 166, 377, 290, 29, 356, 386, 158, 240, 73, 115, 43, 201, 192, 139, 280, 349, 329, 246, 0, 64, 292, 251, 118, 12, 87, 36, 126, 355, 145, 98, 96, 347, 336, 186, 76, 128, 146, 20, 363, 99, 119, 214, 83, 5, 174, 22, 167, 80, 333, 359, 250, 25, 4, 66, 85, 33, 327, 393, 227, 136, 262, 369, 222, 58, 46, 65, 335, 148, 129, 54, 328, 3, 183, 387, 8, 207, 162, 138, 320, 6, 303, 376, 101, 264, 71, 400, 19, 316]\n"
     ]
    }
   ],
   "source": [
    "#Let's shuffle our deck\n",
    "test_set_shuffle ,order_test_set = shuffle_forward(new_test_age)\n",
    "\n",
    "#Print shuffled age list and order\n",
    "print (test_set_shuffle[:20])\n",
    "print (order_test_set)"
   ]
  },
  {
   "cell_type": "code",
   "execution_count": null,
   "metadata": {},
   "outputs": [],
   "source": [
    "#Change nan values and impute with the median\n",
    "test_age_rect(test_set_shuffle)\n",
    "(test_set_shuffle[10])\n",
    "\n",
    "#Shuffle index backwards \n",
    "shuffle_backward(new_test_age, order_test_set)\n",
    "\n",
    "#Insert Agefilter into dataframe\n",
    "t_AgeFilter = []\n",
    "for i in TEST['Age']:\n",
    "    if i <= 18:\n",
    "        t_AgeFilter.append('C')\n",
    "    else:\n",
    "        t_AgeFilter.append('A')\n",
    "        \n",
    "indexx = 0\n",
    "TEST.insert(loc=indexx, column='AgeFilter', value=t_AgeFilter)\n",
    "TEST.head()"
   ]
  },
  {
   "cell_type": "markdown",
   "metadata": {},
   "source": [
    "# To be continued..."
   ]
  },
  {
   "cell_type": "code",
   "execution_count": null,
   "metadata": {},
   "outputs": [],
   "source": []
  }
 ],
 "metadata": {
  "kernelspec": {
   "display_name": "Python 3",
   "language": "python",
   "name": "python3"
  },
  "language_info": {
   "codemirror_mode": {
    "name": "ipython",
    "version": 3
   },
   "file_extension": ".py",
   "mimetype": "text/x-python",
   "name": "python",
   "nbconvert_exporter": "python",
   "pygments_lexer": "ipython3",
   "version": "3.6.6"
  }
 },
 "nbformat": 4,
 "nbformat_minor": 2
}
